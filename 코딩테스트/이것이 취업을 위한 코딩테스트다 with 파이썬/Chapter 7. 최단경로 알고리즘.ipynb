{
 "cells": [
  {
   "cell_type": "markdown",
   "id": "55fd5f9d",
   "metadata": {},
   "source": [
    "# 최단 경로 문제\n",
    "- 가장 짧은 경로를 찾는 알고리즘\n",
    "    - 한 지점에서 다른 한 지점까지의 최단 경로\n",
    "    - 한 지점에서 다른 모든 지점까지의 최단경로\n",
    "    - 모든 지점에서 다른 모든 지점까지의 최단경로\n",
    "    \n"
   ]
  },
  {
   "cell_type": "markdown",
   "id": "0d8306c5",
   "metadata": {},
   "source": [
    "## 다익스트라 최단경로 알고리즘\n",
    "- 특정한 노드에서 출발하여 다른 모든 노드로 가는 최단 경로를 계싼\n",
    "- 음의 간선이 없을 때 정상적으로 동작\n",
    "- 그리디 알고리즘으로 분류. 매 상황에서 가장 비용이 적은 노드를 선택해 임의의 과정을 반복\n",
    "\n",
    "- 동작과정\n",
    "    1. 출발 노드를 설정\n",
    "    2. 최단거리 테이블을 초기화\n",
    "    3. 방문하지 않은 노드 중에 최단 거리가 가장 짧은 노드를 선택\n",
    "    4. 해당 노드를 거쳐 다른 노드로 가는 비용을 계산하여 최단거리 테이블을 갱신\n",
    "    5. 위 과정에서 3번과 4번을 반복"
   ]
  },
  {
   "cell_type": "markdown",
   "id": "2833d310",
   "metadata": {},
   "source": [
    "### Step 0.\n",
    "출발 노드(ex. 1번 노드)를 설정하고, 출발 노드에서 출발 노드로의 거리는 0, 나머지 노드로의 거리는 무한으로 초기화\n",
    "\n",
    "### Step 1.\n",
    "출발 노드를 거쳐 다른 노드로 가는 비용을 계산한 후 최단거리 테이블 갱신하고, 가장 짧은 노드(ex. 4번 노드)를 선택\n",
    "\n",
    "### Step 2. \n",
    "선택된 노드에서 갈 수 있는 노드까지의 거리를 통해 앞선 거리와 합계 거리(1 -> 4 - > 3 거리)를 계산함.\n",
    "\n",
    "합계 거리와 기존 거리(1 -> 3)을 비교하여 최솟값을 선택해 테이블을 갱신하고, 갱신된 거리가 최소인 노드를 선택(중복될 경우, 일반적으로 앞에 있는 노드 선택)\n",
    "\n",
    "### Step 3.\n",
    "같은 방식으로 반복하여 한 단계당 하나의 노드에 대한 최단거리를 확실히 찾음"
   ]
  },
  {
   "cell_type": "code",
   "execution_count": 7,
   "id": "d879c2a3",
   "metadata": {},
   "outputs": [
    {
     "name": "stdout",
     "output_type": "stream",
     "text": [
      "6 11\n",
      "1\n",
      "1 2 2\n",
      "1 3 5\n",
      "1 4 1\n",
      "2 3 3\n",
      "2 4 2\n",
      "3 2 3\n",
      "3 6 5\n",
      "4 3 3\n",
      "4 5 1\n",
      "5 3 1\n",
      "5 6 2\n",
      "1번 노드까지의 거리 : 0\n",
      "2번 노드까지의 거리 : 2\n",
      "3번 노드까지의 거리 : 3\n",
      "4번 노드까지의 거리 : 1\n",
      "5번 노드까지의 거리 : 2\n",
      "6번 노드까지의 거리 : 4\n"
     ]
    }
   ],
   "source": [
    "# 간단한 다익스트라 코드\n",
    "import sys\n",
    "# input = sys.stdin.readline\n",
    "INF = int(1e9)    # 무한을 의미하는 값으로 10억 선정\n",
    "\n",
    "# 노드의 개수, 간선의 개수\n",
    "n, m = map(int, input().split())\n",
    "start = int(input())    # 시작 노드\n",
    "\n",
    "# 각 노드에 연결되어 잇는 노드에 대한 정보를 담은 리스트\n",
    "graph = [[] for i in range(n+1)]\n",
    "visited = [False] * (n+1)\n",
    "distance = [INF] * (n+1)\n",
    "\n",
    "for _ in range(m):\n",
    "    a, b, c = map(int, input().split()) \n",
    "    # a번 노드에서 b번 노드로 가는 비용이 c라는 의미\n",
    "    graph[a].append((b, c))\n",
    "    \n",
    "\n",
    "# 방문하지 않은 노드 중에서 가장 최단거리가 짧은 노드의 번호를 반환\n",
    "def get_smallest_node():\n",
    "    min_value = INF\n",
    "    index = 0 \n",
    "    for i in range(1, n+1):\n",
    "        if distance[i] < min_value and not visited[i]:\n",
    "            min_value = distance[i]\n",
    "            index = i\n",
    "    return index\n",
    "\n",
    "def dijkstra(start):\n",
    "    distance[start] = 0\n",
    "    visited[start] = True\n",
    "    for j in graph[start]:\n",
    "        distance[j[0]] = j[1]\n",
    "        \n",
    "    # 시작 노드를 제외한 전체 n-1개 노드에 대해 반복\n",
    "    for i in range(n-1):\n",
    "        # 현재 최단거리가 가장 짧은 노드를 꺼내 방문처리\n",
    "        now = get_smallest_node()\n",
    "        visited[now] = True\n",
    "        \n",
    "        # 현재 노드와 연결된 다른 노드를 확인\n",
    "        for j in graph[now]:\n",
    "            cost = distance[now] + j[1]\n",
    "            if cost < distance[j[0]]:\n",
    "                distance[j[0]] = cost\n",
    "                \n",
    "dijkstra(start)\n",
    "    \n",
    "# 모든 노드로 가기 위한 최단 거리를 출력\n",
    "for i in range(1, n+1):\n",
    "    if distance[i] == INF:\n",
    "        print('INFINITY')\n",
    "    else:\n",
    "        print('{}번 노드까지의 거리 :'.format(i), distance[i])"
   ]
  },
  {
   "cell_type": "markdown",
   "id": "9767fec6",
   "metadata": {},
   "source": [
    "전체 시간 복잡도는 $O(V^2)$이기 때문에, 전체 노드의 개수가 5,000개 이하라면 이 코드로 가능\n",
    "\n",
    "하지만 노드의 개수가 10,000개를 넘어간다면? -> 우선순위 큐 라는 개념"
   ]
  },
  {
   "cell_type": "markdown",
   "id": "e082cb9f",
   "metadata": {},
   "source": [
    "### 우선순위 큐(Priority Queue)\n",
    "\n",
    "- 우선순위가 가장 높은 데이터를 가장 먼저 삭제하는 자료구조\n",
    "\n",
    "#### 힙(Heap)\n",
    "- 우선순위 큐를 구현하기 위해 사용하는 자료구조 중 하나\n",
    "- 최소 힙(Min Heap)과 최대 힙(Max Heap)이 있음.\n",
    "    - 최소 힙은 가장 값이 작은 데이터부터 꺼내고, 최대 힙은 가장 값이 큰 값부터 꺼냄\n",
    " "
   ]
  },
  {
   "cell_type": "code",
   "execution_count": 11,
   "id": "5f36c639",
   "metadata": {},
   "outputs": [
    {
     "name": "stdout",
     "output_type": "stream",
     "text": [
      "[0, 1, 2, 3, 4, 5, 6, 7, 8, 9]\n"
     ]
    }
   ],
   "source": [
    "# 힙 라이브러리 사용 예제 : 최소 힙\n",
    "import heapq\n",
    "\n",
    "# 오름차순 힙 정렬\n",
    "def heapsort(iterable):\n",
    "    h = []\n",
    "    result = []\n",
    "    for value in iterable:\n",
    "        heapq.heappush(h, value)   # h에 값을 삽입\n",
    "    \n",
    "    for i in range(len(h)):\n",
    "        result.append(heapq.heappop(h))\n",
    "    return result\n",
    "\n",
    "result = heapsort([1, 3, 5, 7, 9, 2, 4, 6, 8, 0])\n",
    "print(result)"
   ]
  },
  {
   "cell_type": "code",
   "execution_count": 13,
   "id": "d330cf7e",
   "metadata": {},
   "outputs": [
    {
     "name": "stdout",
     "output_type": "stream",
     "text": [
      "[9, 8, 7, 6, 5, 4, 3, 2, 1, 0]\n"
     ]
    }
   ],
   "source": [
    "# 힙 라이브러리 사용 예제 : 최대 힙\n",
    "import heapq\n",
    "\n",
    "# 오름차순 힙 정렬\n",
    "def heapsort(iterable):\n",
    "    h = []\n",
    "    result = []\n",
    "    for value in iterable:\n",
    "        heapq.heappush(h, -value)  \n",
    "    \n",
    "    for i in range(len(h)):\n",
    "        result.append(-heapq.heappop(h))\n",
    "    return result\n",
    "\n",
    "result = heapsort([1, 3, 5, 7, 9, 2, 4, 6, 8, 0])\n",
    "print(result)"
   ]
  },
  {
   "cell_type": "markdown",
   "id": "64ba5381",
   "metadata": {},
   "source": [
    "### 개선된 다익스트라 알고리즘\n",
    "- 단계마다 방문하지 않은 노드 중에 최단거리가 가장 짧은 노드를 선택하기 위해 힙 자료구조를 이용\n",
    "- 즉 최소힙을 사용"
   ]
  },
  {
   "cell_type": "code",
   "execution_count": 14,
   "id": "c9a5cd04",
   "metadata": {},
   "outputs": [
    {
     "name": "stdout",
     "output_type": "stream",
     "text": [
      "6 11\n",
      "1 \n",
      "1 2 2\n",
      "1 3 5\n",
      "1 4 1\n",
      "2 3 3\n",
      "2 4 2\n",
      "3 2 3\n",
      "3 6 5\n",
      "4 3 3\n",
      "4 5 1\n",
      "5 3 1\n",
      "5 6 2\n",
      "1번째 노드까지의 거리 : 0\n",
      "2번째 노드까지의 거리 : 2\n",
      "3번째 노드까지의 거리 : 3\n",
      "4번째 노드까지의 거리 : 1\n",
      "5번째 노드까지의 거리 : 2\n",
      "6번째 노드까지의 거리 : 4\n"
     ]
    }
   ],
   "source": [
    "# 개선된 다익스트라 알고리즘 : 힙큐를 이용한 방법\n",
    "import heapq\n",
    "INF = int(1e9)\n",
    "\n",
    "# 노드의 수, 간선의 개수\n",
    "n, m = map(int, input().split())\n",
    "start = int(input())\n",
    "graph = [[] for i in range(n+1)]\n",
    "distance = [INF]*(n+1)\n",
    "\n",
    "for _ in range(m):\n",
    "    a, b, c = map(int, input().split())\n",
    "    graph[a].append((b, c))\n",
    "    \n",
    "def dijkstra(start):\n",
    "    q = []\n",
    "    # 시작 노드로 가기 위한 최단 경로는 0으로 설정하여 큐에 삽입\n",
    "    heapq.heappush(q, (0, start))\n",
    "    distance[start] = 0\n",
    "    \n",
    "    while q:\n",
    "        dist, now = heapq.heappop(q)\n",
    "        # 현재 노드가 이미 처리된 적이 있는 노드라면 무시\n",
    "        if distance[now] < dist:\n",
    "            continue\n",
    "        \n",
    "        for i in graph[now]:\n",
    "            cost = dist + i[1]\n",
    "            if cost < distance[i[0]]:\n",
    "                distance[i[0]] = cost\n",
    "                heapq.heappush(q, (cost, i[0]))\n",
    "                \n",
    "dijkstra(start)\n",
    "\n",
    "for i in range(1, n+1):\n",
    "    if distance[i] == INF:\n",
    "        print('INFINITY')\n",
    "    else:\n",
    "        print('{}번째 노드까지의 거리 :'.format(i), distance[i])"
   ]
  },
  {
   "cell_type": "markdown",
   "id": "2bb30d07",
   "metadata": {},
   "source": [
    "- 힙 자료구조를 이용하는 다익스트라 알고리즘의 시간 복잡도는 $Elog(V)$로 훨씬 빠름"
   ]
  },
  {
   "cell_type": "markdown",
   "id": "1816332d",
   "metadata": {},
   "source": [
    "## 플로이드 워셜 알고리즘\n",
    "- 모든 노드에서 다른 모든 노드까지의 최단 경로를 모두 계산\n",
    "- 각 단계마다 특정한 노드 k를 거쳐가는 경우를 확인\n",
    "    - $D_{ab} = min(D_{ab}, D_{ak} + D_{kb})$\n"
   ]
  },
  {
   "cell_type": "code",
   "execution_count": 257,
   "id": "74e3b28f",
   "metadata": {},
   "outputs": [
    {
     "name": "stdout",
     "output_type": "stream",
     "text": [
      "4\n",
      "7\n",
      "1 2 4\n",
      "1 4 6\n",
      "2 1 3\n",
      "2 3 7\n",
      "3 1 5\n",
      "3 4 4\n",
      "4 3 2\n",
      "0 4 8 6 \n",
      "3 0 7 9 \n",
      "5 9 0 4 \n",
      "7 11 2 0 \n"
     ]
    }
   ],
   "source": [
    "INF = int(1e9)\n",
    "\n",
    "# 노드의 수(n), 간선의 수(m)\n",
    "n = int(input())\n",
    "m = int(input())\n",
    "\n",
    "# 2차원 거리 그래프를 만듬\n",
    "graph = [[INF] * (n+1) for _ in range(n+1)]\n",
    "\n",
    "# 자기 자신 노드로 가는 비용은 0으로 초기화\n",
    "for a in range(1, n+1):\n",
    "    graph[a][a] = 0\n",
    "\n",
    "# 각 간선에 대한 정보를 입력받아 그 값으로 초기화\n",
    "for _ in range(m):\n",
    "    a, b, c = map(int, input().split())\n",
    "    graph[a][b] = c\n",
    "    \n",
    "for k in range(1, n+1):\n",
    "    for a in range(1, n+1):\n",
    "        for b in range(1, n+1):\n",
    "            graph[a][b] = min(graph[a][b], graph[a][k] + graph[k][b])\n",
    "            \n",
    "for a in range(1, n+1):\n",
    "    for b in range(1, n+1):\n",
    "        if graph[a][b] == INF:\n",
    "            print('INFINITY', end = '')\n",
    "        else:\n",
    "            print(graph[a][b], end=' ')\n",
    "    print()"
   ]
  },
  {
   "cell_type": "markdown",
   "id": "9a04f9c8",
   "metadata": {},
   "source": [
    "### <문제> 전보\n",
    "- 어떤 나라에는 N개의 도시가 있다. 각 도시는 보내고자 하는 메시지가 있는 경우 다른 도시로 전보를 보내서 메시지를 전송할 수 있다.\n",
    "- X 도시에서 Y 도시로 전보를 보내고자 한다면, X에서 Y로 향하는 단방향 통로가 있어야 한다. \n",
    "- 어느 날 C 도시에서 위급상황이 터져 최대한 많은 도시로 메시지를 보내고자 한다.\n",
    "- 각 도시의 번호와 통로가 설치되어 있는 정보가 주어졌을 때, 도시 C에서 보낸 메시지를 받게되는 도시의 개수와 메시지를 받을 수 있는 모든 도시가 메시지를 받는데 걸리는 시간을 계산하는 프로그램을 작성"
   ]
  },
  {
   "cell_type": "code",
   "execution_count": 303,
   "id": "b9ea55d2",
   "metadata": {},
   "outputs": [
    {
     "name": "stdout",
     "output_type": "stream",
     "text": [
      "3 2 1\n",
      "1 2 4\n",
      "1 3 2\n",
      "\n",
      " [2, 4]\n"
     ]
    }
   ],
   "source": [
    "# 도시의 개수, 통로의 개수, 메시지를 보내고자 하는 도시\n",
    "n, m, c = map(int, input().split())\n",
    "graph = [[] for _ in range(n+1)]\n",
    "for _ in range(m):\n",
    "    x, y, z = map(int, input().split())\n",
    "    graph[x].append((y, z))\n",
    "q = [(0, c)]\n",
    "distance = [INF]*(n+1)\n",
    "distance[c] = 0\n",
    "import heapq\n",
    "\n",
    "def dijkstra(start): \n",
    "    while q:\n",
    "        dist, now = heapq.heappop(q)\n",
    "        \n",
    "        if dist > distance[now]:\n",
    "            continue\n",
    "        \n",
    "        for i in graph[now]:\n",
    "            if i[1] + dist < distance[i[0]]:\n",
    "                distance[i[0]] = i[1] + dist\n",
    "                heapq.heappush(q, (distance[i[0]] ,i[0]))\n",
    "        \n",
    "    total_city = 0\n",
    "    max_time = 0\n",
    "    for i in range(1, n+1):\n",
    "        if distance[i] != INF and distance[i] != 0:\n",
    "            total_city += 1\n",
    "            max_time = max(max_time, distance[i])\n",
    "            \n",
    "    return [total_city, max_time]\n",
    "\n",
    "print('\\n', dijkstra(c))"
   ]
  },
  {
   "cell_type": "markdown",
   "id": "c5a168d2",
   "metadata": {},
   "source": [
    "### <문제> 미래 도시\n",
    "- 미래 도시에는 1번부터 N번까지의 회사가 있는데 특정 회사끼리는 서로 도로를 통해 연결되어 있음\n",
    "- 방문 판매원은 현재 1번 회사에 위치해있으며, X번 회사에 방문해 물건을 판매하고자 한다.\n",
    "- 미래 도시에서 특정 회사까지 가기 위해선 회사끼리 연결되어 있는 도로를 이용해야 하며, 도로는 양방향이고 한 도로를 통과하는덴 1만큼의 시간이 소요\n",
    "- 방문 판매원이 1번 회사에서 출발하여 k번 회사를 방문한 뒤에 x번 회사로 가는 것이 목표인데, 이 과정의 최소시간을 계산"
   ]
  },
  {
   "cell_type": "code",
   "execution_count": 342,
   "id": "5c157fc1",
   "metadata": {},
   "outputs": [
    {
     "name": "stdout",
     "output_type": "stream",
     "text": [
      "4 2\n",
      "1 3\n",
      "2 4\n",
      "3 4\n",
      "-1\n"
     ]
    }
   ],
   "source": [
    "n, m = map(int, input().split())\n",
    "graph = [[] for _ in range(n+1)]\n",
    "\n",
    "for _ in range(m):\n",
    "    x, y = map(int, input().split())\n",
    "    graph[x].append(y)\n",
    "    graph[y].append(x) \n",
    "INF = int(1e9)\n",
    "x, k = map(int, input().split())\n",
    "distance_k = [INF] * (n+1)\n",
    "distance_x = distance_k.copy()\n",
    "distance_k[1] = 0\n",
    "distance_x[k] = 0\n",
    "answer = 0\n",
    "\n",
    "from collections import deque\n",
    "q = deque([[1, distance_k[1]]])\n",
    "stop = False\n",
    "\n",
    "while q:\n",
    "    now, dist = q.popleft()\n",
    "    for i in graph[now]:\n",
    "        if distance_k[i] > dist + 1:\n",
    "            distance_k[i] = dist + 1\n",
    "            q.append([i, distance_k[i]])\n",
    "        if i == k:\n",
    "            answer = distance_k[i]\n",
    "            stop = True\n",
    "            break\n",
    "    if stop:\n",
    "        break\n",
    "\n",
    "stop = False\n",
    "q = deque([[k, distance_x[k]]])\n",
    "while q:\n",
    "    now, dist = q.popleft()\n",
    "    \n",
    "    for i in graph[now]:\n",
    "        if distance_x[i] > dist + 1:\n",
    "            distance_x[i] = dist + 1\n",
    "            q.append([i, distance_x[i]])\n",
    "        \n",
    "        if i == x:\n",
    "            answer = answer + distance_x[i]\n",
    "            stop = True\n",
    "            break\n",
    "    if stop:\n",
    "        break\n",
    "\n",
    "        \n",
    "if answer == 0:\n",
    "    print(-1)\n",
    "else:\n",
    "    print(answer)"
   ]
  },
  {
   "cell_type": "markdown",
   "id": "099eb8fd",
   "metadata": {},
   "source": [
    "- 다익스트라 알고리즘 2번 반복해서 1 -> k, k -> x 최단거리 계산으로 해결"
   ]
  },
  {
   "cell_type": "code",
   "execution_count": 343,
   "id": "11ff547e",
   "metadata": {},
   "outputs": [
    {
     "name": "stdout",
     "output_type": "stream",
     "text": [
      "5 7\n",
      "1 2\n",
      "1 3\n",
      "1 4\n",
      "2 4\n",
      "3 4\n",
      "3 5\n",
      "4 5\n",
      "4 5\n",
      "3\n"
     ]
    }
   ],
   "source": [
    "# 플로이드 워셜 이용한 답안 예시\n",
    "INF = int(1e9)\n",
    "\n",
    "n, m = map(int, input().split())\n",
    "graph = [[INF] * (n+1) for _ in range(n+1)]\n",
    "\n",
    "for a in range(1, n+1):\n",
    "    graph[a][a] = 0\n",
    "    \n",
    "for _ in range(m):\n",
    "    a, b = map(int, input().split())\n",
    "    graph[a][b] = 1\n",
    "    graph[b][a] = 1\n",
    "    \n",
    "x, k = map(int, input().split())\n",
    "\n",
    "for k in range(1, n+1):\n",
    "    for a in range(1, n+1):\n",
    "        for b in range(1, n+1):\n",
    "            graph[a][b] = min(graph[a][b], graph[a][k] + graph[k][b])\n",
    "\n",
    "answer = graph[1][k] + graph[k][x]\n",
    "\n",
    "if answer >= INF:\n",
    "    print('-1')\n",
    "else:\n",
    "    print(answer)"
   ]
  }
 ],
 "metadata": {
  "kernelspec": {
   "display_name": "Python 3 (ipykernel)",
   "language": "python",
   "name": "python3"
  },
  "language_info": {
   "codemirror_mode": {
    "name": "ipython",
    "version": 3
   },
   "file_extension": ".py",
   "mimetype": "text/x-python",
   "name": "python",
   "nbconvert_exporter": "python",
   "pygments_lexer": "ipython3",
   "version": "3.9.12"
  }
 },
 "nbformat": 4,
 "nbformat_minor": 5
}
