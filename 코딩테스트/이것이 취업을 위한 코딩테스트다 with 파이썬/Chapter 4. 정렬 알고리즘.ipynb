{
 "cells": [
  {
   "cell_type": "markdown",
   "id": "a1ba201f",
   "metadata": {},
   "source": [
    "# 정렬 알고리즘\n",
    "\n",
    "- **정렬(Sorting)**이란 데이터를 특정한 기준에 따라 순서대로 나열하는 것\n",
    "- 일반적으로 문제 상황에 따라 적절한 정렬 알고리즘이 공식처럼 사용\n",
    "\n",
    "## 선택 정렬\n",
    "- 처리되지 않은 데이터 중에 가장 작은 데이터를 선택해 맨 앞에 있는 데이터와 바꾸는 것을 반복\n",
    "- 즉 숫자를 오름차순으로 정렬한다고 가정했을 때, 정렬처리 되지 않은 데이터 중 가장 작은 값을 맨 앞의 값과 바꾸는 방식\n",
    "\n"
   ]
  },
  {
   "cell_type": "code",
   "execution_count": 1,
   "id": "2448abe6",
   "metadata": {},
   "outputs": [
    {
     "name": "stdout",
     "output_type": "stream",
     "text": [
      "[0, 1, 2, 3, 4, 5, 6, 7, 8, 9]\n"
     ]
    }
   ],
   "source": [
    "# 선택 정렬 소스코드\n",
    "\n",
    "array = [7, 5, 9, 0, 3, 1, 6, 2, 4, 8]\n",
    "\n",
    "for i in range(len(array)):\n",
    "    min_index = i    # 가장 작은 원소의 인덱스\n",
    "    for j in range(i+1, len(array)):\n",
    "        if array[min_index] > array[j]:\n",
    "            min_index = j\n",
    "    \n",
    "    array[i], array[min_index] = array[min_index], array[i]  # 스와프\n",
    "    \n",
    "print(array)"
   ]
  },
  {
   "cell_type": "markdown",
   "id": "d5f6c914",
   "metadata": {},
   "source": [
    "시간 복잡도는 N + (N-1) + (N-2) + ... + 2 이기 때문에 $O(N^2)$"
   ]
  },
  {
   "cell_type": "markdown",
   "id": "531874b1",
   "metadata": {},
   "source": [
    "## 삽입 정렬\n",
    "\n",
    "- 처리되지 않은 데이터를 하나씩 골라 적절한 위치에 삽입\n",
    "- 선택 정렬에 비해 구현 난이도가 높은 편이지만, 일반적으로 선택 정렬보다 빠름\n",
    "- 맨 앞에 있는 원소는 정렬되어 있다고 가정하고 나머지 데이터들이 어떤 위치에 들어갈지를 일일히 판단 (삽입된 후엔 그 데이터 또한 정렬 되었다고 가정)\n"
   ]
  },
  {
   "cell_type": "code",
   "execution_count": 2,
   "id": "73a6497e",
   "metadata": {
    "scrolled": true
   },
   "outputs": [
    {
     "name": "stdout",
     "output_type": "stream",
     "text": [
      "[0, 1, 2, 3, 4, 5, 6, 7, 8, 9]\n"
     ]
    }
   ],
   "source": [
    "# 삽입 정렬 소스코드\n",
    "\n",
    "array = [7, 5, 9, 0, 3, 1, 6, 2, 4, 8]\n",
    "\n",
    "for i in range(1, len(array)):\n",
    "    for j in range(i, 0, -1):   # 인덱스 i부터 1까지 1씩 감소\n",
    "        if array[j] < array[j-1]:  # 한칸씩 왼쪽으로 이동\n",
    "            array[j], array[j-1] = array[j-1], array[j]\n",
    "        else:\n",
    "            break\n",
    "            \n",
    "print(array)"
   ]
  },
  {
   "cell_type": "markdown",
   "id": "42f80795",
   "metadata": {},
   "source": [
    "시간 복잡도는 마찬가지로 2중 for문이라 $O(N^2)$.\n",
    "\n",
    "보통은 삽입 정렬이 비효율적이나 정렬이 거의 되어 있는 상태에서는 매우 빠르게 동작"
   ]
  },
  {
   "cell_type": "markdown",
   "id": "92d0484b",
   "metadata": {},
   "source": [
    "## 퀵 정렬\n",
    "- 기준 데이터를 설정하고 그 기준보다 큰 데이터와 작은 데이터의 위치를 바꾸는 방법\n",
    "- 일반적인 상황에서 가장 많이 사용되는 정렬 알고리즘 중 하나\n",
    "- 가장 기본적인 퀵 정렬은 첫 번째 데이터를 기준 데이터(Pivot)으로 설정\n",
    "- 피벗의 값보다 큰 값을 왼쪽에서부터 선택하고, 오른쪽에서부터 피벗의 값보다 작은 값을 선택한 후 두 데이터의 위치를 변경\n",
    "    - 이후 바꾼 데이터를 제외하고 같은 과정 반복\n",
    "    - 만약 작은값과 큰 값의 위치가 엇갈리는 경우(크로스 하는 경우) 피벗과 작은데이터의 위치를 서로 변경\n",
    "    - 그렇게 되면 피벗 값의 왼쪽에 있는 데이터는 모두 피벗보다 작고, 오른쪽은 모두 피벗보다 큼. 이걸 분할했다고 표현하며, 각각의 분할된 데이터별로 같은 정렬을 반복하여 최종 정렬\n",
    " \n",
    "- 이상적인 경우 분할이 절반씩 일어난다면 전체 연산 횟수은 $O(NlogN)$\n",
    "- 하지만 최악의 경우(이미 정렬된 배열에 대해 퀵 정렬을 수행하는데, 첫 번째 원소를 피벗으로 삼음) $O(N^2)$"
   ]
  },
  {
   "cell_type": "code",
   "execution_count": 4,
   "id": "cbb3da6b",
   "metadata": {},
   "outputs": [
    {
     "name": "stdout",
     "output_type": "stream",
     "text": [
      "[0, 1, 2, 3, 4, 5, 6, 7, 8, 9]\n"
     ]
    }
   ],
   "source": [
    "# 퀵 정렬 소스코드\n",
    "\n",
    "array = [7, 5, 9, 0, 3, 1, 6, 2, 4, 8]\n",
    "\n",
    "def quick_sort(array, start, end):\n",
    "    if start >= end:  # 원소가 1개인 경우\n",
    "        return\n",
    "    \n",
    "    pivot = start    # 첫번째 원소\n",
    "    left = start + 1\n",
    "    right = end\n",
    "    while left <= right:\n",
    "        # 피벗보다 큰 데이터를 찾을때까지 반복\n",
    "        while left <= end and array[left] <= array[pivot]:\n",
    "            left += 1\n",
    "        while right > start and array[right] >= array[pivot]:\n",
    "            right -= 1\n",
    "        if left > right:    # 엇갈림\n",
    "            array[right], array[pivot] = array[pivot], array[right]\n",
    "        else:   # 엇갈리지 않음\n",
    "            array[left], array[right] = array[right], array[left]\n",
    "    # 분할 이후 왼쪽 부분과 오른쪽 부분에서 정렬 수행        \n",
    "    quick_sort(array, start, right - 1)\n",
    "    quick_sort(array, right + 1, end)\n",
    "    \n",
    "quick_sort(array, 0, len(array)-1)\n",
    "print(array)"
   ]
  },
  {
   "cell_type": "code",
   "execution_count": 5,
   "id": "d754aba1",
   "metadata": {},
   "outputs": [
    {
     "name": "stdout",
     "output_type": "stream",
     "text": [
      "[0, 1, 2, 3, 4, 5, 6, 7, 8, 9]\n"
     ]
    }
   ],
   "source": [
    "# 퀵 소스코드 : 파이썬 장점을 살린 방식\n",
    "\n",
    "array = [7, 5, 9, 0, 3, 1, 6, 2, 4, 8]\n",
    "\n",
    "def quick_sort(array):\n",
    "    if len(array) <= 1:\n",
    "        return array\n",
    "    pivot = array[0]\n",
    "    tail = array[1:]   # 피벗을 제외한 리스트\n",
    "    \n",
    "    left_side = [x for x in tail if x <= pivot]  # 분할된 왼쪽부분\n",
    "    right_side = [x for x in tail if x > pivot]\n",
    "    \n",
    "    return quick_sort(left_side) + [pivot] + quick_sort(right_side)\n",
    "\n",
    "print(quick_sort(array))"
   ]
  },
  {
   "cell_type": "markdown",
   "id": "4b69fa5d",
   "metadata": {},
   "source": [
    "## 계수 정렬\n",
    "- 특정한 조건이 부합할 때만 사용할 수 있지만 매우 빠르게 동작\n",
    "    - 데이터의 크기 범위가 제한되어 정수 형태로 표현 가능할 때 사용가능\n",
    "    \n",
    "- 데이터의 개수가 N, 데이터(양수) 중 최댓값이 K일 때 최악의 경우에도 수행시간 $O(N+K)$를 보장.\n",
    "\n",
    "1. 가장 작은 데이터부터 가장 큰 데이터까지의 범위가 모두 담길 수 있도록 리스트를 생성 (0 1 2 2 2 3 이면 0 0 0 0의 네가지 인덱스를 가진 리스트 생성)\n",
    "2. 데이터를 하나씩 확인하며 데이터의 값과 동일한 인덱스의 데이터를 1씩 증가\n",
    "3. 결과를 확인할 때는 리스트의 첫번째 데이터부터 하나씩 그 값만큼 반복하여 인덱스를 출력"
   ]
  },
  {
   "cell_type": "code",
   "execution_count": 7,
   "id": "87cdb8a0",
   "metadata": {},
   "outputs": [
    {
     "name": "stdout",
     "output_type": "stream",
     "text": [
      "0 0 1 1 2 2 3 4 5 5 6 7 8 9 9 "
     ]
    }
   ],
   "source": [
    "# 계수 정렬 소스코드\n",
    "# 모든 원소의 값은 0보다 크거나 같아야 함\n",
    "array = [7, 5, 9, 0, 3, 1, 6, 2, 9, 1, 4, 8, 0, 5, 2]\n",
    "# 모든 범위를 포함하는 리스트 선언\n",
    "count = [0]*(max(array)+1)\n",
    "\n",
    "for i in range(len(array)):\n",
    "    count[array[i]] += 1\n",
    "    \n",
    "for i in range(len(count)):\n",
    "    for j in range(count[i]):\n",
    "        print(i, end=' ')"
   ]
  },
  {
   "cell_type": "markdown",
   "id": "42c8c5f0",
   "metadata": {},
   "source": [
    "- 때에 따라서 심각한 비효율성 초래 가능\n",
    "    - 데이터가 0과 999,999로 단 2개만 존재하는 경우\n",
    "- 중복 값이 여러개 등장할 때 효과적으로 사용 가능"
   ]
  },
  {
   "cell_type": "markdown",
   "id": "286d7413",
   "metadata": {},
   "source": [
    "## 정렬 알고리즘 비교\n",
    "1. 선택 정렬 : 아이디어가 매우 간단\n",
    "2. 삽입 정렬 : 데이터가 거의 정렬되어 있을 때 가장 빠름\n",
    "3. 퀵 정렬 : 대부분의 경우 적합\n",
    "4. 계수 정렬 : 데이터의 크기가 한정되어 있는 경우에만 사용이 가능하지만 매우 빠름"
   ]
  },
  {
   "cell_type": "markdown",
   "id": "1fba49eb",
   "metadata": {},
   "source": [
    "### <문제> 두 배열의 원소 교체\n",
    "\n",
    "- 동빈이는 두 배열 A와 B를 가지고 있다. 두 배열은 N개의 원소로 구성되며, 배열의 원소는 모두 자연수이다.\n",
    "- 동빈이는 최대 K번의 바꿔치기 연산을 수행할 수 있는데, 바꿔치기 연산이란 배열 A에 있는 원소 하나와 배열 B에 있는 원소 하나를 골라서 서로 바꾸는 것을 뜻함\n",
    "- 동빈이의 최종 목표는 배열 A의 모든 원소의 합이 최대가 되도록 하는 것\n",
    "- 바꿔치기 연산 수행 이후 만들 수 있는 배열 A의 모든 원소의 합의 최댓값을 출력하는 프로그램을 작성"
   ]
  },
  {
   "cell_type": "code",
   "execution_count": 10,
   "id": "c4342d73",
   "metadata": {},
   "outputs": [
    {
     "name": "stdout",
     "output_type": "stream",
     "text": [
      "5 3\n",
      "1 2 5 4 3\n",
      "5 5 6 6 5\n"
     ]
    },
    {
     "data": {
      "text/plain": [
       "26"
      ]
     },
     "execution_count": 10,
     "metadata": {},
     "output_type": "execute_result"
    }
   ],
   "source": [
    "n, k = map(int, input().split())\n",
    "a = list(map(int, input().split()))\n",
    "b = list(map(int, input().split()))\n",
    "\n",
    "a.sort()\n",
    "b.sort(reverse=True)\n",
    "for i in range(k):\n",
    "    if a[0] < b[0]:\n",
    "        a[0], b[0] = b[0], a[0]\n",
    "        a.sort()\n",
    "        b.sort(reverse=True)\n",
    "    else:\n",
    "        break\n",
    "        \n",
    "sum(a)"
   ]
  },
  {
   "cell_type": "markdown",
   "id": "bccde89e",
   "metadata": {},
   "source": [
    "앞에서 배운 정렬 종류 안따져도 걍 .sort()랑 sorted()로 가능.."
   ]
  }
 ],
 "metadata": {
  "kernelspec": {
   "display_name": "Python 3 (ipykernel)",
   "language": "python",
   "name": "python3"
  },
  "language_info": {
   "codemirror_mode": {
    "name": "ipython",
    "version": 3
   },
   "file_extension": ".py",
   "mimetype": "text/x-python",
   "name": "python",
   "nbconvert_exporter": "python",
   "pygments_lexer": "ipython3",
   "version": "3.9.12"
  }
 },
 "nbformat": 4,
 "nbformat_minor": 5
}
