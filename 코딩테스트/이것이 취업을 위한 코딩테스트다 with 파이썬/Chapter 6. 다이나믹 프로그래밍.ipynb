{
 "cells": [
  {
   "cell_type": "markdown",
   "id": "e85b3183",
   "metadata": {},
   "source": [
    "# 다이나믹 프로그래밍\n",
    "- **메모리를 적절히 사용하여 수행시간 효율성을 비약적으로 향상시키는 방법**\n",
    "- 이미 계산된 결과를 별도의 메모리 영역에 저장하여 다시 계산하지 않도록 함\n",
    "- 일반적으로 두 가지 방식(탑다운과 바텀업)으로 구성\n",
    "\n",
    "\n",
    "- 여기서 동적(Dynamic)은 별다른 의미 없이 사용된 단어.\n",
    "    - 자료구조에서 동적 할당은 프로그램이 실행되는 도중에 실행에 필요한 메모리를 할당하는 기법을 의미\n",
    "    \n",
    "- 다이나믹 프로그래밍은 문제가 다음의 조건을 만족할 때 사용 가능\n",
    "    1. 최적 부분 구조(Optimal Substructure)\n",
    "        - 큰 문제를 작은 문제로 나눌 수 있고, 작은 문제의 답을 모아서 큰 문제를 해결\n",
    "    2. 중복되는 부분 문제(Overlapping Subproblem)\n",
    "        - 동일한 작은 문제를 반복적으로 해결해야 함"
   ]
  },
  {
   "cell_type": "markdown",
   "id": "a06335ca",
   "metadata": {},
   "source": [
    "### 피보나치 수열 예시\n",
    "$a_n = a_{n-1} + a_{n-2}, a_1=1, a_2 = 1$ "
   ]
  },
  {
   "cell_type": "code",
   "execution_count": 3,
   "id": "63a0d3a6",
   "metadata": {},
   "outputs": [
    {
     "name": "stdout",
     "output_type": "stream",
     "text": [
      "3\n"
     ]
    }
   ],
   "source": [
    "# 예시 코드\n",
    "## 재귀 버전\n",
    "def fibo(x):\n",
    "    if x == 1 or x == 2:\n",
    "        return 1\n",
    "    return fibo(x-1) + fibo(x-2)\n",
    "\n",
    "print(fibo(4))"
   ]
  },
  {
   "cell_type": "markdown",
   "id": "48a552db",
   "metadata": {},
   "source": [
    "피보나치 수열 문제의 경우 Optimal Substructure, Overlapping Subproblem 모두 충족하기 때문에 DP 가능\n",
    "\n",
    "- 메모이제이션(Memoiation) : 하향식(TopDown) 방식을 위해 사용\n",
    "    - 다이나믹 프로그래밍을 구현하는 방법 중 하나\n",
    "    - 한 번 계산한 결과를 메모리 공간에 메모하는 기법\n",
    "        - 같은 문제를 다시 호출하면 메모했던 결과를 그대로 가져옴\n",
    "        - 값을 기록해 놓는다는 점에서 캐싱(Caching)이라고도 부름\n",
    "        \n",
    "- 메모이제이션은 DP에만 국한된 개념은 아니고, 한 번 계산된 결과를 담아놓기만 하고 DP를 위해 사용하지 않을 수도 있음"
   ]
  },
  {
   "cell_type": "code",
   "execution_count": 5,
   "id": "29d5bc2f",
   "metadata": {},
   "outputs": [
    {
     "name": "stdout",
     "output_type": "stream",
     "text": [
      "218922995834555169026\n"
     ]
    }
   ],
   "source": [
    "## 피보나치 : 탑다운 DP 소스코드\n",
    "\n",
    "d = [0]*100\n",
    "\n",
    "def fibo(x):\n",
    "    if x == 1 or x == 2:\n",
    "        return 1\n",
    "    \n",
    "    # 이전에 계산했던 문제라면 그대로 반환\n",
    "    if d[x] != 0:\n",
    "        return d[x]\n",
    "    \n",
    "    d[x] = fibo(x-1) + fibo(x-2)\n",
    "    return d[x]\n",
    "\n",
    "print(fibo(99))"
   ]
  },
  {
   "cell_type": "code",
   "execution_count": 6,
   "id": "973e63d2",
   "metadata": {},
   "outputs": [
    {
     "name": "stdout",
     "output_type": "stream",
     "text": [
      "218922995834555169026\n"
     ]
    }
   ],
   "source": [
    "## 피보나치 : 바텀업 DP 코드\n",
    "\n",
    "d = [0]*100\n",
    "\n",
    "d[1] = 1\n",
    "d[2] = 1\n",
    "n = 99\n",
    "\n",
    "# 반복문으로 구현\n",
    "for i in range(3, n+1):\n",
    "    d[i] = d[i-1] + d[i-2]\n",
    "\n",
    "print(d[n])"
   ]
  },
  {
   "cell_type": "markdown",
   "id": "c77bea7b",
   "metadata": {},
   "source": [
    "### 다이나믹 프로그래밍 문제에 접근하는 방법\n",
    "- 주어진 문재가 DP 유형임을 파악하는 것이 중요\n",
    "- 가장 먼저 그리디, 구현, 완전 탐색 등의 아이디어로 문제를 해결할 수 있는지 검토하고, 안된다면 DP 고려"
   ]
  },
  {
   "cell_type": "markdown",
   "id": "bae84f98",
   "metadata": {},
   "source": [
    "### <문제> 개미 전사\n",
    "- 개미 전사는 부족한 식량을 충당하고자 메뚜기 마을의 식량창고를 몰래 공격하고자 한다. 메뚜기 마을에는 여러 개의 식량창고가 있는데, 식량창고는 일직선으로 이어져있음\n",
    "- 각 식량창고에는 정해진 수의 식량을 저장하고 있으며, 개미전사는 식량창고를 선택적으로 약탈하여 식량을 빼앗을 예정\n",
    "- 이때 메뚜기 정찰병들은 서로 인접한 식량창고가 공격받으면 바로 알아챌 수 있음\n",
    "- 따라서 개미가 정찰병에게 들키지 않고 약탈하기 위해서는 최소한 한 칸 이상 떨어진 식량창고를 약탈해야 함\n",
    "\n",
    "\n",
    "- 예를 들어 식량창고 4개가 {1, 3, 1, 5}와 같이 존재할 때\n",
    "    - 개미는 두번째, 네번째 창고를 털었을 때 최댓값인 8개의 식량을 뺏을 수 있음\n",
    "    - 식량창고 N개에 대한 정보가 주어졌을 때 얻을 수 있는 식량의 최댓값을 구하는 프로그램"
   ]
  },
  {
   "cell_type": "code",
   "execution_count": 11,
   "id": "dde80295",
   "metadata": {},
   "outputs": [
    {
     "data": {
      "text/plain": [
       "12"
      ]
     },
     "execution_count": 11,
     "metadata": {},
     "output_type": "execute_result"
    }
   ],
   "source": [
    "n = 4\n",
    "graph = [7, 6, 1, 5]\n",
    "\n",
    "for i in range(1, n-1):\n",
    "    if graph[i-1] + graph[i+1] > graph[i]:\n",
    "        graph[i] = 0\n",
    "    elif graph[i-1] + graph[i+1] <= graph[i]:\n",
    "        graph[i-1], graph[i+1] = 0, 0\n",
    "    \n",
    "sum(graph)"
   ]
  },
  {
   "cell_type": "markdown",
   "id": "506028ca",
   "metadata": {},
   "source": [
    "### <문제> 1로 만들기\n",
    "\n",
    "- 정수 X가 주어졌을 때, 정수 X에 사용할 수 있는 연산은 다음과 같은 4가지\n",
    "    1. X가 5로 나누어 떨어지면, 5로 나눔\n",
    "    2. X가 3으로 나누어 떨어지면, 3으로 나눔\n",
    "    3. X가 2로 나누어 떨어지면, 2로 나눔\n",
    "    4. X에서 1을 뺌\n",
    "    \n",
    "- 정수 X가 주어졌을 때, 연산 4개를 적절히 사용해서 값을 1로 만들고자 합니다.\n",
    "- 연산을 사용하는 횟수의 최솟값을 출력하세요.\n"
   ]
  },
  {
   "cell_type": "markdown",
   "id": "05a00ce3",
   "metadata": {},
   "source": [
    "$a_i = min(a_{i/5}, a_{i/3}, a_{i/2}, a_{i-1}) + 1$ 의 점화식으로 계산"
   ]
  },
  {
   "cell_type": "code",
   "execution_count": 18,
   "id": "f0ec3cc1",
   "metadata": {},
   "outputs": [
    {
     "name": "stdout",
     "output_type": "stream",
     "text": [
      "3\n"
     ]
    }
   ],
   "source": [
    "x = 26\n",
    "\n",
    "d = [0]*30001\n",
    "\n",
    "for i in range(2, x+1):\n",
    "    d[i] = d[i-1] + 1\n",
    "    if i % 2 == 0:\n",
    "        d[i] = min(d[i], d[i//2]+1)\n",
    "    if i % 3 == 0:\n",
    "        d[i] = min(d[i], d[i//3]+1)\n",
    "    if i % 5 == 0:\n",
    "        d[i] = min(d[i], d[i//5]+1)\n",
    "\n",
    "print(d[x])        "
   ]
  },
  {
   "cell_type": "markdown",
   "id": "f58ffa8f",
   "metadata": {},
   "source": [
    "BottomUp 방식으로 계산. "
   ]
  },
  {
   "cell_type": "markdown",
   "id": "8a08c77c",
   "metadata": {},
   "source": [
    "### <문제> 효율적인 화폐 구성\n",
    "- N가지 종류의 화폐가 있을 때, 이 화폐들의 개수를 최소한으로 이용해서 그 합이 M원이 되도록 하려고 함\n",
    "- M원을 만들기 위한 최소한의 화폐 개수를 출력하는 프로그램 (불가능하면 -1을 출력)"
   ]
  },
  {
   "cell_type": "code",
   "execution_count": 38,
   "id": "161213fd",
   "metadata": {},
   "outputs": [
    {
     "name": "stdout",
     "output_type": "stream",
     "text": [
      "3 4\n",
      "3\n",
      "5\n",
      "7\n",
      "-1\n"
     ]
    }
   ],
   "source": [
    "n, m = map(int, input().split())\n",
    "array = []\n",
    "for i in range(n):\n",
    "    array.append(int(input()))\n",
    "\n",
    "d = [10001] * (m+1)\n",
    "\n",
    "d[0] = 0\n",
    "# i-k가 있으면 min(i, i-k + 1)\n",
    "for i in range(n):\n",
    "    for j in range(array[i], m+1):\n",
    "        if d[j-array[i]] != 10001:\n",
    "            d[j] = min(d[j], d[j-array[i]]+1)\n",
    "\n",
    "if d[m] == 10001:\n",
    "    print(-1)\n",
    "else:\n",
    "    print(d[m])"
   ]
  },
  {
   "cell_type": "markdown",
   "id": "ad8a11b5",
   "metadata": {},
   "source": [
    "### <문제> 금광\n",
    "- n x m 크기의 금광이 있음\n",
    "- 채굴자는 첫번째 열부터 시작하여 금을 캐기 시작함\n",
    "- 맨 처음에는 첫 번째 열의 어느 행에서든 출발할 수 있으며, 이후 m-1번에 거쳐서 매번 오른쪽 위, 오른쪽, 오른쪽 아래 3가지 중 하나의 위치로 이동\n",
    "\n",
    "- 채굴자가 얻을 수 있는 금의 최대 크기를 출력"
   ]
  },
  {
   "cell_type": "code",
   "execution_count": 36,
   "id": "e6f622bf",
   "metadata": {},
   "outputs": [
    {
     "name": "stdout",
     "output_type": "stream",
     "text": [
      "2\n",
      "3 4\n",
      "1 3 3 2 2 1 4 1 0 6 4 7\n",
      "4 4\n",
      "1 3 1 5 2 2 4 1 5 0 2 3 0 6 1 2\n",
      "16\n"
     ]
    }
   ],
   "source": [
    "for tc in range(int(input())):\n",
    "    n, m = map(int, input().split())\n",
    "    array = list(map(int, input().split()))\n",
    "    \n",
    "    dp = []\n",
    "    index = 0\n",
    "    \n",
    "    for i in range(n):\n",
    "        dp.append(array[index:index + m])\n",
    "        index += m\n",
    "        \n",
    "    for j in range(1, m):\n",
    "        for i in range(n):\n",
    "            # 왼쪽 위에서 오는 경우\n",
    "            if i == 0:\n",
    "                left_up = 0\n",
    "            else:\n",
    "                left_up = dp[i-1][j-1]\n",
    "            \n",
    "            # 왼쪽 아래에서 오는 경우\n",
    "            if i == n-1:\n",
    "                left_down = 0\n",
    "            else:\n",
    "                left_down = dp[i+1][j-1]\n",
    "            \n",
    "            # 왼쪽에서 오는 경우\n",
    "            left = dp[i][j-1]\n",
    "            dp[i][j] = dp[i][j] + max(left_up, left_down, left)\n",
    "    result = 0\n",
    "    for i in range(n):\n",
    "        result = max(result, dp[i][m-1])\n",
    "        \n",
    "    print(result)"
   ]
  },
  {
   "cell_type": "markdown",
   "id": "1fd14915",
   "metadata": {},
   "source": [
    "왼쪽 위, 아래, 왼쪽에서 오는 경우별로 값을 계산해서 최댓값을 더해주는 방식으로 나아감"
   ]
  },
  {
   "cell_type": "markdown",
   "id": "eee51ab0",
   "metadata": {},
   "source": [
    "### <문제> 병사 배치하기\n",
    "- N명의 병사가 무작위로 나열되어 있고, 각 병사는 특정한 값의 전투력을 보유하고 있음\n",
    "- 병사를 배치할 때는 전투력이 높은 병사가 앞쪽에 오도록 배치를 하고자 함\n",
    "- 또한 배치 과정에서는 특정한 위치에 있는 병사를 열외하되, 남아있는 병사의 수가 최대가 되도록 하고 싶음\n",
    "- 즉 지금 있는 순서에서 병사를 열외했을 때, 내림차순 정렬이 되도록 하는 열외 병사 수를 출력\n",
    "\n",
    "\n"
   ]
  },
  {
   "cell_type": "code",
   "execution_count": 37,
   "id": "fd8a8d87",
   "metadata": {},
   "outputs": [
    {
     "name": "stdout",
     "output_type": "stream",
     "text": [
      "2\n"
     ]
    }
   ],
   "source": [
    "n = 7\n",
    "array = [15, 11, 4, 8, 5, 2, 4]\n",
    "array.reverse()\n",
    "    \n",
    "dp = [1]*n\n",
    "\n",
    "for i in range(1, n):\n",
    "    for j in range(0, i):\n",
    "        # 오름차순으로 정렬했을 때, 증가하고 있다면 값으로 추가\n",
    "        if array[j] < array[i]:\n",
    "            dp[i] = max(dp[i], dp[j]+1)\n",
    "\n",
    "print(n-max(dp))"
   ]
  },
  {
   "cell_type": "markdown",
   "id": "201e4c88",
   "metadata": {},
   "source": [
    "### <문제> 바닥 공사\n",
    "\n",
    "- 가로 길이가 N, 세로의 길이가 2인 직사각형 형태의 얇은 바닥이 있다. \n",
    "- 이 얇은 바닥을 1x2의 덮개, 2x1의 덮개, 2x2의 덮개를 이용해 채우고자 한다.\n",
    "- 이때 바닥을 채우는 모든 경우의 수를 796,796으로 나눈 나머지를 구하는 프로그램을 작성"
   ]
  },
  {
   "cell_type": "markdown",
   "id": "7a6ae12f",
   "metadata": {},
   "source": [
    "$a_i = a_{i-1} + 2a_{i-2}$\n",
    "\n",
    "1. 왼쪽부터 i-1의 길이가 덮개로 채워진 경우와\n",
    "2. i-2의 길이가 덮개로 채워진 경우로 나눔\n",
    "\n",
    "근데 i-1의 경우 i-1번째 칸이 1x2로 채워졌을 때랑 중복될 수 있기 때문에, 두번째 경우에서 i-1, i번째 칸이 모두 1x2로 채워진 상황은 배제. 그래서 $2a_{i-2}$"
   ]
  },
  {
   "cell_type": "code",
   "execution_count": 55,
   "id": "104a0174",
   "metadata": {},
   "outputs": [
    {
     "name": "stdout",
     "output_type": "stream",
     "text": [
      "21\n"
     ]
    }
   ],
   "source": [
    "n = 5\n",
    "\n",
    "d = [0]*1001\n",
    "d[1] = 1\n",
    "d[2] = 3\n",
    "\n",
    "for i in range(3, n+1):\n",
    "    d[i] = (d[i-1] + 2*d[i-2]) % 796796\n",
    "    \n",
    "print(d[n])"
   ]
  },
  {
   "cell_type": "markdown",
   "id": "86858453",
   "metadata": {},
   "source": [
    "### <문제> 정수 삼각형\n",
    "- 피라미드 형태로 쌓인 정수 삼각형에서 맨 위부터 아래까지 내려올 때 선택된 수의 합의 최댓값\n"
   ]
  },
  {
   "cell_type": "code",
   "execution_count": 62,
   "id": "aa0dbfa0",
   "metadata": {},
   "outputs": [
    {
     "name": "stdout",
     "output_type": "stream",
     "text": [
      "30\n"
     ]
    }
   ],
   "source": [
    "n = 5\n",
    "graph = [[7], [3, 8], [8, 1, 0], [2, 7, 4, 4], [4, 5, 2, 6, 5]]\n",
    "\n",
    "for i in range(1, n):\n",
    "    for j in range(len(graph[i])):\n",
    "        if j == 0:\n",
    "            left = 0\n",
    "        else:\n",
    "            left = graph[i-1][j-1]\n",
    "        \n",
    "        if j == len(graph[i]) - 1:\n",
    "            right = 0\n",
    "        else:\n",
    "            right = graph[i-1][j]\n",
    "            \n",
    "        graph[i][j] = graph[i][j] + max(left, right)\n",
    "            \n",
    "print(max(graph[n-1]))"
   ]
  },
  {
   "cell_type": "markdown",
   "id": "73d344d2",
   "metadata": {},
   "source": [
    "### <문제> 퇴사\n",
    "\n",
    "- 상담원으로 일하는 백준이는 퇴사를 하려고 함\n",
    "- 오늘부터 n+1일째 되는 날 퇴사를 하기 위해, 남은 N일동안 최대한 많은 상담을 하려고 함\n",
    "- 각각의 상담은 상담을 완료하는데 걸리는 기간 $T_i$와 받을 수 있는 금액 $P_i$로 이루어짐\n",
    "- 한 고객을 상담하는 중에는 다른 고객들은 상담할 수 없음\n",
    "\n",
    "- 최대 수익을 구하는 프로그램 작성"
   ]
  },
  {
   "cell_type": "code",
   "execution_count": 112,
   "id": "7231db86",
   "metadata": {},
   "outputs": [
    {
     "name": "stdout",
     "output_type": "stream",
     "text": [
      "10\n",
      "5 50\n",
      "4 40\n",
      "3 30\n",
      "2 20\n",
      "1 10\n",
      "1 10\n",
      "2 20\n",
      "3 30\n",
      "4 40\n",
      "5 50\n",
      "90\n"
     ]
    }
   ],
   "source": [
    "n = int(input())\n",
    "t = []\n",
    "p = []\n",
    "dp = [0] * (n+1)\n",
    "max_value = 0\n",
    "\n",
    "for _ in range(n):\n",
    "    x, y = map(int, input().split())\n",
    "    t.append(x)\n",
    "    p.append(y)\n",
    "\n",
    "# 뒤에서부터 거꾸로 계산\n",
    "for i in range(n-1, -1, -1):\n",
    "    time = t[i] + i\n",
    "    \n",
    "    # 기간 안에 상담을 끝낼 수 있다면\n",
    "    if time <= n:\n",
    "        # i기의 상담보수 + 끝난 뒤부터 얻을 수 있는 최대보수 (i기의 상담을 하기로 선택한 경우)와\n",
    "        # 현재까지의 최대 가능 보수 (i기의 상담을 하지 않기로 선택) 중 최댓값을 저장\n",
    "        dp[i] = max(p[i] + dp[time], max_value)\n",
    "        max_value = dp[i]\n",
    "    else:\n",
    "        dp[i] = max_value\n",
    "\n",
    "print(max_value)"
   ]
  },
  {
   "cell_type": "markdown",
   "id": "9ed7d589",
   "metadata": {},
   "source": [
    "### <문제> 못생긴 수\n",
    "- 못생긴 수란 오직 2, 3, 5만을 소인수로 가지는 수를 의미.\n",
    "- 즉 오직 2, 3, 5만 약수로 가지는 합성수를 의미하며, 1도 포함됨\n",
    "- 이때 n번째 못생긴 수를 찾는 프로그램을 작성"
   ]
  },
  {
   "cell_type": "code",
   "execution_count": 31,
   "id": "29c522a3",
   "metadata": {},
   "outputs": [
    {
     "name": "stdout",
     "output_type": "stream",
     "text": [
      "36\n"
     ]
    }
   ],
   "source": [
    "n = 20\n",
    "ugly = [0] * n\n",
    "ugly[0] = 1\n",
    "\n",
    "i2= i3= i5 = 0\n",
    "\n",
    "next2, next3, next5 = 2, 3, 5\n",
    "\n",
    "for i in range(1, n):\n",
    "    ugly[i] = min(next2, next3, next5)\n",
    "    if ugly[i] == next2:\n",
    "        i2 += 1\n",
    "        next2 = ugly[i2]*2\n",
    "    if ugly[i] == next3:\n",
    "        i3 += 1\n",
    "        next3 = ugly[i3]*3\n",
    "    if ugly[i] == next5:\n",
    "        i5 += 1\n",
    "        next5 = ugly[i5]*5\n",
    "        \n",
    "print(ugly[n-1])"
   ]
  },
  {
   "cell_type": "markdown",
   "id": "208741de",
   "metadata": {},
   "source": [
    "못생긴 수에 2 3 5를 곱한 값이 모두 못생긴 수라는 특성을 이용\n",
    "\n",
    "오름차순으로 값을 저장하기 위해 2 3 5 각각의 인덱스를 따로 지정\n",
    "\n",
    "못생긴 수에서 가장 작은값부터 2 3 5씩 계속 곱한 값 중 최솟값을 리스트에 넣고, 넣으면 해당하는 인덱스 += 1 "
   ]
  }
 ],
 "metadata": {
  "kernelspec": {
   "display_name": "Python 3 (ipykernel)",
   "language": "python",
   "name": "python3"
  },
  "language_info": {
   "codemirror_mode": {
    "name": "ipython",
    "version": 3
   },
   "file_extension": ".py",
   "mimetype": "text/x-python",
   "name": "python",
   "nbconvert_exporter": "python",
   "pygments_lexer": "ipython3",
   "version": "3.9.12"
  }
 },
 "nbformat": 4,
 "nbformat_minor": 5
}
