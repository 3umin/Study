{
 "cells": [
  {
   "cell_type": "markdown",
   "id": "354fe5ca",
   "metadata": {},
   "source": [
    "# 4. 구현\n",
    "\n",
    "## 아이디어를 코드로 바꾸는 구현\n",
    "\n",
    "- 구현 : 머릿속에 있는 알고리즘을 소스코드로 바꾸는 과정\n",
    "\n",
    "이 책에서는 완전 탐색, 시뮬레이션 유형을 모두 '구현' 유형으로 묶음\n",
    "\n",
    "- 완전 탐색 : 모든 경우의 수를 주저없이 다 계산하는 해결 방법\n",
    "- 시뮬레이션 : 문제에서 제시한 알고리즘을 한 단계씩 차례대로 직접 수행\n",
    "\n",
    "파이썬에서 리스트를 이용할 때에는 코딩 테스트의 메모리 제한을 고려해야 함.\n",
    "\n",
    "**int 자료형 데이터의 개수에 따른 메모리 사용량**\n",
    "\n",
    "|데이터의 개수|메모리 사용량|\n",
    "|----|----|\n",
    "|1,000|약 4KB|\n",
    "|1,000,000|약 4MB|\n",
    "|10,000,000|약 40MB|\n",
    "\n",
    "## 예제 4-1 상하좌우\n",
    "\n",
    "여행가 A는 N x N 크기의 정사각형 공간 위에 있다.  \n",
    "가장 온쪽 위 좌표는 (1, 1)이며, 가장 오른쪽 아래 좌표는 (N, N)에 해당한다.  \n",
    "\n",
    "여행가 A는 상,하,좌,우 방향으로 이동할 수 있으며, 시작 좌표는 항상 (1, 1)이다.\n",
    "\n",
    "계획서에는 하나의 줄에 띄어쓰기를 기준으로 하여, L, R, U, D 중 하나의 문자가 반복적으로 적혀 있다.(Left, Right, Up, Down)\n",
    "\n",
    "이 때 N x N 크기의 정사각형 공간을 벗어나는 움직임은 무시된다.\n",
    "\n",
    "계획서가 주어졌을 때 여행가 A가 최종적으로 도착할 지점의 좌표를 출력하는 프로그램을 작성하시오"
   ]
  },
  {
   "cell_type": "code",
   "execution_count": 27,
   "id": "c7a91f72",
   "metadata": {},
   "outputs": [
    {
     "name": "stdout",
     "output_type": "stream",
     "text": [
      "정사각형 N x N에서 N을 입력하시오 : 5\n",
      "계획서를 입력하시오 : R R R U D D\n",
      "3 4\n"
     ]
    }
   ],
   "source": [
    "## 내가 푼 코드\n",
    "\n",
    "n = int(input('정사각형 N x N에서 N을 입력하시오 : '))\n",
    "dir_list = input('계획서를 입력하시오 : ').split(' ')\n",
    "\n",
    "x = 1\n",
    "y = 1\n",
    "\n",
    "for di in dir_list:\n",
    "    if di == 'R':\n",
    "        if y + 1 < n:\n",
    "            y += 1\n",
    "    elif di == 'L':\n",
    "        if y - 1 > 0:\n",
    "            y -= 1\n",
    "    elif di == 'U':\n",
    "        if x - 1 > 0:\n",
    "            x -= 1\n",
    "    else:\n",
    "        if x + 1 < n:\n",
    "            x += 1\n",
    "            \n",
    "print(x, y)"
   ]
  },
  {
   "cell_type": "markdown",
   "id": "eb0adf2d",
   "metadata": {},
   "source": [
    "### 해설\n",
    "\n",
    "- 공간 범위를 초과하지 않는 선에서 x좌표, y좌표를 수정함"
   ]
  },
  {
   "cell_type": "code",
   "execution_count": 28,
   "id": "f9ffcd46",
   "metadata": {},
   "outputs": [
    {
     "name": "stdout",
     "output_type": "stream",
     "text": [
      "5\n",
      "R R R U D D\n",
      "3 4\n"
     ]
    }
   ],
   "source": [
    "## 책에서 짠 코드\n",
    "n = int(input())\n",
    "x, y = 1, 1\n",
    "plans = input().split()\n",
    "\n",
    "# L, R, U, D에 따른 이동 방향\n",
    "dx = [0, 0, -1, 1]\n",
    "dy = [-1, 1, 0, 0]\n",
    "move_types = ['L', 'R', 'U', 'D']\n",
    "\n",
    "# 이동 계획을 하나씩 확인\n",
    "for plan in plans:\n",
    "    # 이동 후 좌표 구하기\n",
    "    for i in range(len(move_types)):\n",
    "        if plan == move_types[i]:\n",
    "            nx = x + dx[i]\n",
    "            ny = y + dy[i]\n",
    "            \n",
    "    # 공간을 벗어나는 경우 무시\n",
    "    if nx < 1 or ny < 1 or nx > n or ny > n:\n",
    "        continue\n",
    "    \n",
    "    # 이동 수행\n",
    "    x, y = nx, ny\n",
    "    \n",
    "print(x, y)"
   ]
  },
  {
   "cell_type": "markdown",
   "id": "6e578b99",
   "metadata": {},
   "source": [
    "## 예제 4-2 시각\n",
    "\n",
    "정수 N이 입력되면 00시 00분 00초부터 N시 59분 59초까지의 모든 시각 중에서 3이 하나라도 포함되는 모든 경우의 수를 구하는 프로그램을 작성"
   ]
  },
  {
   "cell_type": "code",
   "execution_count": 35,
   "id": "86b01710",
   "metadata": {},
   "outputs": [
    {
     "name": "stdout",
     "output_type": "stream",
     "text": [
      "시간을 입력하시오 : 5\n"
     ]
    },
    {
     "data": {
      "text/plain": [
       "11475"
      ]
     },
     "execution_count": 35,
     "metadata": {},
     "output_type": "execute_result"
    }
   ],
   "source": [
    "## 내가 푼 코드\n",
    "\n",
    "n = int(input('시간을 입력하시오 : '))\n",
    "answer = 0\n",
    "\n",
    "# 분 초 조합으로 3이 포함되는 경우의 수 = 6x10x6x10 - 5x9x5x9 = 1575개\n",
    "answer += 1575 * (n+1)\n",
    "\n",
    "if (n >= 3) & (n < 13):\n",
    "    answer += 3600     # 3시 00분 00초 ~ 3시 59분 59초의 경우의 수\n",
    "    answer -= 1575     # 3시 00분 00초 ~ 3시 59분 59초에서 시간을 제외하고 3이 들어간 경우의 수(중복 값)을 제거\n",
    "elif (n >= 13) & (n < 23):\n",
    "    answer += 3600*2   # (3시 & 13시)\n",
    "    answer -= 1575*2\n",
    "elif n == 23:\n",
    "    answer += 3600*3   # (3시 & 13시 & 23시)\n",
    "    answer -= 1575*3\n",
    "    \n",
    "answer"
   ]
  },
  {
   "cell_type": "markdown",
   "id": "55e5eaa1",
   "metadata": {},
   "source": [
    "### 해설\n",
    "\n",
    "- (시를 제외하고) 3이 적어도 하나 들어가는 경우의 수 = 전체 경우의 수 - 3이 하나도 안들어가는 경우의 수 = 1575\n",
    "- 시 하나당 1575개의 경우가 발생하므로 1575 x (N+1)로 경우의 수를 선정\n",
    "- 근데 시에 3이 들어가는 경우에는 그 시 전체가 3으로 포함되므로 그 시 전체를 더해주고, 1575개로 계산된 부분을 제거해줌"
   ]
  },
  {
   "cell_type": "code",
   "execution_count": 37,
   "id": "2f77560b",
   "metadata": {},
   "outputs": [
    {
     "name": "stdout",
     "output_type": "stream",
     "text": [
      "5\n",
      "11475\n"
     ]
    }
   ],
   "source": [
    "## 책에서 짠 코드 - 완전 탐색 유형\n",
    "h = int(input())\n",
    "\n",
    "count = 0\n",
    "for i in range(h+1):\n",
    "    for j in range(60):\n",
    "        for k in range(60):\n",
    "            \n",
    "            if '3' in str(i) + str(j) + str(k):\n",
    "                count += 1\n",
    "                \n",
    "print(count)"
   ]
  },
  {
   "cell_type": "markdown",
   "id": "9c8e3c76",
   "metadata": {},
   "source": [
    "## 예제 4-3 왕실의 나이트\n",
    "\n",
    "왕실 정원은 체스판과 같은 8 x 8 좌표 평면이다.  \n",
    "왕실 정원의 특정한 한 칸에 나이트가 서있다.\n",
    "\n",
    "나이트는 말을 타고 있기 때문에 이동을 할 때는 L자 형태로만 이동할 수 있으며 정원 밖으로는 나갈 수 없다.  \n",
    "나이트는 다음과 같은 2가지 경우로만 이동할 수 있다.\n",
    "\n",
    "1. 수평으로 2칸 이동한 뒤에 수직으로 한 칸 이동하기\n",
    "2. 수직으로 두 칸 이동한 뒤에 수평으로 한 칸 이동하기\n",
    "\n",
    "8x8 좌표 평면상에서 나이트의 위치가 주어졌을 때 나이트가 이동할 수 있는 경우의 수를 추력하는 프로그램을 작성\n",
    "\n",
    "행의 위치는 1부터 8로 표현하고, 열의 위치는 a부터 h로 표현\n",
    "\n",
    "만약 나이트가 a1에 있다면, 이동할 수 있는 경우의 수는 c2, b3 2가지."
   ]
  },
  {
   "cell_type": "code",
   "execution_count": 68,
   "id": "062af6a0",
   "metadata": {
    "scrolled": true
   },
   "outputs": [
    {
     "name": "stdout",
     "output_type": "stream",
     "text": [
      "위치를 입력하시오 : c2\n",
      "6\n"
     ]
    }
   ],
   "source": [
    "## 내가 푼 코드\n",
    "\n",
    "col, row = list(input('위치를 입력하시오 : '))\n",
    "row = int(row)\n",
    "\n",
    "dic_col = {'a':1, 'b':2, 'c':3, 'd':4, 'e':5, 'f':6, 'g':7, 'h':8}\n",
    "col= dic_col[col]\n",
    "\n",
    "poss = [1, 2, 3, 4, 5, 6, 7, 8]\n",
    "answer = 0\n",
    "\n",
    "for i in [2, -2]:\n",
    "    for j in [1, -1]:\n",
    "        if (row+i in poss) & (col+j in poss):\n",
    "            answer += 1\n",
    "        \n",
    "        if (col+i in poss) & (row+j in poss):\n",
    "            answer += 1\n",
    "\n",
    "print(answer)"
   ]
  },
  {
   "cell_type": "markdown",
   "id": "53c31613",
   "metadata": {},
   "source": [
    "### 해설\n",
    "\n",
    "- 행 열 모두 1~8까지 가질 수 있음\n",
    "- 열은 a~h로 표기되었기 때문에, 이를 딕셔너리를 활용해 숫자로 변환\n",
    "- 행 ± 2, 열 ± 1, 행 ± 1, 열 ± 2가 (1 ~ 8) 구간에 존재한다면 1씩 더함"
   ]
  },
  {
   "cell_type": "code",
   "execution_count": 73,
   "id": "6c687dff",
   "metadata": {},
   "outputs": [
    {
     "name": "stdout",
     "output_type": "stream",
     "text": [
      "c2\n",
      "6\n"
     ]
    }
   ],
   "source": [
    "## 책에서 짠 코드\n",
    "input_data = input()\n",
    "row = int(input_data[1])\n",
    "column = int(ord(input_data[0])) - int(ord('a')) + 1\n",
    "\n",
    "steps = [(-2, -1), (-1, -2), (1, -2), (2, -1), (2, 1), (1, 2), (-1, 2), (-2, 1)]\n",
    "\n",
    "result = 0\n",
    "for step in steps:\n",
    "    next_row = row + step[0]\n",
    "    next_column = column + step[1]\n",
    "    \n",
    "    if next_row >= 1 and next_row <= 8 and next_column >= 1 and next_column <= 8:\n",
    "        result += 1\n",
    "    \n",
    "print(result)"
   ]
  },
  {
   "cell_type": "markdown",
   "id": "d9f58d04",
   "metadata": {},
   "source": [
    "## 예제 4-4 게임 개발\n",
    "\n",
    "게임 캐릭터가 맵 안에서 움직이는 시스템\n",
    "\n",
    "캐릭터가 있는 장소는 1 x 1 크기의 정사각형으로 이루어진 N x M 크기의 직사각형으로, 각각의 칸은 육지 또는 바다이다.\n",
    "\n",
    "캐릭터는 동서남북 중 한 곳을 바라본다.\n",
    "\n",
    "맵의 각 칸은 (A, B)로 나타낼 수 있고, A는 북쪽으로부터 떨어진 칸의 개수, B는 서쪽으로부터 떨어진 칸의 개수\n",
    "\n",
    "\n",
    "캐릭터는 상하좌우로 움직일 수 있고, 바다로 되어있는 공간에는 갈 수 없다.\n",
    "\n",
    "1. 현재 위치에서 현재 방향을 기준으로 왼쪽 방향부터 차례대로 갈 곳을 정함\n",
    "\n",
    "\n",
    "2. 캐릭터의 바로 왼쪽 방향에 아직 가보지 않은 칸이 존재한다면, 왼쪽 방향으로 회전한 다음 왼쪽으로 한 칸을 전진.  \n",
    "왼쪽 방향에 가보지 않은 칸이 없다면, 왼쪽 방향으로 회전만 수행하고 1단계로 돌아감\n",
    "\n",
    "\n",
    "3. 만약 네 방향 모두 이미 가본 칸이거나 바다로 되어있는 칸인 경우에는, 바라보는 방향을 유지한 채로 한 칸 뒤로 가고 1단계로 돌아감. 단, 뒤쪽 방향이 바다인 칸이라 뒤로 갈 수 없는 경우에는 움직임을 멈춤\n"
   ]
  },
  {
   "cell_type": "code",
   "execution_count": 107,
   "id": "61cb85ce",
   "metadata": {},
   "outputs": [
    {
     "name": "stdout",
     "output_type": "stream",
     "text": [
      "4 4\n",
      "1 1 0\n",
      "1 1 1 1\n",
      "1 0 0 1\n",
      "1 1 0 1\n",
      "1 1 1 1\n",
      "3\n"
     ]
    }
   ],
   "source": [
    "## 책에서 짠 코드 -- 직접 풀지 못함..\n",
    "n, m = map(int, input().split())\n",
    "\n",
    "# 방문한 위치를 저장하기 위한 맵을 생성하여 0으로 초기화\n",
    "d = [[0] * m for _ in range(n)]\n",
    "\n",
    "x, y, direction = map(int, input().split())\n",
    "\n",
    "# 현재 위치 방문처리\n",
    "d[x][y] = 1\n",
    "\n",
    "# 전체 맵 정보\n",
    "array = []\n",
    "for i in range(n):\n",
    "    array.append(list(map(int, input().split())))\n",
    "    \n",
    "# 북, 동, 남, 서 방향\n",
    "dx = [-1, 0, 1, 0]\n",
    "dy = [0, 1, 0, -1]\n",
    "\n",
    "# 왼쪽으로 회전\n",
    "def turn_left():\n",
    "    global direction\n",
    "    direction -= 1\n",
    "    if direction == -1:\n",
    "        direction = 3\n",
    "        \n",
    "# 시뮬레이션 시작\n",
    "count = 1\n",
    "turn_time = 0\n",
    "\n",
    "while True:\n",
    "    turn_left()\n",
    "    nx = x + dx[direction]\n",
    "    ny = y + dy[direction]\n",
    "    \n",
    "    # 회전한 이후 정면에 가보지 않은 칸이면서 육지인 칸이 존재하는 경우 이동\n",
    "    if d[nx][ny] == 0 and array[nx][ny] == 0:\n",
    "        d[nx][ny] = 1\n",
    "        x = nx\n",
    "        y = ny\n",
    "        count += 1\n",
    "        turn_time = 0\n",
    "        continue\n",
    "    # 회전한 이후 정면에 가보지 않은 칸이 없거나 바다인 경우\n",
    "    else:\n",
    "        turn_time += 1\n",
    "    \n",
    "    # 네 방향 모두 갈 수 없는 경우\n",
    "    if turn_time == 4:\n",
    "        nx = x - dx[direction]\n",
    "        ny = x - dx[direction]\n",
    "        \n",
    "        # 뒤로 갈 수 있다면 이동\n",
    "        if array[nx][ny] == 0:\n",
    "            x = nx\n",
    "            y = ny\n",
    "        # 뒤가 바다로 막혀있는 경우\n",
    "        else:\n",
    "            break\n",
    "        turn_time = 0\n",
    "        \n",
    "print(count)"
   ]
  },
  {
   "cell_type": "markdown",
   "id": "105d31cf",
   "metadata": {},
   "source": [
    "### 해설\n",
    "\n",
    "- 방문했는지 여부를 알려주는 배열 d를 하나 더 생성(0 : 방문안함 / 1 : 방문함)\n",
    "- dx, dy로 방향에 따라 x나 y가 변해야 할 값을 지정\n",
    "- 회전 후 이동해야 할 좌표(nx, ny)에 방문을 안했으면서 육지면 좌표를 변경하고, count에 1을 더하며 이후의 코드를 생략\n",
    "- 회전 후 이동해야 할 좌표에 방문을 했거나 바다면 한 번 더 회전하고, 방문 가능한 좌표가 나올 때까지 회전을 반복함\n",
    "- 네 방향 모두 갈 수 없을 때, 뒤로 갈 수 있다면 뒤로 이동\n",
    "- 네 방향 모두 갈 수 없으며 뒤로도 갈 수 없다면 모든 반복문을 종료"
   ]
  }
 ],
 "metadata": {
  "kernelspec": {
   "display_name": "Python 3 (ipykernel)",
   "language": "python",
   "name": "python3"
  },
  "language_info": {
   "codemirror_mode": {
    "name": "ipython",
    "version": 3
   },
   "file_extension": ".py",
   "mimetype": "text/x-python",
   "name": "python",
   "nbconvert_exporter": "python",
   "pygments_lexer": "ipython3",
   "version": "3.9.12"
  }
 },
 "nbformat": 4,
 "nbformat_minor": 5
}
