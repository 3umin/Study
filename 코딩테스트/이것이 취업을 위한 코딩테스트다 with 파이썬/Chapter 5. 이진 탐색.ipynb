{
 "cells": [
  {
   "cell_type": "markdown",
   "id": "5954b919",
   "metadata": {},
   "source": [
    "# 이진 탐색 알고리즘\n",
    "- 순차 탐색 : 리스트 안에 있는 특정한 데이터를 찾기 위해 **앞에서부터 데이터를 하나씩 확인**하는 방법\n",
    "- 이진 탐색 : 정렬되어 있는 리스트에서 **탐색 범위를 절반씩 좁혀가며 데이터를 탐색**하는 방법\n",
    "    - 정렬된 데이터에서 탐색 범위를 지정하고, 찾고자 하는 값이 중간값보다 크냐 작냐에 따라 왼쪽 영역만 볼지 오른쪽 영역만 볼지 결정 (절반씩 좁혀짐)"
   ]
  },
  {
   "cell_type": "code",
   "execution_count": 2,
   "id": "8b1fb6bb",
   "metadata": {},
   "outputs": [
    {
     "name": "stdout",
     "output_type": "stream",
     "text": [
      "원소가 존재하지 않습니다.\n"
     ]
    }
   ],
   "source": [
    "# 이진 탐색 소스코드 : 재귀적 구현\n",
    "\n",
    "def binary_search(array, target, start, end):\n",
    "    if start > end:\n",
    "        return None\n",
    "    mid = (start + end) // 2\n",
    "    \n",
    "    # 찾은 경우 중간점 인덱스 반환\n",
    "    if array[mid] == target:\n",
    "        return mid\n",
    "    elif array[mid] > target:\n",
    "        return binary_search(array, target, start, mid - 1)\n",
    "    else:\n",
    "        return binary_search(array, target, mid + 1, end)\n",
    "    \n",
    "result = binary_search([1, 3, 5, 6, 9, 11, 13, 15, 17, 19], 7, 0, 9)\n",
    "if result == None:\n",
    "    print('원소가 존재하지 않습니다.')\n",
    "else:\n",
    "    print(result + 1)"
   ]
  },
  {
   "attachments": {
    "image.png": {
     "image/png": "[encoded data removed]"
    }
   },
   "cell_type": "markdown",
   "id": "f929cd77",
   "metadata": {},
   "source": [
    "### 파이썬 이진 탐색 라이브러리\n",
    "- `bisect_left(a, x)` : 정렬된 순서를 유지하면서 배열 a에 x를 삽입할 가장 왼쪽 인덱스를 반환\n",
    "- `bisect_right(a, x)` : 정렬된 순서를 유지하면서 배열 a에 x를 삽입할 가장 오른쪽 인덱스를 반환\n",
    "\n",
    "![image.png](attachment:image.png)"
   ]
  },
  {
   "cell_type": "code",
   "execution_count": 3,
   "id": "12b45d66",
   "metadata": {},
   "outputs": [
    {
     "name": "stdout",
     "output_type": "stream",
     "text": [
      "2\n",
      "4\n"
     ]
    }
   ],
   "source": [
    "from bisect import bisect_left, bisect_right\n",
    "\n",
    "a = [1, 2, 4, 4, 8]\n",
    "x = 4\n",
    "\n",
    "print(bisect_left(a, x))\n",
    "print(bisect_right(a, x))"
   ]
  },
  {
   "cell_type": "code",
   "execution_count": 4,
   "id": "e856c623",
   "metadata": {},
   "outputs": [
    {
     "name": "stdout",
     "output_type": "stream",
     "text": [
      "2\n",
      "6\n"
     ]
    }
   ],
   "source": [
    "# 값이 특정 범위에 속하는 데이터 개수 구하기\n",
    "from bisect import bisect_left, bisect_right\n",
    "\n",
    "def count_by_range(a, left_value, right_value):\n",
    "    right_index = bisect_right(a, right_value)\n",
    "    left_index = bisect_left(a, left_value)\n",
    "    return right_index - left_index\n",
    "\n",
    "a = [1, 2, 3, 3, 3, 3, 4, 4, 8, 9]\n",
    "\n",
    "\n",
    "# 값이 4인 데이터 개수 출력\n",
    "print(count_by_range(a, 4, 4))\n",
    "# 값이 [-1, 3] 범위에 있는 데이터 개수 출력\n",
    "print(count_by_range(a, -1, 3))"
   ]
  },
  {
   "cell_type": "markdown",
   "id": "6ecd38b3",
   "metadata": {},
   "source": [
    "## 파라메트릭 서치(Parametric Search)\n",
    "\n",
    "- 최적화 문제를 결정 문제('예' 혹은 '아니오')로 바꾸어 해결하는 기법\n",
    "- 일반적인 코딩 테스트에서 파라메트릭 서치 문제는 이진 탐색을 이용하여 해결할 수 있음"
   ]
  },
  {
   "cell_type": "markdown",
   "id": "6ac01ca8",
   "metadata": {},
   "source": [
    "### <문제> 떡볶이 떡 만들기\n",
    "- 떡볶이 떡의 길이는 일정하지 않지만, 한 봉지 안에 들어가는 떡의 총 길이는 모두 동일\n",
    "- 절단기에 높이(H)를 지정하면 줄지어진 떡을 한 번에 절단. 높이가 H보다 긴 떡은 H 윗 부분이 잘리고, 낮은 떡은 잘리지 않음\n",
    "    - 예를 들어 높이가 19, 14, 10, 17cm인 떡이 나란히 있고 절단기 높이를 15cm로 지정하면 떡의 높이는 15, 14, 10, 15cm가 되고, 잘린 떡의 길이는 4, 0, 0, 2cm이므로 손님은 6cm만큼의 길이를 가져감\n",
    "\n",
    "- 손님이 왔을 때 요청한 총 길이가 M일 때 적어도 M만큼의 떡을 얻기 위해 절단기에 설정할 수 있는 높이의 최댓값을 구하는 프로그램을 작성"
   ]
  },
  {
   "cell_type": "code",
   "execution_count": 13,
   "id": "df6364eb",
   "metadata": {},
   "outputs": [
    {
     "name": "stdout",
     "output_type": "stream",
     "text": [
      "15\n"
     ]
    }
   ],
   "source": [
    "# n : 떡의 개수, m : 요청한 떡의 길이\n",
    "\n",
    "n, m = 4, 6\n",
    "stock = [19, 15, 10, 17]\n",
    "stock.sort(reverse=True)\n",
    "\n",
    "for h in range(stock[0], 0, -1):\n",
    "    tmp = [i - h for i in stock if i > h]\n",
    "    if sum(tmp) >= m:\n",
    "        break\n",
    "        \n",
    "print(h)"
   ]
  },
  {
   "cell_type": "markdown",
   "id": "426c7888",
   "metadata": {},
   "source": [
    "- 적절한 높이를 찾을 때까지 이진 탐색을 수행하는 방법으로 했어야 함..\n",
    "- 절단기의 높이는 0부터 10억까지의 정수 중 하나이므로, 이렇게 큰 탐색 범위에서는 가장 먼저 이진탐색을 사용해야 한다!"
   ]
  },
  {
   "cell_type": "code",
   "execution_count": 17,
   "id": "118e72f6",
   "metadata": {},
   "outputs": [
    {
     "name": "stdout",
     "output_type": "stream",
     "text": [
      "15\n"
     ]
    }
   ],
   "source": [
    "n, m = 4, 6\n",
    "stock = [19, 15, 10, 17]\n",
    "\n",
    "start = 0\n",
    "end = max(stock)\n",
    "\n",
    "result = 0\n",
    "\n",
    "# 재귀문이 아니라 반복문으로 하면 이런 원리. 코드 외우기\n",
    "while start <= end:\n",
    "    total = 0\n",
    "    mid = (start + end) // 2\n",
    "    for x in stock:\n",
    "        # 잘랐을 때의 양 계산\n",
    "        if x > mid:\n",
    "            total += x - mid\n",
    "            \n",
    "    # 떡의 양이 부족한 경우 왼쪽 부분 탐색\n",
    "    if total < m:\n",
    "        end = mid - 1\n",
    "    else:\n",
    "        result = mid\n",
    "        start = mid + 1\n",
    "        \n",
    "print(result)"
   ]
  },
  {
   "cell_type": "markdown",
   "id": "f1bb5af0",
   "metadata": {},
   "source": [
    "### <문제> 정렬된 배열에서 특정 수의 개수 구하기\n",
    "- N개의 원소를 포함하고 있는 수열이 오름차순으로 정렬되어 있음\n",
    "- 이때 수열에서 x가 등장하는 횟수를 계산하시오\n",
    "- 단, 이 문제는 시간 복잡도 $O(logN)$ 으로 알고리즘을 설계해야 함"
   ]
  },
  {
   "cell_type": "code",
   "execution_count": 28,
   "id": "ad23d974",
   "metadata": {},
   "outputs": [
    {
     "name": "stdout",
     "output_type": "stream",
     "text": [
      "4\n"
     ]
    }
   ],
   "source": [
    "array = [1, 1, 2, 2, 2, 2, 3]\n",
    "x = 2\n",
    "\n",
    "from bisect import bisect_left, bisect_right\n",
    "\n",
    "left_index = bisect_left(array, x)\n",
    "right_index = bisect_right(array, x)\n",
    "result = right_index - left_index\n",
    "\n",
    "if result == 0:\n",
    "    print(-1)\n",
    "else:\n",
    "    print(result)"
   ]
  },
  {
   "cell_type": "markdown",
   "id": "f9252922",
   "metadata": {},
   "source": [
    "### 요약\n",
    "- 이진 탐색 소스코드\n",
    "```python\n",
    "while start <= end:\n",
    "    total = 0\n",
    "    mid = (start + end) // 2\n",
    "    if mid > target:\n",
    "        end = mid - 1\n",
    "    elif mid < target:\n",
    "        start = mid + 1\n",
    "    else:   # mid == target\n",
    "        break      \n",
    "print(mid)\n",
    "```\n",
    "\n",
    "\n",
    "- 이진 탐색으로 범위(또는 값) 개수 구하기\n",
    "- `from bisect import bisect_left(a, x), bisect_right(a, x)`\n",
    "      "
   ]
  }
 ],
 "metadata": {
  "kernelspec": {
   "display_name": "Python 3 (ipykernel)",
   "language": "python",
   "name": "python3"
  },
  "language_info": {
   "codemirror_mode": {
    "name": "ipython",
    "version": 3
   },
   "file_extension": ".py",
   "mimetype": "text/x-python",
   "name": "python",
   "nbconvert_exporter": "python",
   "pygments_lexer": "ipython3",
   "version": "3.9.12"
  }
 },
 "nbformat": 4,
 "nbformat_minor": 5
}
