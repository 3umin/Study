{
 "cells": [
  {
   "cell_type": "markdown",
   "id": "7e353b2e",
   "metadata": {},
   "source": [
    "# 3. 그리디"
   ]
  },
  {
   "cell_type": "markdown",
   "id": "d895d12d",
   "metadata": {},
   "source": [
    "## 당장 좋은 것만 선택하는 그리디\n",
    "\n",
    "- 그리디 : 탐욕적으로 문제를 푸는 알고리즘\n",
    "\n",
    "    탐욕적 : 현재 상황에서 지금 당장 좋은 것만 고르는 방법. "
   ]
  },
  {
   "cell_type": "markdown",
   "id": "e4549f01",
   "metadata": {},
   "source": [
    "## 예제 3-1 거스름돈\n",
    "\n",
    "카운터에 거스름돈으로 사용할 동전이 500원, 100원, 50원, 10원짜리 동전이 무한히 존재\n",
    "\n",
    "손님에게 거슬러 줘야 할 돈이 N원일 때, 거슬러줘야 할 동전의 최소 개수를 구하라. 단, 거슬러 줘야 할 돈 N은 항상 10의 배수이다."
   ]
  },
  {
   "cell_type": "code",
   "execution_count": 1,
   "id": "56f78565",
   "metadata": {},
   "outputs": [
    {
     "name": "stdout",
     "output_type": "stream",
     "text": [
      "6\n"
     ]
    }
   ],
   "source": [
    "n = 1260\n",
    "count = 0\n",
    "\n",
    "# 큰 단위의 화폐부터 거슬러줄 수 있는 만큼 거슬러주면 됨\n",
    "coin_types = [500, 100, 50, 10]\n",
    "\n",
    "for coin in coin_types:\n",
    "    count += n // coin\n",
    "    n %= coin       # n을 coin 단위로 나눈 나머지 값(나머지 거스름돈)\n",
    "    \n",
    "print(count)"
   ]
  },
  {
   "cell_type": "markdown",
   "id": "add037a1",
   "metadata": {},
   "source": [
    "그리디 알고리즘으로 문제의 해법을 찾았을 때는 그 해법이 정당한지 검토해야 함.\n",
    "\n",
    "거스름돈 문제를 그리디 알고리즘으로 해결할 수 있는 이유는 **가지고 있는 동전 중에서 큰 단위가 항상 작은 단위의 배수이므로 작은 단위의 동전들을 종합해 다른 해가 나올 수 없기 때문**\n",
    "\n",
    "만약 거슬러줄 수 있는 동전이 500원, 400원, 100원 (500원이 400원의 배수가 아님)인 경우에는,  \n",
    "그리디 알고리즘으로는 4개의 동전(500 + 100 + 100 + 100)이 나오는데, 실제 최적의 해는 2개의 동전(400 + 400)으로 나옴"
   ]
  },
  {
   "cell_type": "markdown",
   "id": "aed8139e",
   "metadata": {},
   "source": [
    "## 예제 3-4 1이 될 때까지\n",
    "\n",
    "어떠한 수 N이 1이 될 때까지 다음 두 과정 중 하나를 반복하여 수행.  \n",
    "단, 두번째 연산은 N이 K로 나누어 떨어질 때만 선택 가능\n",
    "\n",
    "1. N에서 1을 뺀다.\n",
    "2. N을 K로 나눈다.\n",
    "\n",
    "예를 들어 n = 17, k = 4라고 가정하면  \n",
    "1번의 과정을 한번 거쳐 n = 16이 된 뒤  \n",
    "2번의 과정을 두번 거쳐 n = 1까지 도달.\n",
    "\n",
    "이 경우 수행해야 하는 최소 횟수는 3\n",
    "\n",
    "3을 출력하는 프로그램을 작성"
   ]
  },
  {
   "cell_type": "code",
   "execution_count": 66,
   "id": "d413346a",
   "metadata": {},
   "outputs": [
    {
     "name": "stdout",
     "output_type": "stream",
     "text": [
      "n과 k를 입력하시오25 3\n",
      "6\n"
     ]
    }
   ],
   "source": [
    "### 내가 푼 코드\n",
    "\n",
    "n, k = map(int, input('n과 k를 입력하시오').split(' '))\n",
    "iter = 0\n",
    "status = True\n",
    "while status:\n",
    "    \n",
    "    if n % k == 0:\n",
    "        n /= k\n",
    "        iter += 1\n",
    "    \n",
    "    else:\n",
    "        n -= 1\n",
    "        iter += 1\n",
    "        \n",
    "    if n == 1:\n",
    "        status = False\n",
    "    \n",
    "print(iter)"
   ]
  },
  {
   "cell_type": "markdown",
   "id": "06b9d2f7",
   "metadata": {},
   "source": [
    "### 해설\n",
    "\n",
    "- while문을 사용해 해결\n",
    "- n이 k로 나누어 떨어지면 n을 k로 나눈 값을 n으로 저장하고\n",
    "- 안떨어진다면 n에서 1을 뺀 값을 n으로 저장\n",
    "- 만약 n이 1이라면 status=False로 값을 지정하여 while문 종료"
   ]
  },
  {
   "cell_type": "code",
   "execution_count": 67,
   "id": "681c4dfc",
   "metadata": {},
   "outputs": [
    {
     "name": "stdout",
     "output_type": "stream",
     "text": [
      "25 3\n",
      "6\n"
     ]
    }
   ],
   "source": [
    "### 책에 나온 코드 - 단순하게 푸는 답안\n",
    "\n",
    "n, k = map(int, input().split())\n",
    "result = 0\n",
    "\n",
    "while n >= k:\n",
    "    while n % k != 0:\n",
    "        n -= 1\n",
    "        result += 1\n",
    "    \n",
    "    n //= k\n",
    "    result += 1\n",
    "    \n",
    "\n",
    "while n > 1:\n",
    "    n -= 1\n",
    "    result += 1\n",
    "    \n",
    "print(result)"
   ]
  },
  {
   "cell_type": "code",
   "execution_count": 68,
   "id": "8e6ccee8",
   "metadata": {},
   "outputs": [
    {
     "name": "stdout",
     "output_type": "stream",
     "text": [
      "25 3\n",
      "6\n"
     ]
    }
   ],
   "source": [
    "### 책에 나온 코드 - 다른 답안\n",
    "\n",
    "n, k = map(int, input().split())\n",
    "result = 0\n",
    "\n",
    "while True:\n",
    "    target = (n // k) * k\n",
    "    result += (n - target)\n",
    "    n = target\n",
    "    \n",
    "    if n < k:\n",
    "        break\n",
    "    \n",
    "    result += 1\n",
    "    n //= k\n",
    "\n",
    "result += (n-1)\n",
    "print(result)"
   ]
  },
  {
   "cell_type": "markdown",
   "id": "0e242e10",
   "metadata": {},
   "source": [
    "## <문제> 곱하기 혹은 더하기"
   ]
  },
  {
   "cell_type": "markdown",
   "id": "556903ab",
   "metadata": {},
   "source": [
    "각 자리가 숫자(0~9)로만 이루어진 문자열 S가 있을 때, 왼쪽부터 오른쪽으로 하나씩 모든 숫자를 확인하며 숫자사이에 'x' 혹은 '+' 연산자를 넣어 결과적으로 **만들어질 수 있는 가장 큰 수를 구하는 프로그램**을 작성\n",
    "\n",
    "단, 모든 연산은 왼쪽에서부터 순서대로 이루어진다고 가정(곱하기가 먼저 연산되지 않는다는 의미)"
   ]
  },
  {
   "cell_type": "code",
   "execution_count": 9,
   "id": "e4de1fb5",
   "metadata": {},
   "outputs": [
    {
     "name": "stdout",
     "output_type": "stream",
     "text": [
      "210\n"
     ]
    }
   ],
   "source": [
    "# 내가 푼 방식\n",
    "\n",
    "s = '567'\n",
    "\n",
    "count = 0\n",
    "\n",
    "# 집계값이 0이라면 더해주고, 0이 아닌데 0이나 1을 만나면 더해주는 방식\n",
    "\n",
    "for i in s:\n",
    "    if count == 0:\n",
    "        count += int(i)\n",
    "    else:\n",
    "        if i in ['0', '1']:\n",
    "            count += int(i)\n",
    "        else:\n",
    "            count *= int(i)\n",
    "        \n",
    "print(count)"
   ]
  },
  {
   "cell_type": "markdown",
   "id": "03a51ad5",
   "metadata": {},
   "source": [
    "## <문제> 모험가 길드"
   ]
  },
  {
   "cell_type": "markdown",
   "id": "1b2262ba",
   "metadata": {},
   "source": [
    "한 마을에 모험가가 N명이 있음\n",
    "\n",
    "각 모험가를 대상으로 '공포도'를 측정했는데, '공포도'가 높은 모험가는 쉽게 공포를 느껴 위험 상황에서 제대로 대처할 능력이 떨어짐\n",
    "\n",
    "모험가 길드장인 참가자는 그룹을 안전하게 구성하고자 공포도가 X인 모험가는 반드시 X명 이상으로 구성한 모험가 그룹에 참여해야 여행을 떠날 수 있도록 규정\n",
    "\n",
    "N명의 모험가에 대한 정보가 주어졌을 때, **여행을 떠날 수 있는 그룹 수의 최댓값을 구하는 프로그램을 작성**"
   ]
  },
  {
   "cell_type": "code",
   "execution_count": 23,
   "id": "0eba8ab0",
   "metadata": {},
   "outputs": [
    {
     "name": "stdout",
     "output_type": "stream",
     "text": [
      "2\n"
     ]
    }
   ],
   "source": [
    "# 내가 푼 풀이\n",
    "\n",
    "gr = [2, 3, 1, 2, 2]\n",
    "\n",
    "gr.sort()\n",
    "\n",
    "answer = 0\n",
    "tmp = 0\n",
    "while True:\n",
    "    tmp += 1\n",
    "    tm_ls = [gr[i] for i in range(tmp)]\n",
    "    if tmp >= max(tm_ls):\n",
    "        answer += 1\n",
    "        gr = gr[tmp:]\n",
    "        tmp = 0\n",
    "    \n",
    "    elif tmp == len(gr):\n",
    "        break\n",
    "        \n",
    "print(answer)"
   ]
  },
  {
   "cell_type": "markdown",
   "id": "0d70cd82",
   "metadata": {},
   "source": [
    "- 현재 이루어진 집단에서 공포도 최댓값보다 인원이 크거나 같으면 답에 1을 더하고, 해당 멤버를 그룹에서 뺌\n",
    "- 만약 위의 경우에 해당하지 않으면서 그룹 멤버의 수 카운트가 전체 잔류 멤버보다 넘어간다면 중단"
   ]
  },
  {
   "cell_type": "markdown",
   "id": "57fbf288",
   "metadata": {},
   "source": [
    "### 해설"
   ]
  },
  {
   "cell_type": "code",
   "execution_count": 24,
   "id": "ec458087",
   "metadata": {},
   "outputs": [
    {
     "name": "stdout",
     "output_type": "stream",
     "text": [
      "2\n"
     ]
    }
   ],
   "source": [
    "data = [2, 3, 1, 2, 2]\n",
    "data.sort()\n",
    "\n",
    "result = 0         # 총 그룹의 수\n",
    "count = 0          # 현재 그룹에 포함된 모험가의 수\n",
    "\n",
    "for i in data:\n",
    "    count += 1\n",
    "    if count >= i:\n",
    "        result += 1\n",
    "        count = 0\n",
    "        \n",
    "print(result)"
   ]
  },
  {
   "cell_type": "markdown",
   "id": "8c08ea67",
   "metadata": {},
   "source": [
    "- 현재 그룹의 멤버 수가 그룹 최대 공포도(i)를 넘어간다면 그룹으로 결성"
   ]
  },
  {
   "cell_type": "markdown",
   "id": "cd8c0076",
   "metadata": {},
   "source": [
    "## 예제 3-2 큰 수의 법칙\n",
    "\n",
    "숫자가 담겨있는 배열에서 수를 뽑아 M번 더하여 가장 큰 수를 만드는 데, 한 인덱스에 있는 값은 연속해서 최대 K번까지 더해질 수 있음\n",
    "\n",
    "배열의 크기 N, M, K 를 첫줄에 입력하고  \n",
    "이후 배열의 원소를 입력\n",
    "\n",
    "\n",
    "입력 예시)  \n",
    "5 8 3  \n",
    "2 4 5 4 6\n",
    "\n",
    "출력값 = 46"
   ]
  },
  {
   "cell_type": "code",
   "execution_count": 48,
   "id": "99a1c3ed",
   "metadata": {},
   "outputs": [
    {
     "name": "stdout",
     "output_type": "stream",
     "text": [
      "6\n",
      "12\n",
      "18\n",
      "29\n",
      "35\n",
      "41\n"
     ]
    }
   ],
   "source": [
    "## 직접 푼 코드\n",
    "\n",
    "n, m, k = map(int, input('N, M, K 순으로 띄워서 입력하세요').split(' '))\n",
    "data = list(map(int, input('배열 값을 입력하세요').split(' ')))\n",
    "data.sort(reverse=True)\n",
    "\n",
    "answer = 0\n",
    "i = 0\n",
    "\n",
    "while i < m:\n",
    "    for idx in range(data.count(data[0])):\n",
    "        i_a = 0\n",
    "        while i_a < k:\n",
    "            answer += data[idx]\n",
    "            i_a += 1\n",
    "            i += 1\n",
    "        \n",
    "       \n",
    "    answer += data[data.count(data[0])]\n",
    "    i += 1\n",
    "    \n",
    "print(answer)"
   ]
  },
  {
   "cell_type": "markdown",
   "id": "fa3169ab",
   "metadata": {},
   "source": [
    "### 해설\n",
    "\n",
    "- i(전체 더한 횟수), i_a(가장 큰 수 연속으로 더한 횟수)\n",
    "- i가 m이 되기 전까지, i_a가 k가 될때까지 answer에 값을 더함\n",
    "- i_a가 k가 된다면 그 다음 인덱스(가장 큰 값이 여러 값이라면)로 넘어가서 동일한 작업을 취함\n",
    "- 만약 가장 큰 값을 더이상 사용하지 못한다면, 그 다음으로 큰 값을 한 번 더해주고 다시 for문으로 돌아감"
   ]
  },
  {
   "cell_type": "code",
   "execution_count": 51,
   "id": "b80ea7e0",
   "metadata": {},
   "outputs": [
    {
     "data": {
      "text/plain": [
       "2"
      ]
     },
     "execution_count": 51,
     "metadata": {},
     "output_type": "execute_result"
    }
   ],
   "source": [
    "int(m / (k+1))"
   ]
  },
  {
   "cell_type": "code",
   "execution_count": 54,
   "id": "5f222545",
   "metadata": {},
   "outputs": [
    {
     "data": {
      "text/plain": [
       "6"
      ]
     },
     "execution_count": 54,
     "metadata": {},
     "output_type": "execute_result"
    }
   ],
   "source": [
    "count = int(m / (k+1)) * k    \n",
    "count += m % (k+1)\n",
    "count"
   ]
  },
  {
   "cell_type": "markdown",
   "id": "ff65f6ef",
   "metadata": {},
   "source": [
    "### 책의 풀이"
   ]
  },
  {
   "cell_type": "code",
   "execution_count": 56,
   "id": "424df5c8",
   "metadata": {},
   "outputs": [
    {
     "name": "stdout",
     "output_type": "stream",
     "text": [
      "5 8 3\n",
      "2 4 4 5 6\n",
      "46\n"
     ]
    }
   ],
   "source": [
    "n, m, k = map(int, input().split(' '))\n",
    "data = list(map(int, input().split(' ')))\n",
    "data.sort()\n",
    "\n",
    "first = data[n-1]    # 가장 큰 수\n",
    "second = data[n-2]   # 두번째로 큰 수\n",
    "\n",
    "# 가장 큰 수가 더해지는 횟수 계산\n",
    "count = int(m / (k+1)) * k    # first k번 + second 1번으로 구성되므로 k+1로 나눈 정수값 = 한 세트 값. 이를 k를 곱해주어 가장 큰 수가 나오는 경우를 함\n",
    "count += m % (k+1)    # k+1개로 구성된 세트를 M에서 빼고, 나머지 값만큼 더 함\n",
    "\n",
    "result = 0\n",
    "result += count * first\n",
    "result += (m-count) * second\n",
    "\n",
    "print(result)"
   ]
  },
  {
   "cell_type": "markdown",
   "id": "d56be1c8",
   "metadata": {},
   "source": [
    "## 예제 3-3 숫자 카드 게임\n",
    "\n",
    "여러 개의 숫자 카드 중에서 가장 높은 숫자가 쓰인 카드 한 장을 뽑는 게임. 단 게임의 룰을 지켜야 함\n",
    "\n",
    "1. 숫자가 쓰인 카드들이 N X M 형태로 놓여있다.\n",
    "2. 먼저 뽑고자 하는 카드가 포함되어 있는 행을 선택\n",
    "3. 선택된 행에 포함된 카드들 중 가장 숫자가 낮은 카드를 뽑아야 함\n",
    "4. 따라서 처음에 카드를 골라낼 행을 선택할 때, 그 행에서 가장 낮은 숫자 카드를 뽑을 것을 고려하여 최종적으로 가장 높은 숫자의 카드를 봅을 수 있도록 전략을 세워야 함.\n",
    "\n",
    "첫번째 입력값은 행의 수 N과 열의 수 M이 공백을 기준으로 띄워저 입력\n",
    "\n",
    "두번째 입력값부터는 한 행에 존재하는 카드가 주어짐\n"
   ]
  },
  {
   "cell_type": "code",
   "execution_count": 14,
   "id": "b559f0cb",
   "metadata": {},
   "outputs": [
    {
     "name": "stdout",
     "output_type": "stream",
     "text": [
      "행과 열을 입력하시오2 4\n",
      "행의 구성원소를 입력하시오7 3 1 8\n",
      "행의 구성원소를 입력하시오3 3 3 4\n",
      "3\n"
     ]
    }
   ],
   "source": [
    "### 직접 푼 코드\n",
    "\n",
    "n, m = list(map(int, input('행과 열을 입력하시오').split(' ')))\n",
    "\n",
    "total_min = []\n",
    "for i in range(n):\n",
    "    row = list(map(int, input('행의 구성원소를 입력하시오').split(' ')))\n",
    "    total_min.append(min(row))\n",
    "    \n",
    "answer = max(total_min)\n",
    "print(answer)"
   ]
  },
  {
   "cell_type": "markdown",
   "id": "99d29ee7",
   "metadata": {},
   "source": [
    "### 해설\n",
    "\n",
    "- 행으로 지정한 수만큼 input문을 반복하여 행의 원소를 입력받음\n",
    "- 하나의 행을 골랐으면 그 행에서 최솟값을 뽑아야 하므로, 선택지 리스트(total_min)에 행별로 최솟값을 삽입\n",
    "- 행 별로 최솟값이 들어있는 리스트에서 최댓값을 추출"
   ]
  },
  {
   "cell_type": "code",
   "execution_count": 15,
   "id": "7051e492",
   "metadata": {},
   "outputs": [
    {
     "name": "stdout",
     "output_type": "stream",
     "text": [
      "2 4\n",
      "7 3 1 8\n",
      "3 3 3 4\n",
      "3\n"
     ]
    }
   ],
   "source": [
    "### 책 코드 - min() 함수 예시\n",
    "\n",
    "n, m = map(int, input().split())\n",
    "\n",
    "result = 0\n",
    "\n",
    "for i in range(n):\n",
    "    data = list(map(int, input().split()))\n",
    "    min_value = min(data)\n",
    "    result = max(result, min_value)\n",
    "\n",
    "print(result)"
   ]
  },
  {
   "cell_type": "code",
   "execution_count": 16,
   "id": "58db2f8f",
   "metadata": {},
   "outputs": [
    {
     "name": "stdout",
     "output_type": "stream",
     "text": [
      "2 4\n",
      "7 3 1 8\n",
      "3 3 3 4\n",
      "3\n"
     ]
    }
   ],
   "source": [
    "### 책 코드 - 2중 for문 예시\n",
    "\n",
    "n, m = map(int, input().split())\n",
    "\n",
    "result = 0\n",
    "\n",
    "for i in range(n):\n",
    "    data = list(map(int, input().split()))\n",
    "    min_value = 10001\n",
    "    for a in data:\n",
    "        min_value = min(min_value, a)\n",
    "        \n",
    "    result = max(result, min_value)\n",
    "\n",
    "print(result)"
   ]
  },
  {
   "cell_type": "markdown",
   "id": "5338bc48",
   "metadata": {},
   "source": [
    "# 구현"
   ]
  },
  {
   "cell_type": "markdown",
   "id": "42943adc",
   "metadata": {},
   "source": [
    "**머릿속에 있는 알고리즘을 소스코드로 바꾸는 과정**"
   ]
  },
  {
   "cell_type": "code",
   "execution_count": null,
   "id": "a93be0cb",
   "metadata": {},
   "outputs": [],
   "source": [
    "# 시뮬레이션 및 완전 탐색 문제에서는 2차원 공간에서의 방향 벡터가 자주 활용\n",
    "\n",
    "# 동, 북, 서, 남 순서\n",
    "dy = [0, -1, 0, 1]\n",
    "dx = [1, 0, -1,  0]\n",
    "\n",
    "# 현재 위치\n",
    "x, y = 2, 2\n",
    "\n",
    "for i in range(4):\n",
    "    # 다음 위치\n",
    "    nx = x + dx[i]\n",
    "    ny = y + dy[i]\n",
    "    print(nx, ny)"
   ]
  },
  {
   "cell_type": "markdown",
   "id": "ecd041b7",
   "metadata": {},
   "source": [
    "## <문제> 상하좌우"
   ]
  },
  {
   "cell_type": "markdown",
   "id": "a0eb586b",
   "metadata": {},
   "source": [
    "N x N 크기의 정사각형 공간 위에 사용자가 서있음\n",
    "\n",
    "이 공간은 1 x 1 크기의 정사각형으로 나누어져있으며, 가장 왼쪽 위 좌표는 (1, 1)이고 가장 오른쪽 아래 좌표는 (N, N)에 해당함\n",
    "\n",
    "여행가 A는 항상 (1, 1)에서 시작ㅎ며, 상하좌우 방향으로 이동할 수 있음\n",
    "\n",
    "앞으로 어떻게 이동할지 계획이 적힌 계획서에는 L R U D 중 하나의 문자가 적혀있음\n",
    "\n",
    "    - L : 왼쪽\n",
    "    - R : 오른쪽\n",
    "    - U : 위\n",
    "    - D : 아래\n",
    "    \n"
   ]
  },
  {
   "cell_type": "code",
   "execution_count": 29,
   "id": "bba3810d",
   "metadata": {},
   "outputs": [
    {
     "name": "stdout",
     "output_type": "stream",
     "text": [
      "3 4\n"
     ]
    }
   ],
   "source": [
    "# 내가 푼 문제\n",
    "n = 5\n",
    "plan = 'R R R U D D'\n",
    "\n",
    "x, y = 1, 1          # x가 위아래, y가 양옆임\n",
    "# 상하좌우 순서\n",
    "dx = [-1, 1, 0, 0]\n",
    "dy = [0, 0, -1, 1]\n",
    "\n",
    "for di in plan.split(' '):\n",
    "    if di == 'U':\n",
    "        nx = x + dx[0]\n",
    "        ny = y + dy[0]\n",
    "    \n",
    "    elif di == 'D':\n",
    "        nx = x + dx[1]\n",
    "        ny = y + dy[1]\n",
    "    \n",
    "    elif di == 'L':\n",
    "        nx = x + dx[2]\n",
    "        ny = y + dy[2]\n",
    "    \n",
    "    elif di == 'R':\n",
    "        nx = x + dx[3]\n",
    "        ny = y + dy[3]\n",
    "        \n",
    "    if (nx < 1) or (nx > n) or (ny < 1) or (ny > n):\n",
    "        pass\n",
    "    else:\n",
    "        x = nx\n",
    "        y = ny\n",
    "        \n",
    "print(x, y)"
   ]
  },
  {
   "cell_type": "markdown",
   "id": "a07c7579",
   "metadata": {},
   "source": [
    "- 직관적으로 알아보기 편한 코드라 설명 X"
   ]
  },
  {
   "cell_type": "markdown",
   "id": "dcfbb8f8",
   "metadata": {},
   "source": [
    "### 해설"
   ]
  },
  {
   "cell_type": "code",
   "execution_count": null,
   "id": "d79eb637",
   "metadata": {},
   "outputs": [],
   "source": [
    "n = 5\n",
    "x, y = 1, 1\n",
    "plans = 'R R R U D D'.split(' ')\n",
    "\n",
    "dx = [0, 0, -1, 1]\n",
    "dy = [-1, 1, 0, 0]\n",
    "move_types = ['L', 'R', 'U', 'D']\n",
    "\n",
    "# 이동 계획 하나씩 확인\n",
    "for plan in plans:\n",
    "    # 이동 후 좌표 구하기\n",
    "    for i in range(len(move_types)):\n",
    "        if plan == move_types[i]:\n",
    "            nx = x + dx[i]\n",
    "            ny = y + dy[i]\n",
    "    # 공간을 벗어나는 경우 무시\n",
    "    if nx < 1 or ny < 1 or nx > n or ny > n:\n",
    "        continue\n",
    "    # 이동 수행\n",
    "    x, y = nx, ny\n",
    "    \n",
    "print(x, y)"
   ]
  },
  {
   "cell_type": "markdown",
   "id": "3e72c3f8",
   "metadata": {},
   "source": [
    "## <문제> 시각"
   ]
  },
  {
   "cell_type": "markdown",
   "id": "2714c4c8",
   "metadata": {},
   "source": [
    "정수 N이 입력되면 00시00분00초부터 N시 59분 59초까지의 \n",
    "\n",
    "모든 시각 중에 3이 하나라도 포함되는 모든 경우의 수를 구하는 프로그램"
   ]
  },
  {
   "cell_type": "code",
   "execution_count": 32,
   "id": "70a2a0e0",
   "metadata": {},
   "outputs": [
    {
     "name": "stdout",
     "output_type": "stream",
     "text": [
      "11475\n"
     ]
    }
   ],
   "source": [
    "n = 5\n",
    "\n",
    "# 1시간에 3이 하나라도 포함되는 경우의 수는 1575개 (시간에 3이 들어가는 경우 제외)\n",
    "\n",
    "answer = 1575\n",
    "\n",
    "for i in range(n):\n",
    "    if '3' not in str(i):\n",
    "        answer += 1575\n",
    "    else:\n",
    "        answer += 3600\n",
    "\n",
    "print(answer)"
   ]
  },
  {
   "cell_type": "markdown",
   "id": "69e55f71",
   "metadata": {},
   "source": [
    "이게 훨씬 간단해서 해설 패스"
   ]
  },
  {
   "cell_type": "markdown",
   "id": "1954aba9",
   "metadata": {},
   "source": [
    "## <문제> 왕실의 나이트"
   ]
  },
  {
   "cell_type": "markdown",
   "id": "16377c02",
   "metadata": {},
   "source": [
    "8 x 8 좌표 평면의 왕실 정원. 특정한 한 칸에 나이트가 서 있음\n",
    "\n",
    "나이트는 L자 형태로만 이동 가능하며, 정원 밖으로는 나갈 수 없음\n",
    "\n",
    "1. 수평으로 두 칸 이동한 뒤에 수직으로 한 칸 이동하기\n",
    "2. 수직으로 두 칸 이동한 뒤에 수평으로 한 칸 이동하기\n",
    "\n",
    "나이트의 위치가 주어졌을 때 나이트가 이동할 수 있는 경우의 수를 출력하는 프로그램\n",
    "\n",
    "행의 위치는 1부터 8까지, 열 위치는 a부터 h까지로 표현"
   ]
  },
  {
   "cell_type": "code",
   "execution_count": 41,
   "id": "48bedf37",
   "metadata": {},
   "outputs": [
    {
     "name": "stdout",
     "output_type": "stream",
     "text": [
      "6\n"
     ]
    }
   ],
   "source": [
    "# 내가 푼 답안\n",
    "\n",
    "sp = 'c2'\n",
    "\n",
    "row = ['1', '2', '3', '4', '5', '6', '7', '8']\n",
    "col = ['a', 'b', 'c', 'd', 'e', 'f', 'g', 'h']\n",
    "\n",
    "col_idx = col.index(sp[0])\n",
    "row_idx = row.index(sp[1])\n",
    "\n",
    "answer = 8\n",
    "dx = [2, 2, 1, 1, -2, -2, -1, -1]\n",
    "dy = [1, -1, 2, -2, 1, -1, 2, -2]\n",
    "\n",
    "for i in range(8):\n",
    "    nx, ny = col_idx + dx[i], row_idx + dy[i]\n",
    "    \n",
    "    if nx < 0 or nx > 8 or ny < 0 or ny > 8:\n",
    "        answer -= 1\n",
    "        \n",
    "print(answer)"
   ]
  },
  {
   "cell_type": "markdown",
   "id": "4764d45b",
   "metadata": {},
   "source": [
    "- 앞선 예시대로 x와 y가 이동 가능한 경로를 리스트에 저장해두고, 이동했을 때 맵 밖을 벗어나면 제거하는 방식으로 구성\n",
    "- 답지와 거의 유사한 방식이라 답지 생략"
   ]
  },
  {
   "cell_type": "markdown",
   "id": "6b56d4b0",
   "metadata": {},
   "source": [
    "## <문제> 문자열 재정렬"
   ]
  },
  {
   "cell_type": "markdown",
   "id": "3e529fed",
   "metadata": {},
   "source": [
    "알파벳 대문자와 숫자로만 구성된 문자열이 입력으로 주어짐\n",
    "\n",
    "이때 모든 알파벳을 오름차순으로 정렬한 후에, 그 뒤에 모든 숫자를 더한 값을 이어서 출력"
   ]
  },
  {
   "cell_type": "code",
   "execution_count": 69,
   "id": "692a8700",
   "metadata": {},
   "outputs": [
    {
     "name": "stdout",
     "output_type": "stream",
     "text": [
      "ABCKK13\n"
     ]
    }
   ],
   "source": [
    "instr = 'K1KA5CB7'\n",
    "\n",
    "strpart = [i for i in instr if i not in [str(n) for n in range(10)]]\n",
    "numpart = [int(i) for i in instr if i in [str(n) for n in range(10)]]\n",
    "strpart.sort()\n",
    "\n",
    "answer = ''.join(strpart) + str(sum(numpart))\n",
    "print(answer)"
   ]
  },
  {
   "cell_type": "markdown",
   "id": "29db010d",
   "metadata": {},
   "source": [
    "- 문자열과 숫자를 별개로 저장해서 수행"
   ]
  },
  {
   "cell_type": "markdown",
   "id": "10315b43",
   "metadata": {},
   "source": [
    "### 해설"
   ]
  },
  {
   "cell_type": "code",
   "execution_count": 70,
   "id": "4a423dfd",
   "metadata": {},
   "outputs": [
    {
     "name": "stdout",
     "output_type": "stream",
     "text": [
      "ABCKK13\n"
     ]
    }
   ],
   "source": [
    "instr = 'K1KA5CB7'\n",
    "result = []\n",
    "value = 0\n",
    "\n",
    "for x in instr:\n",
    "    if x.isalpha():\n",
    "        result.append(x)\n",
    "    else:\n",
    "        value += int(x)\n",
    "        \n",
    "result.sort()\n",
    "\n",
    "# 숫자가 하나라도 존재하는 경우\n",
    "if value != 0:\n",
    "    result.append(str(value))\n",
    "\n",
    "print(''.join(result))"
   ]
  }
 ],
 "metadata": {
  "kernelspec": {
   "display_name": "Python 3 (ipykernel)",
   "language": "python",
   "name": "python3"
  },
  "language_info": {
   "codemirror_mode": {
    "name": "ipython",
    "version": 3
   },
   "file_extension": ".py",
   "mimetype": "text/x-python",
   "name": "python",
   "nbconvert_exporter": "python",
   "pygments_lexer": "ipython3",
   "version": "3.9.12"
  }
 },
 "nbformat": 4,
 "nbformat_minor": 5
}
