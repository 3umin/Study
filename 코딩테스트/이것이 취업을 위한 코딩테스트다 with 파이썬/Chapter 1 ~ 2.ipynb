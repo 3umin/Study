{
 "cells": [
  {
   "cell_type": "markdown",
   "id": "e5c5e0b2",
   "metadata": {},
   "source": [
    "# 1. 코딩 테스트 개요"
   ]
  },
  {
   "cell_type": "markdown",
   "id": "b8297daf",
   "metadata": {},
   "source": [
    "- 시간 복잡도 : 알고리즘이 문제를 해결하는 시간\n",
    "- 공간 복잡도 : 알고리즘을 문제를 해결하는데 필요한 메모리\n",
    "\n",
    "일반적으로 두 복잡도는 Trade-Off 관계가 있음."
   ]
  },
  {
   "cell_type": "markdown",
   "id": "bd77abfb",
   "metadata": {},
   "source": [
    "## 시간 복잡도"
   ]
  },
  {
   "cell_type": "markdown",
   "id": "65d9cf4f",
   "metadata": {},
   "source": [
    "- Big-O 표기법을 사용\n",
    "- 반복문을 사용할 때, 연산 횟수는 N에 비례.\n",
    "\n",
    "```python\n",
    "array = [3, 5, 1, 2, 4]\n",
    "summary = 0\n",
    "\n",
    "for i in array:\n",
    "    summary += i\n",
    "```\n",
    "\n",
    "위의 연산의 경우, 연산을 N번 진행하기 때문에 시간 복잡도는 O(N)으로 표기\n",
    "\n",
    "```python\n",
    "a = 5\n",
    "b = 7\n",
    "print(a+b)\n",
    "```\n",
    "위와 같은 경우엔 더하기 연산 한 번이 수행되기 때문에 시간 복잡도는 O(1)로 표기\n",
    "\n",
    "```python\n",
    "array = [3, 5, 1, 2, 4]\n",
    "\n",
    "for i in array:\n",
    "    for j in array:\n",
    "        temp = i*j\n",
    "        print(temp)\n",
    "```\n",
    "\n",
    "위의 경우에는 array 길이가 N개일 때, 2중 반복문을 하므로 O($N^2$)의 시간 복잡도를 가짐\n",
    "\n",
    "|표기법|명칭|\n",
    "|------|---|\n",
    "|$O(1)$|상수 시간|\n",
    "|$O$(logN)|로그 시간|\n",
    "|$O(N)$|선형 시간|\n",
    "|$O$(NlogN)|로그 선형 시간|\n",
    "|$O$($N^2$)|이차 시간|\n",
    "|$O$($N^3$)|삼차 시간|\n",
    "|$O$($2^n$)|지수 시간|\n",
    "\n",
    "일반적인 코딩 테스트 환경에서는 삼차 시간을 넘어가면 문제 풀이에 사용하기 어려움\n",
    "\n",
    "||N이 1,000일 때의 연산 횟수|\n",
    "|------|---|\n",
    "|$O$($N$)|1,000|\n",
    "|$O$(logN)|10,000|\n",
    "|$O$($N^2$)|1,000,000|\n",
    "|$O$($N^3$)|1,000,000,000|\n",
    "\n"
   ]
  },
  {
   "cell_type": "markdown",
   "id": "2381ae82",
   "metadata": {},
   "source": [
    "## 공간 복잡도\n",
    "\n",
    "- 코딩 테스트에서는 보통 메모리 사용량을 128 ~ 512 MB 정도로 제한\n",
    "- 다시 말하자면 일반적으로 데이터 개수가 1,000만 단위가 넘어가지 않도록 알고리즘 설계 필요"
   ]
  },
  {
   "cell_type": "markdown",
   "id": "2136e0db",
   "metadata": {},
   "source": [
    "## 시간과 메모리 측정\n",
    "\n",
    "```python\n",
    "import time\n",
    "start_time = time.time()   # 측정 시작\n",
    "\n",
    "## 알고리즘 코드\n",
    "\n",
    "end_time = time.time()     # 측정 종료\n",
    "print('time :', end_time - start_time)     # 수행시간 출력\n",
    "```"
   ]
  },
  {
   "cell_type": "code",
   "execution_count": 2,
   "id": "e38613d1",
   "metadata": {},
   "outputs": [
    {
     "name": "stdout",
     "output_type": "stream",
     "text": [
      "선택 정렬 성능 측정: 7.456715106964111\n",
      "기본 정렬 라이브러리 성능 측정: 0.0\n"
     ]
    }
   ],
   "source": [
    "# 선택 정렬과 기본 정렬 라이브러리의 수행 시간 비교\n",
    "from random import randint\n",
    "import time\n",
    "\n",
    "# 배열에 10,000개의 정수를 삽입\n",
    "array = []\n",
    "for _ in range(10000):\n",
    "    array.append(randint(1, 100))\n",
    "    \n",
    "# 선택 정렬 성능 측정\n",
    "start_time = time.time()\n",
    "\n",
    "for i in range(len(array)):\n",
    "    min_index = i\n",
    "    for j in range(i+1, len(array)):\n",
    "        if array[min_index] > array[j]:\n",
    "            min_index = j\n",
    "    array[i], array[min_index] = array[min_index], array[i]\n",
    "    \n",
    "end_time = time.time()\n",
    "print('선택 정렬 성능 측정:', end_time-start_time)\n",
    "\n",
    "# 배열을 다시 무작위 데이터로 초기화\n",
    "array = []\n",
    "for _ in range(10000):\n",
    "    array.append(randint(1, 100))\n",
    "\n",
    "# 기본 정렬 라이브러리 성능 측정\n",
    "start_time = time.time()\n",
    "\n",
    "array.sort()\n",
    "\n",
    "end_time = time.time()\n",
    "\n",
    "print('기본 정렬 라이브러리 성능 측정:', end_time-start_time)"
   ]
  },
  {
   "cell_type": "markdown",
   "id": "4bd0f19a",
   "metadata": {},
   "source": [
    "# 2. 16~20년 코딩 테스트 기출문제 유형 분석"
   ]
  },
  {
   "cell_type": "markdown",
   "id": "219a410f",
   "metadata": {},
   "source": [
    "## 출제 경향 및 준비 방향\n",
    "\n",
    "- 코딩 테스트에서는 주로 기초 알고리즘에 기반하는 문제가 출제\n",
    "    - 그리디(Greedy)\n",
    "    - 구현(implementation)\n",
    "    - DFS/BFS를 활용한 탐색\n",
    "    \n",
    "- 코딩 테스트는 일종의 주관식 시험으로 많은 양의 문제를 맞춰야 하는 다른 시험과는 다른 양상을 보임\n",
    "    - 합격자는 평균 69%의 문제를 풀었음\n"
   ]
  }
 ],
 "metadata": {
  "kernelspec": {
   "display_name": "Python 3 (ipykernel)",
   "language": "python",
   "name": "python3"
  },
  "language_info": {
   "codemirror_mode": {
    "name": "ipython",
    "version": 3
   },
   "file_extension": ".py",
   "mimetype": "text/x-python",
   "name": "python",
   "nbconvert_exporter": "python",
   "pygments_lexer": "ipython3",
   "version": "3.9.12"
  }
 },
 "nbformat": 4,
 "nbformat_minor": 5
}
