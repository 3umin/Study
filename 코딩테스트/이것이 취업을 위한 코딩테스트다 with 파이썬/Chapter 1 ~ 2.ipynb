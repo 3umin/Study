{
 "cells": [
  {
   "cell_type": "markdown",
   "id": "e5c5e0b2",
   "metadata": {},
   "source": [
    "# 1. 코딩 테스트 개요"
   ]
  },
  {
   "cell_type": "markdown",
   "id": "b8297daf",
   "metadata": {},
   "source": [
    "- 시간 복잡도 : 알고리즘이 문제를 해결하는 시간\n",
    "- 공간 복잡도 : 알고리즘을 문제를 해결하는데 필요한 메모리\n",
    "\n",
    "일반적으로 두 복잡도는 Trade-Off 관계가 있음."
   ]
  },
  {
   "cell_type": "markdown",
   "id": "bd77abfb",
   "metadata": {},
   "source": [
    "## 시간 복잡도"
   ]
  },
  {
   "cell_type": "markdown",
   "id": "65d9cf4f",
   "metadata": {},
   "source": [
    "- Big-O 표기법을 사용\n",
    "- 반복문을 사용할 때, 연산 횟수는 N에 비례.\n",
    "\n",
    "```python\n",
    "array = [3, 5, 1, 2, 4]\n",
    "summary = 0\n",
    "\n",
    "for i in array:\n",
    "    summary += i\n",
    "```\n",
    "\n",
    "위의 연산의 경우, 연산을 N번 진행하기 때문에 시간 복잡도는 O(N)으로 표기\n",
    "\n",
    "```python\n",
    "a = 5\n",
    "b = 7\n",
    "print(a+b)\n",
    "```\n",
    "위와 같은 경우엔 더하기 연산 한 번이 수행되기 때문에 시간 복잡도는 O(1)로 표기\n",
    "\n",
    "```python\n",
    "array = [3, 5, 1, 2, 4]\n",
    "\n",
    "for i in array:\n",
    "    for j in array:\n",
    "        temp = i*j\n",
    "        print(temp)\n",
    "```\n",
    "\n",
    "위의 경우에는 array 길이가 N개일 때, 2중 반복문을 하므로 O($N^2$)의 시간 복잡도를 가짐\n",
    "\n",
    "|표기법|명칭|\n",
    "|------|---|\n",
    "|$O(1)$|상수 시간|\n",
    "|$O$(logN)|로그 시간|\n",
    "|$O(N)$|선형 시간|\n",
    "|$O$(NlogN)|로그 선형 시간|\n",
    "|$O$($N^2$)|이차 시간|\n",
    "|$O$($N^3$)|삼차 시간|\n",
    "|$O$($2^n$)|지수 시간|\n",
    "\n",
    "일반적인 코딩 테스트 환경에서는 삼차 시간을 넘어가면 문제 풀이에 사용하기 어려움\n",
    "\n",
    "||N이 1,000일 때의 연산 횟수|\n",
    "|------|---|\n",
    "|$O$($N$)|1,000|\n",
    "|$O$(logN)|10,000|\n",
    "|$O$($N^2$)|1,000,000|\n",
    "|$O$($N^3$)|1,000,000,000|\n",
    "\n"
   ]
  },
  {
   "cell_type": "markdown",
   "id": "2381ae82",
   "metadata": {},
   "source": [
    "## 공간 복잡도\n",
    "\n",
    "- 코딩 테스트에서는 보통 메모리 사용량을 128 ~ 512 MB 정도로 제한\n",
    "- 다시 말하자면 일반적으로 데이터 개수가 1,000만 단위가 넘어가지 않도록 알고리즘 설계 필요"
   ]
  },
  {
   "cell_type": "markdown",
   "id": "2136e0db",
   "metadata": {},
   "source": [
    "## 시간과 메모리 측정\n",
    "\n",
    "```python\n",
    "import time\n",
    "start_time = time.time()   # 측정 시작\n",
    "\n",
    "## 알고리즘 코드\n",
    "\n",
    "end_time = time.time()     # 측정 종료\n",
    "print('time :', end_time - start_time)     # 수행시간 출력\n",
    "```"
   ]
  },
  {
   "cell_type": "code",
   "execution_count": 2,
   "id": "e38613d1",
   "metadata": {},
   "outputs": [
    {
     "name": "stdout",
     "output_type": "stream",
     "text": [
      "선택 정렬 성능 측정: 7.456715106964111\n",
      "기본 정렬 라이브러리 성능 측정: 0.0\n"
     ]
    }
   ],
   "source": [
    "# 선택 정렬과 기본 정렬 라이브러리의 수행 시간 비교\n",
    "from random import randint\n",
    "import time\n",
    "\n",
    "# 배열에 10,000개의 정수를 삽입\n",
    "array = []\n",
    "for _ in range(10000):\n",
    "    array.append(randint(1, 100))\n",
    "    \n",
    "# 선택 정렬 성능 측정\n",
    "start_time = time.time()\n",
    "\n",
    "for i in range(len(array)):\n",
    "    min_index = i\n",
    "    for j in range(i+1, len(array)):\n",
    "        if array[min_index] > array[j]:\n",
    "            min_index = j\n",
    "    array[i], array[min_index] = array[min_index], array[i]\n",
    "    \n",
    "end_time = time.time()\n",
    "print('선택 정렬 성능 측정:', end_time-start_time)\n",
    "\n",
    "# 배열을 다시 무작위 데이터로 초기화\n",
    "array = []\n",
    "for _ in range(10000):\n",
    "    array.append(randint(1, 100))\n",
    "\n",
    "# 기본 정렬 라이브러리 성능 측정\n",
    "start_time = time.time()\n",
    "\n",
    "array.sort()\n",
    "\n",
    "end_time = time.time()\n",
    "\n",
    "print('기본 정렬 라이브러리 성능 측정:', end_time-start_time)"
   ]
  },
  {
   "cell_type": "markdown",
   "id": "4bd0f19a",
   "metadata": {},
   "source": [
    "# 2. 16~20년 코딩 테스트 기출문제 유형 분석"
   ]
  },
  {
   "cell_type": "markdown",
   "id": "219a410f",
   "metadata": {},
   "source": [
    "## 출제 경향 및 준비 방향\n",
    "\n",
    "- 코딩 테스트에서는 주로 기초 알고리즘에 기반하는 문제가 출제\n",
    "    - 그리디(Greedy)\n",
    "    - 구현(implementation)\n",
    "    - DFS/BFS를 활용한 탐색\n",
    "    \n",
    "- 코딩 테스트는 일종의 주관식 시험으로 많은 양의 문제를 맞춰야 하는 다른 시험과는 다른 양상을 보임\n",
    "    - 합격자는 평균 69%의 문제를 풀었음\n"
   ]
  },
  {
   "cell_type": "markdown",
   "id": "8dfffeb3",
   "metadata": {},
   "source": [
    "# 파이썬 문법 정리"
   ]
  },
  {
   "cell_type": "markdown",
   "id": "95e28f70",
   "metadata": {},
   "source": [
    "List Comprehension : 2차원 리스트를 초기화할 때 유용"
   ]
  },
  {
   "cell_type": "code",
   "execution_count": 4,
   "id": "64a42277",
   "metadata": {},
   "outputs": [
    {
     "data": {
      "text/plain": [
       "[11, 12, 13, 14, 15, 16, 17, 18, 19]"
      ]
     },
     "execution_count": 4,
     "metadata": {},
     "output_type": "execute_result"
    }
   ],
   "source": [
    "array = [i for i in range(20) if i > 10]\n",
    "array"
   ]
  },
  {
   "cell_type": "code",
   "execution_count": 5,
   "id": "c84b4270",
   "metadata": {},
   "outputs": [
    {
     "data": {
      "text/plain": [
       "[[0, 0, 0, 0, 0], [0, 0, 0, 0, 0], [0, 0, 0, 0, 0], [0, 0, 0, 0, 0]]"
      ]
     },
     "execution_count": 5,
     "metadata": {},
     "output_type": "execute_result"
    }
   ],
   "source": [
    "array = [[0]*5 for _ in range(4)]\n",
    "array"
   ]
  },
  {
   "cell_type": "markdown",
   "id": "4a7aaafa",
   "metadata": {},
   "source": [
    "## 리스트"
   ]
  },
  {
   "cell_type": "code",
   "execution_count": 6,
   "id": "af07d299",
   "metadata": {},
   "outputs": [
    {
     "name": "stdout",
     "output_type": "stream",
     "text": [
      "기본 리스트: [1, 4, 3]\n",
      "삽입: [1, 4, 3, 2]\n",
      "오름차순 정렬: [1, 2, 3, 4]\n",
      "내림차순 정렬: [4, 3, 2, 1]\n"
     ]
    }
   ],
   "source": [
    "a = [1, 4, 3]\n",
    "print('기본 리스트:', a)\n",
    "\n",
    "# 원소 삽입\n",
    "a.append(2)\n",
    "print('삽입:', a)\n",
    "\n",
    "# 오름차순 정렬\n",
    "a.sort()\n",
    "print('오름차순 정렬:', a)\n",
    "\n",
    "# 내림차순 정렬\n",
    "a.sort(reverse=True)\n",
    "print('내림차순 정렬:', a)"
   ]
  },
  {
   "cell_type": "code",
   "execution_count": 7,
   "id": "53c4a7b6",
   "metadata": {},
   "outputs": [
    {
     "name": "stdout",
     "output_type": "stream",
     "text": [
      "원소 뒤집기: [1, 2, 3, 4]\n",
      "인덱스 2에 3 추가: [1, 2, 3, 3, 4]\n",
      "값이 3인 데이터 개수: 2\n",
      "값이 1인 데이터 삭제: [2, 3, 3, 4]\n"
     ]
    }
   ],
   "source": [
    "a = [4, 3, 2, 1]\n",
    "\n",
    "# 리스트 원소 뒤집기\n",
    "a.reverse()\n",
    "print('원소 뒤집기:', a)\n",
    "\n",
    "# 특정 인덱스에 데이터 추가\n",
    "a.insert(2, 3)\n",
    "print('인덱스 2에 3 추가:', a)\n",
    "\n",
    "# 특정 값 카운트\n",
    "print('값이 3인 데이터 개수:', a.count(3))\n",
    "\n",
    "# 특정 값 데이터 삭제\n",
    "a.remove(1)\n",
    "print('값이 1인 데이터 삭제:', a)"
   ]
  },
  {
   "cell_type": "code",
   "execution_count": 8,
   "id": "a3c8b0d6",
   "metadata": {},
   "outputs": [
    {
     "data": {
      "text/plain": [
       "[1, 2, 4]"
      ]
     },
     "execution_count": 8,
     "metadata": {},
     "output_type": "execute_result"
    }
   ],
   "source": [
    "# 리스트에서 특정 값을 가지는 원소 모두 제거\n",
    "a = [1, 2, 3, 4, 5, 5, 5]\n",
    "remove_set = {3, 5}\n",
    "\n",
    "# remove_set에 포함되지 않은 값만 저장\n",
    "result = [i for i in a if i not in remove_set]\n",
    "result"
   ]
  },
  {
   "cell_type": "markdown",
   "id": "33efc09d",
   "metadata": {},
   "source": [
    "## 문자열"
   ]
  },
  {
   "cell_type": "code",
   "execution_count": 10,
   "id": "aa346263",
   "metadata": {},
   "outputs": [
    {
     "name": "stdout",
     "output_type": "stream",
     "text": [
      "Hello Word\n",
      "Don't you know \"Python\"?\n"
     ]
    }
   ],
   "source": [
    "print('Hello Word')\n",
    "print(\"Don't you know \\\"Python\\\"?\")"
   ]
  },
  {
   "cell_type": "markdown",
   "id": "a14218db",
   "metadata": {},
   "source": [
    "## 딕셔너리"
   ]
  },
  {
   "cell_type": "code",
   "execution_count": 13,
   "id": "bd19a54a",
   "metadata": {},
   "outputs": [
    {
     "name": "stdout",
     "output_type": "stream",
     "text": [
      "{'사과': 'Apple', '바나나': 'Banana', '코코넛': 'Coconut'}\n",
      "사과를 키로 가지는 데이터가 존재합니다.\n",
      "dict_keys(['사과', '바나나', '코코넛'])\n",
      "dict_values(['Apple', 'Banana', 'Coconut'])\n",
      "Apple\n",
      "Banana\n",
      "Coconut\n"
     ]
    }
   ],
   "source": [
    "data = dict()\n",
    "data['사과'] = 'Apple'\n",
    "data['바나나'] = 'Banana'\n",
    "data['코코넛'] = 'Coconut'\n",
    "\n",
    "print(data)\n",
    "\n",
    "if '사과' in data:\n",
    "    print('사과를 키로 가지는 데이터가 존재합니다.')\n",
    "    \n",
    "print(data.keys())\n",
    "print(data.values())\n",
    "\n",
    "# 각각의 키값에 따라 출력\n",
    "for i in ['사과', '바나나', '코코넛']:\n",
    "    print(data[i])"
   ]
  },
  {
   "cell_type": "markdown",
   "id": "31fe2855",
   "metadata": {},
   "source": [
    "## 집합 자료형(set)"
   ]
  },
  {
   "cell_type": "markdown",
   "id": "2ba4421a",
   "metadata": {},
   "source": [
    "- 중복을 허용하지 않음\n",
    "- 순서가 없음\n"
   ]
  },
  {
   "cell_type": "code",
   "execution_count": 14,
   "id": "43fc1d17",
   "metadata": {},
   "outputs": [
    {
     "name": "stdout",
     "output_type": "stream",
     "text": [
      "{1, 2, 3, 4, 5}\n"
     ]
    }
   ],
   "source": [
    "data = set([1, 1, 2, 3, 4, 4, 5])\n",
    "print(data)"
   ]
  },
  {
   "cell_type": "code",
   "execution_count": 15,
   "id": "5ddd2dc9",
   "metadata": {},
   "outputs": [
    {
     "name": "stdout",
     "output_type": "stream",
     "text": [
      "{1, 2, 3, 4, 5, 6, 7}\n",
      "{3, 4, 5}\n",
      "{1, 2}\n"
     ]
    }
   ],
   "source": [
    "## 집합 자료형의 연산\n",
    "a = set([1, 2, 3, 4, 5])\n",
    "b = set([3, 4, 5, 6, 7])\n",
    "\n",
    "# 합집합\n",
    "print(a|b)\n",
    "\n",
    "# 교집합\n",
    "print(a & b)\n",
    "\n",
    "# 차집합\n",
    "print(a - b)"
   ]
  },
  {
   "cell_type": "code",
   "execution_count": 16,
   "id": "12f13ab1",
   "metadata": {},
   "outputs": [
    {
     "name": "stdout",
     "output_type": "stream",
     "text": [
      "{1, 2, 3}\n",
      "{1, 2, 3, 4}\n",
      "{1, 2, 3, 4, 5, 6}\n",
      "{1, 2, 4, 5, 6}\n"
     ]
    }
   ],
   "source": [
    "## 집합 자료형 관련 함수\n",
    "data =set([1, 2, 3])\n",
    "print(data)\n",
    "\n",
    "# 새 원소 추가\n",
    "data.add(4)\n",
    "print(data)\n",
    "\n",
    "# 새 원소 여러개 추가\n",
    "data.update([5, 6])\n",
    "print(data)\n",
    "\n",
    "# 특정 값 제거\n",
    "data.remove(3)\n",
    "print(data)"
   ]
  },
  {
   "cell_type": "markdown",
   "id": "1136252c",
   "metadata": {},
   "source": [
    "## 기본 입출력"
   ]
  },
  {
   "cell_type": "code",
   "execution_count": 1,
   "id": "41b48a40",
   "metadata": {},
   "outputs": [
    {
     "name": "stdout",
     "output_type": "stream",
     "text": [
      "1 2 3 4\n",
      "[1, 2, 3, 4]\n"
     ]
    }
   ],
   "source": [
    "# 각 데이터를 공백을 기준으로 구분하여 입력하고 숫자로 변환\n",
    "data = list(map(int, input().split()))\n",
    "print(data)"
   ]
  },
  {
   "cell_type": "code",
   "execution_count": 2,
   "id": "ef2f4d3d",
   "metadata": {},
   "outputs": [
    {
     "name": "stdout",
     "output_type": "stream",
     "text": [
      "5 7 10\n",
      "5 7 10\n"
     ]
    }
   ],
   "source": [
    "# n, m, k를 공백을 기준으로 구분하여 입력\n",
    "n, m, k = map(int, input().split())\n",
    "print(n, m, k)"
   ]
  },
  {
   "cell_type": "markdown",
   "id": "59a7715b",
   "metadata": {},
   "source": [
    "## 람다표현식"
   ]
  },
  {
   "cell_type": "code",
   "execution_count": 6,
   "id": "666e1fbb",
   "metadata": {},
   "outputs": [
    {
     "name": "stdout",
     "output_type": "stream",
     "text": [
      "[('이순신', 32), ('홍길동', 50), ('아무개', 74)]\n",
      "[('이순신', 32), ('홍길동', 50), ('아무개', 74)]\n"
     ]
    }
   ],
   "source": [
    "# 가장 중요. 리스트를 판다스 인덱스처럼 정렬\n",
    "array = [('홍길동', 50), ('이순신', 32), ('아무개', 74)]\n",
    "\n",
    "def my_key(x):\n",
    "    return x[1]\n",
    "\n",
    "print(sorted(array, key=my_key))\n",
    "print(sorted(array, key=lambda x: x[1]))"
   ]
  },
  {
   "cell_type": "code",
   "execution_count": 7,
   "id": "29946e1d",
   "metadata": {},
   "outputs": [
    {
     "name": "stdout",
     "output_type": "stream",
     "text": [
      "[7, 9, 11, 13, 15]\n"
     ]
    }
   ],
   "source": [
    "# 여러개의 리스트에 원소별로 합\n",
    "\n",
    "list1 = [1, 2, 3, 4, 5]\n",
    "list2 = [6, 7, 8, 9, 10]\n",
    "\n",
    "result = map(lambda a, b: a+b, list1, list2)\n",
    "print(list(result))"
   ]
  },
  {
   "cell_type": "markdown",
   "id": "fdc1a3f1",
   "metadata": {},
   "source": [
    "## 표준 라이브러리"
   ]
  },
  {
   "cell_type": "markdown",
   "id": "42a0f89e",
   "metadata": {},
   "source": [
    "- itertools : 순열, 조합 등으로 사용\n",
    "- headq : 힙(Heap) 자료구조(우선순위 큐 기능)\n",
    "- bisect : 이진 탐색(Binary Search) 기능\n",
    "- collections : 덱(deque), 카운터(Counter)\n",
    "- math : 팩토리얼, 제곱근, 최소공약수(gcd), 파이 등"
   ]
  },
  {
   "cell_type": "code",
   "execution_count": 9,
   "id": "7e5f8811",
   "metadata": {},
   "outputs": [
    {
     "name": "stdout",
     "output_type": "stream",
     "text": [
      "[('A', 'B', 'C'), ('A', 'C', 'B'), ('B', 'A', 'C'), ('B', 'C', 'A'), ('C', 'A', 'B'), ('C', 'B', 'A')]\n"
     ]
    }
   ],
   "source": [
    "# 순열\n",
    "from itertools import permutations\n",
    "\n",
    "data = ['A', 'B', 'C']\n",
    "\n",
    "result = list(permutations(data, 3))\n",
    "print(result)"
   ]
  },
  {
   "cell_type": "code",
   "execution_count": 11,
   "id": "30596b15",
   "metadata": {},
   "outputs": [
    {
     "name": "stdout",
     "output_type": "stream",
     "text": [
      "[('A', 'B'), ('A', 'C'), ('B', 'C')]\n"
     ]
    }
   ],
   "source": [
    "# 조합\n",
    "from itertools import combinations\n",
    "\n",
    "data = ['A', 'B', 'C']\n",
    "\n",
    "result = list(combinations(data, 2))\n",
    "print(result)"
   ]
  },
  {
   "cell_type": "code",
   "execution_count": 12,
   "id": "e80bbcb4",
   "metadata": {},
   "outputs": [
    {
     "name": "stdout",
     "output_type": "stream",
     "text": [
      "[('A', 'A'), ('A', 'B'), ('A', 'C'), ('B', 'A'), ('B', 'B'), ('B', 'C'), ('C', 'A'), ('C', 'B'), ('C', 'C')]\n",
      "[('A', 'A'), ('A', 'B'), ('A', 'C'), ('B', 'B'), ('B', 'C'), ('C', 'C')]\n"
     ]
    }
   ],
   "source": [
    "# 중복 순열\n",
    "from itertools import product\n",
    "data = ['A', 'B', 'C']\n",
    "\n",
    "result = list(product(data, repeat=2))\n",
    "print(result)\n",
    "\n",
    "# 중복 조합\n",
    "\n",
    "from itertools import combinations_with_replacement\n",
    "result = list(combinations_with_replacement(data, 2))\n",
    "print(result)"
   ]
  },
  {
   "cell_type": "code",
   "execution_count": 13,
   "id": "fc7289cc",
   "metadata": {},
   "outputs": [
    {
     "name": "stdout",
     "output_type": "stream",
     "text": [
      "{'red': 2, 'blue': 3, 'green': 1}\n",
      "3\n",
      "1\n"
     ]
    }
   ],
   "source": [
    "# Counter\n",
    "\n",
    "from collections import Counter\n",
    "\n",
    "counter = Counter(['red', 'blue', 'red', 'green', 'blue', 'blue'])\n",
    "\n",
    "print(dict(counter))\n",
    "print(counter['blue'])\n",
    "print(counter['green'])"
   ]
  },
  {
   "cell_type": "code",
   "execution_count": 14,
   "id": "747ac905",
   "metadata": {},
   "outputs": [
    {
     "name": "stdout",
     "output_type": "stream",
     "text": [
      "7\n",
      "42\n"
     ]
    }
   ],
   "source": [
    "# 최대 공약수와 최소공배수\n",
    "\n",
    "import math\n",
    "\n",
    "def lcm(a, b):\n",
    "    return a * b // math.gcd(a, b)\n",
    "\n",
    "a = 21\n",
    "b = 14\n",
    "\n",
    "print(math.gcd(21, 14))  # 최대공약수\n",
    "print(lcm(21, 14))   # 최소 공배수"
   ]
  }
 ],
 "metadata": {
  "kernelspec": {
   "display_name": "Python 3 (ipykernel)",
   "language": "python",
   "name": "python3"
  },
  "language_info": {
   "codemirror_mode": {
    "name": "ipython",
    "version": 3
   },
   "file_extension": ".py",
   "mimetype": "text/x-python",
   "name": "python",
   "nbconvert_exporter": "python",
   "pygments_lexer": "ipython3",
   "version": "3.9.12"
  }
 },
 "nbformat": 4,
 "nbformat_minor": 5
}
