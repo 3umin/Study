{
 "cells": [
  {
   "cell_type": "markdown",
   "id": "7e353b2e",
   "metadata": {},
   "source": [
    "# 3. 그리디"
   ]
  },
  {
   "cell_type": "markdown",
   "id": "d895d12d",
   "metadata": {},
   "source": [
    "## 당장 좋은 것만 선택하는 그리디\n",
    "\n",
    "- 그리디 : 탐욕적으로 문제를 푸는 알고리즘\n",
    "\n",
    "    탐욕적 : 현재 상황에서 지금 당장 좋은 것만 고르는 방법. 현재의 선택이 나중에 미칠 영향에 대해서는 고려하지 않음\n",
    "    "
   ]
  },
  {
   "cell_type": "markdown",
   "id": "e4549f01",
   "metadata": {},
   "source": [
    "### 예제 3-1 거스름돈\n",
    "\n",
    "카운터에 거스름돈으로 사용할 동전이 500원, 100원, 50원, 10원짜리 동전이 무한히 존재\n",
    "\n",
    "손님에게 거슬러 줘야 할 돈이 N원일 때, 거슬러줘야 할 동전의 최소 개수를 구하라. 단, 거슬러 줘야 할 돈 N은 항상 10의 배수이다."
   ]
  },
  {
   "cell_type": "code",
   "execution_count": 7,
   "id": "56f78565",
   "metadata": {},
   "outputs": [
    {
     "name": "stdout",
     "output_type": "stream",
     "text": [
      "6\n"
     ]
    }
   ],
   "source": [
    "n = 1260\n",
    "count = 0\n",
    "\n",
    "# 큰 단위의 화폐부터 차례대로 확인\n",
    "coin_types = [500, 100, 50, 10]\n",
    "\n",
    "for coin in coin_types:\n",
    "    count += n // coin\n",
    "    n %= coin       # n을 coin 단위로 나눈 나머지 값(나머지 거스름돈)\n",
    "    \n",
    "print(count)"
   ]
  },
  {
   "cell_type": "markdown",
   "id": "add037a1",
   "metadata": {},
   "source": [
    "그리디 알고리즘으로 문제의 해법을 찾았을 때는 그 해법이 정당한지 검토해야 함.\n",
    "\n",
    "거스름돈 문제를 그리디 알고리즘으로 해결할 수 있는 이유는 **가지고 있는 동전 중에서 큰 단위가 항상 작은 단위의 배수이므로 작은 단위의 동전들을 종합해 다른 해가 나올 수 없기 때문**\n",
    "\n",
    "만약 거슬러줄 수 있는 동전이 500원, 400원, 100원 (500원이 400원의 배수가 아님)인 경우에는,  \n",
    "그리디 알고리즘으로는 4개의 동전(500 + 100 + 100 + 100)이 나오는데, 실제 최적의 해는 2개의 동전(400 + 400)으로 나옴"
   ]
  },
  {
   "cell_type": "markdown",
   "id": "cd8c0076",
   "metadata": {},
   "source": [
    "## 예제 3-2 큰 수의 법칙\n",
    "\n",
    "숫자가 담겨있는 배열에서 수를 뽑아 M번 더하여 가장 큰 수를 만드는 데, 한 인덱스에 있는 값은 연속해서 최대 K번까지 더해질 수 있음\n",
    "\n",
    "배열의 크기 N, M, K 를 첫줄에 입력하고  \n",
    "이후 배열의 원소를 입력\n",
    "\n",
    "\n",
    "입력 예시)  \n",
    "5 8 3  \n",
    "2 4 5 4 6\n",
    "\n",
    "출력값 = 46"
   ]
  },
  {
   "cell_type": "code",
   "execution_count": 48,
   "id": "99a1c3ed",
   "metadata": {},
   "outputs": [
    {
     "name": "stdout",
     "output_type": "stream",
     "text": [
      "6\n",
      "12\n",
      "18\n",
      "29\n",
      "35\n",
      "41\n"
     ]
    }
   ],
   "source": [
    "## 직접 푼 코드\n",
    "\n",
    "n, m, k = map(int, input('N, M, K 순으로 띄워서 입력하세요').split(' '))\n",
    "data = list(map(int, input('배열 값을 입력하세요').split(' ')))\n",
    "data.sort(reverse=True)\n",
    "\n",
    "answer = 0\n",
    "i = 0\n",
    "\n",
    "while i < m:\n",
    "    for idx in range(data.count(data[0])):\n",
    "        i_a = 0\n",
    "        while i_a < k:\n",
    "            answer += data[idx]\n",
    "            i_a += 1\n",
    "            i += 1\n",
    "        \n",
    "       \n",
    "    answer += data[data.count(data[0])]\n",
    "    i += 1\n",
    "    \n",
    "print(answer)"
   ]
  },
  {
   "cell_type": "markdown",
   "id": "fa3169ab",
   "metadata": {},
   "source": [
    "### 해설\n",
    "\n",
    "- i(전체 더한 횟수), i_a(가장 큰 수 연속으로 더한 횟수)\n",
    "- i가 m이 되기 전까지, i_a가 k가 될때까지 answer에 값을 더함\n",
    "- i_a가 k가 된다면 그 다음 인덱스(가장 큰 값이 여러 값이라면)로 넘어가서 동일한 작업을 취함\n",
    "- 만약 가장 큰 값을 더이상 사용하지 못한다면, 그 다음으로 큰 값을 한 번 더해주고 다시 for문으로 돌아감"
   ]
  },
  {
   "cell_type": "code",
   "execution_count": 51,
   "id": "b80ea7e0",
   "metadata": {},
   "outputs": [
    {
     "data": {
      "text/plain": [
       "2"
      ]
     },
     "execution_count": 51,
     "metadata": {},
     "output_type": "execute_result"
    }
   ],
   "source": [
    "int(m / (k+1))"
   ]
  },
  {
   "cell_type": "code",
   "execution_count": 54,
   "id": "5f222545",
   "metadata": {},
   "outputs": [
    {
     "data": {
      "text/plain": [
       "6"
      ]
     },
     "execution_count": 54,
     "metadata": {},
     "output_type": "execute_result"
    }
   ],
   "source": [
    "count = int(m / (k+1)) * k    \n",
    "count += m % (k+1)\n",
    "count"
   ]
  },
  {
   "cell_type": "markdown",
   "id": "ff65f6ef",
   "metadata": {},
   "source": [
    "### 책의 풀이"
   ]
  },
  {
   "cell_type": "code",
   "execution_count": 56,
   "id": "424df5c8",
   "metadata": {},
   "outputs": [
    {
     "name": "stdout",
     "output_type": "stream",
     "text": [
      "5 8 3\n",
      "2 4 4 5 6\n",
      "46\n"
     ]
    }
   ],
   "source": [
    "n, m, k = map(int, input().split(' '))\n",
    "data = list(map(int, input().split(' ')))\n",
    "data.sort()\n",
    "\n",
    "first = data[n-1]    # 가장 큰 수\n",
    "second = data[n-2]   # 두번째로 큰 수\n",
    "\n",
    "# 가장 큰 수가 더해지는 횟수 계산\n",
    "count = int(m / (k+1)) * k    # first k번 + second 1번으로 구성되므로 k+1로 나눈 정수값 = 한 세트 값. 이를 k를 곱해주어 가장 큰 수가 나오는 경우를 함\n",
    "count += m % (k+1)    # k+1개로 구성된 세트를 M에서 빼고, 나머지 값만큼 더 함\n",
    "\n",
    "result = 0\n",
    "result += count * first\n",
    "result += (m-count) * second\n",
    "\n",
    "print(result)"
   ]
  },
  {
   "cell_type": "markdown",
   "id": "d56be1c8",
   "metadata": {},
   "source": [
    "## 예제 3-3 숫자 카드 게임\n",
    "\n",
    "여러 개의 숫자 카드 중에서 가장 높은 숫자가 쓰인 카드 한 장을 뽑는 게임. 단 게임의 룰을 지켜야 함\n",
    "\n",
    "1. 숫자가 쓰인 카드들이 N X M 형태로 놓여있다.\n",
    "2. 먼저 뽑고자 하는 카드가 포함되어 있는 행을 선택\n",
    "3. 선택된 행에 포함된 카드들 중 가장 숫자가 낮은 카드를 뽑아야 함\n",
    "4. 따라서 처음에 카드를 골라낼 행을 선택할 때, 그 행에서 가장 낮은 숫자 카드를 뽑을 것을 고려하여 최종적으로 가장 높은 숫자의 카드를 봅을 수 있도록 전략을 세워야 함.\n",
    "\n",
    "첫번째 입력값은 행의 수 N과 열의 수 M이 공백을 기준으로 띄워저 입력\n",
    "\n",
    "두번째 입력값부터는 한 행에 존재하는 카드가 주어짐\n"
   ]
  },
  {
   "cell_type": "code",
   "execution_count": 14,
   "id": "b559f0cb",
   "metadata": {},
   "outputs": [
    {
     "name": "stdout",
     "output_type": "stream",
     "text": [
      "행과 열을 입력하시오2 4\n",
      "행의 구성원소를 입력하시오7 3 1 8\n",
      "행의 구성원소를 입력하시오3 3 3 4\n",
      "3\n"
     ]
    }
   ],
   "source": [
    "### 직접 푼 코드\n",
    "\n",
    "n, m = list(map(int, input('행과 열을 입력하시오').split(' ')))\n",
    "\n",
    "total_min = []\n",
    "for i in range(n):\n",
    "    row = list(map(int, input('행의 구성원소를 입력하시오').split(' ')))\n",
    "    total_min.append(min(row))\n",
    "    \n",
    "answer = max(total_min)\n",
    "print(answer)"
   ]
  },
  {
   "cell_type": "markdown",
   "id": "99d29ee7",
   "metadata": {},
   "source": [
    "### 해설\n",
    "\n",
    "- 행으로 지정한 수만큼 input문을 반복하여 행의 원소를 입력받음\n",
    "- 하나의 행을 골랐으면 그 행에서 최솟값을 뽑아야 하므로, 선택지 리스트(total_min)에 행별로 최솟값을 삽입\n",
    "- 행 별로 최솟값이 들어있는 리스트에서 최댓값을 추출"
   ]
  },
  {
   "cell_type": "code",
   "execution_count": 15,
   "id": "7051e492",
   "metadata": {},
   "outputs": [
    {
     "name": "stdout",
     "output_type": "stream",
     "text": [
      "2 4\n",
      "7 3 1 8\n",
      "3 3 3 4\n",
      "3\n"
     ]
    }
   ],
   "source": [
    "### 책 코드 - min() 함수 예시\n",
    "\n",
    "n, m = map(int, input().split())\n",
    "\n",
    "result = 0\n",
    "\n",
    "for i in range(n):\n",
    "    data = list(map(int, input().split()))\n",
    "    min_value = min(data)\n",
    "    result = max(result, min_value)\n",
    "\n",
    "print(result)"
   ]
  },
  {
   "cell_type": "code",
   "execution_count": 16,
   "id": "58db2f8f",
   "metadata": {},
   "outputs": [
    {
     "name": "stdout",
     "output_type": "stream",
     "text": [
      "2 4\n",
      "7 3 1 8\n",
      "3 3 3 4\n",
      "3\n"
     ]
    }
   ],
   "source": [
    "### 책 코드 - 2중 for문 예시\n",
    "\n",
    "n, m = map(int, input().split())\n",
    "\n",
    "result = 0\n",
    "\n",
    "for i in range(n):\n",
    "    data = list(map(int, input().split()))\n",
    "    min_value = 10001\n",
    "    for a in data:\n",
    "        min_value = min(min_value, a)\n",
    "        \n",
    "    result = max(result, min_value)\n",
    "\n",
    "print(result)"
   ]
  },
  {
   "cell_type": "markdown",
   "id": "aed8139e",
   "metadata": {},
   "source": [
    "## 예제 3-4 1이 될 때까지\n",
    "\n",
    "어떠한 수 N이 1이 될 때까지 다음 두 과정 중 하나를 반복하여 수행.  \n",
    "단, 두번째 연산은 N이 K로 나누어 떨어질 때만 선택 가능\n",
    "\n",
    "1. N에서 1을 뺀다.\n",
    "2. N을 K로 나눈다.\n",
    "\n",
    "예를 들어 n = 17, k = 4라고 가정하면  \n",
    "1번의 과정을 한번 거쳐 n = 16이 된 뒤  \n",
    "2번의 과정을 두번 거쳐 n = 1까지 도달.\n",
    "\n",
    "이 경우 수행해야 하는 최소 횟수는 3\n",
    "\n",
    "3을 출력하는 프로그램을 작성"
   ]
  },
  {
   "cell_type": "code",
   "execution_count": 66,
   "id": "d413346a",
   "metadata": {},
   "outputs": [
    {
     "name": "stdout",
     "output_type": "stream",
     "text": [
      "n과 k를 입력하시오25 3\n",
      "6\n"
     ]
    }
   ],
   "source": [
    "### 내가 푼 코드\n",
    "\n",
    "n, k = map(int, input('n과 k를 입력하시오').split(' '))\n",
    "iter = 0\n",
    "status = True\n",
    "while status:\n",
    "    \n",
    "    if n % k == 0:\n",
    "        n /= k\n",
    "        iter += 1\n",
    "    \n",
    "    else:\n",
    "        n -= 1\n",
    "        iter += 1\n",
    "        \n",
    "    if n == 1:\n",
    "        status = False\n",
    "    \n",
    "print(iter)"
   ]
  },
  {
   "cell_type": "markdown",
   "id": "06b9d2f7",
   "metadata": {},
   "source": [
    "### 해설\n",
    "\n",
    "- while문을 사용해 해결\n",
    "- n이 k로 나누어 떨어지면 n을 k로 나눈 값을 n으로 저장하고\n",
    "- 안떨어진다면 n에서 1을 뺀 값을 n으로 저장\n",
    "- 만약 n이 1이라면 status=False로 값을 지정하여 while문 종료"
   ]
  },
  {
   "cell_type": "code",
   "execution_count": 67,
   "id": "681c4dfc",
   "metadata": {},
   "outputs": [
    {
     "name": "stdout",
     "output_type": "stream",
     "text": [
      "25 3\n",
      "6\n"
     ]
    }
   ],
   "source": [
    "### 책에 나온 코드 - 단순하게 푸는 답안\n",
    "\n",
    "n, k = map(int, input().split())\n",
    "result = 0\n",
    "\n",
    "while n >= k:\n",
    "    while n % k != 0:\n",
    "        n -= 1\n",
    "        result += 1\n",
    "    \n",
    "    n //= k\n",
    "    result += 1\n",
    "    \n",
    "\n",
    "while n > 1:\n",
    "    n -= 1\n",
    "    result += 1\n",
    "    \n",
    "print(result)"
   ]
  },
  {
   "cell_type": "code",
   "execution_count": 68,
   "id": "8e6ccee8",
   "metadata": {},
   "outputs": [
    {
     "name": "stdout",
     "output_type": "stream",
     "text": [
      "25 3\n",
      "6\n"
     ]
    }
   ],
   "source": [
    "### 책에 나온 코드 - 다른 답안\n",
    "\n",
    "n, k = map(int, input().split())\n",
    "result = 0\n",
    "\n",
    "while True:\n",
    "    target = (n // k) * k\n",
    "    result += (n - target)\n",
    "    n = target\n",
    "    \n",
    "    if n < k:\n",
    "        break\n",
    "    \n",
    "    result += 1\n",
    "    n //= k\n",
    "\n",
    "result += (n-1)\n",
    "print(result)"
   ]
  }
 ],
 "metadata": {
  "kernelspec": {
   "display_name": "Python 3 (ipykernel)",
   "language": "python",
   "name": "python3"
  },
  "language_info": {
   "codemirror_mode": {
    "name": "ipython",
    "version": 3
   },
   "file_extension": ".py",
   "mimetype": "text/x-python",
   "name": "python",
   "nbconvert_exporter": "python",
   "pygments_lexer": "ipython3",
   "version": "3.9.12"
  }
 },
 "nbformat": 4,
 "nbformat_minor": 5
}
