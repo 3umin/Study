{
 "cells": [
  {
   "cell_type": "markdown",
   "id": "df8d950f",
   "metadata": {},
   "source": [
    "# 4.1 머신러닝의 네가지 분류"
   ]
  },
  {
   "cell_type": "markdown",
   "id": "9622950b",
   "metadata": {},
   "source": [
    "## 4.1.1 지도 학습"
   ]
  },
  {
   "cell_type": "markdown",
   "id": "b1109afa",
   "metadata": {},
   "source": [
    "레이블 된 데이터에 대해 학습하는 것\n",
    "- 시퀀스 생성: 사진이 주어지면 이를 설명하는 캡션을 생성\n",
    "- 구문 트리(syntax tree) 예측: 문장이 주어지면 분해된 구문 트리를 예측\n",
    "- 물체 감지: 사진 안의 특정 물체 주위에 경계 상자를 그림\n",
    "- 이미지 분할: 픽셀 단위로 특정 물체에 마스킹"
   ]
  },
  {
   "cell_type": "markdown",
   "id": "19a04d06",
   "metadata": {},
   "source": [
    "## 4.1.2 비지도 학습"
   ]
  },
  {
   "cell_type": "markdown",
   "id": "e6b0dfa8",
   "metadata": {},
   "source": [
    "차원축소, 군집 등 레이블 없이 진행"
   ]
  },
  {
   "cell_type": "markdown",
   "id": "f3da02bc",
   "metadata": {},
   "source": [
    "## 4.1.3 자기 지도 학습"
   ]
  },
  {
   "cell_type": "markdown",
   "id": "3bdd0eac",
   "metadata": {},
   "source": [
    "사람이 만든 레이블을 사용하지 않음. 경험적인 알고리즘(heuristic algorithm) 등을 사용하여 입력데이터로부터 레이블을 직접 생성\n",
    "\n",
    "오토인코더가 대표적인 예.\n",
    "\n",
    "지난 프레임이 주어졌을 때 다음 프레임을 예측하는 것이나, 이전 단어가 주어졌을 때 다음 단어를 예측하는 것이 자기지도학습의 예"
   ]
  },
  {
   "cell_type": "markdown",
   "id": "614a0e8a",
   "metadata": {},
   "source": [
    "## 4.1.4 강화 학습"
   ]
  },
  {
   "cell_type": "markdown",
   "id": "de25b122",
   "metadata": {},
   "source": [
    "에이전트는 환경에 대한 정보를 받아 보상을 최대화하는 행동을 선택하도록 학습"
   ]
  },
  {
   "cell_type": "markdown",
   "id": "5f7acea4",
   "metadata": {},
   "source": [
    "# 4.4 과대적합과 과소적합"
   ]
  },
  {
   "cell_type": "markdown",
   "id": "15af0a80",
   "metadata": {},
   "source": [
    "## 4.4.1 네트워크 크기 축소"
   ]
  },
  {
   "cell_type": "markdown",
   "id": "6b0a5800",
   "metadata": {},
   "source": [
    "과대적합을 막는 가장 단순한 방법은 모델의 크기, 즉 모델에 있는 학습 파라미터의 수를 줄이는 것.\n",
    "\n",
    "파라미터의 수는 층의 수와 각 층의 유닛 수에 의해 결정된다."
   ]
  },
  {
   "cell_type": "code",
   "execution_count": 2,
   "id": "cbb0f920",
   "metadata": {},
   "outputs": [],
   "source": [
    "# 원본 모델\n",
    "\n",
    "from keras import models\n",
    "from keras import layers\n",
    "\n",
    "model = models.Sequential([\n",
    "    layers.Dense(16, activation='relu', input_shape=(10000,)),\n",
    "    layers.Dense(16, activation='relu'),\n",
    "    layers.Dense(1, activation='sigmoid')\n",
    "])"
   ]
  },
  {
   "cell_type": "code",
   "execution_count": 4,
   "id": "35f09579",
   "metadata": {},
   "outputs": [],
   "source": [
    "# 축소 모델\n",
    "\n",
    "model = models.Sequential([\n",
    "    layers.Dense(6, activation='relu', input_shape=(10000,)),\n",
    "    layers.Dense(6, activation='relu'),\n",
    "    layers.Dense(1, activation='sigmoid')\n",
    "])"
   ]
  },
  {
   "cell_type": "code",
   "execution_count": 5,
   "id": "5697cfa1",
   "metadata": {},
   "outputs": [],
   "source": [
    "# 대용량 모델\n",
    "\n",
    "model = models.Sequential([\n",
    "    layers.Dense(1024, activation='relu', input_shape=(10000,)),\n",
    "    layers.Dense(1024, activation='relu'),\n",
    "    layers.Dense(1, activation='sigmoid')\n",
    "])"
   ]
  },
  {
   "cell_type": "markdown",
   "id": "559fb1ec",
   "metadata": {},
   "source": [
    "## 4.4.2 가중치 규제 추가"
   ]
  },
  {
   "cell_type": "markdown",
   "id": "e3cae087",
   "metadata": {},
   "source": [
    "네트워크 복잡도에 제한을 두어 가중치가 작은 값을 가지도록 강제\n",
    "- L1 규제: 가중치의 절댓값에 비례하는 비용이 추가\n",
    "- L2 규제: 가중치의 제곱에 비례하는 비용이 추가"
   ]
  },
  {
   "cell_type": "code",
   "execution_count": 7,
   "id": "535559ee",
   "metadata": {},
   "outputs": [],
   "source": [
    "# L2 가중치 규제 추가\n",
    "\n",
    "from keras import regularizers\n",
    "\n",
    "model = models.Sequential([\n",
    "    layers.Dense(16, kernel_regularizer=regularizers.l2(0.001), activation='relu', input_shape=(10000,)),\n",
    "    # l2(0.001)은 가중치 행렬의 모든 원소를 제곱하고 0.001을 곱하여 네트워크 전체 손실에 더해짐\n",
    "    layers.Dense(16, kernel_regularizer=regularizers.l2(0.001), activation='relu'),\n",
    "    layers.Dense(1, activation='sigmoid')\n",
    "])"
   ]
  },
  {
   "cell_type": "code",
   "execution_count": 8,
   "id": "6d9e5da6",
   "metadata": {},
   "outputs": [
    {
     "data": {
      "text/plain": [
       "<keras.regularizers.L1L2 at 0x1b3254e8400>"
      ]
     },
     "execution_count": 8,
     "metadata": {},
     "output_type": "execute_result"
    }
   ],
   "source": [
    "# L1 규제, L1과 L2 모두 같이 사용한 규제 모두 가능\n",
    "\n",
    "from keras import regularizers\n",
    "\n",
    "regularizers.l1(0.001)\n",
    "\n",
    "regularizers.l1_l2(l1=0.001, l2=0.001)"
   ]
  },
  {
   "cell_type": "markdown",
   "id": "7304853f",
   "metadata": {},
   "source": [
    "## 4.4.3 드롭아웃 추가"
   ]
  },
  {
   "cell_type": "markdown",
   "id": "193cff33",
   "metadata": {},
   "source": [
    "훈련하는 동안 무작위로 층의 일부 출력 특성을 제외시킴"
   ]
  },
  {
   "cell_type": "code",
   "execution_count": 9,
   "id": "ef5afb08",
   "metadata": {},
   "outputs": [],
   "source": [
    "model = models.Sequential([\n",
    "    layers.Dense(16, activation='relu', input_shape=(10000,)),\n",
    "    layers.Dropout(0.5),   # 50%를 버림\n",
    "    layers.Dense(16, activation='relu'),\n",
    "    layers.Dropout(0.5),\n",
    "    layers.Dense(1, activation='sigmoid')\n",
    "])"
   ]
  },
  {
   "cell_type": "markdown",
   "id": "e4c6513f",
   "metadata": {},
   "source": [
    "# 4.5 보편적인 머신러닝 작업 흐름"
   ]
  },
  {
   "cell_type": "markdown",
   "id": "8ad61a03",
   "metadata": {},
   "source": [
    "## 4.5.1 문제 정의와 데이터셋 수집"
   ]
  },
  {
   "cell_type": "markdown",
   "id": "b4a71f7a",
   "metadata": {},
   "source": [
    "## 4.5.2 성공 지표 선택"
   ]
  },
  {
   "cell_type": "markdown",
   "id": "93fc82c0",
   "metadata": {},
   "source": [
    "클래스 분포가 균일한 분류 문제에서는 정확도, ROC, AUC가 일반적\n",
    "\n",
    "클래스가 균일하지 않은 경우 정밀도와 재현율을 사용"
   ]
  },
  {
   "cell_type": "markdown",
   "id": "4dc6d459",
   "metadata": {},
   "source": [
    "## 4.5.3 평가 방법 선택"
   ]
  },
  {
   "cell_type": "markdown",
   "id": "a0d1d93c",
   "metadata": {},
   "source": [
    "- 홀드아웃 검증 세트 분리: 데이터가 풍부할 때 사용\n",
    "- K-Fold 교차 검증: 홀드아웃을 사용하기에 샘플의 수가 너무 적을 때 사용\n",
    "- 반복 K-Fold 교차 검증: 데이터가 적고 매우 정확한 모델 평가가 필요할 때 사용"
   ]
  },
  {
   "cell_type": "markdown",
   "id": "95984b19",
   "metadata": {},
   "source": [
    "## 4.5.4 데이터 준비"
   ]
  },
  {
   "cell_type": "markdown",
   "id": "8741606b",
   "metadata": {},
   "source": [
    "## 4.5.5 기본보다 나은 모델 훈련하기"
   ]
  },
  {
   "cell_type": "markdown",
   "id": "1b8a2050",
   "metadata": {},
   "source": [
    "- 마지막 층의 활성화 함수\n",
    "- 손실 함수\n",
    "- 최적화 설정: 일반적으로 rmsprop과 기본 학습률이 무난\n",
    "\n",
    "등에 대한 선택이 중요"
   ]
  },
  {
   "cell_type": "markdown",
   "id": "c7b8f8eb",
   "metadata": {},
   "source": [
    "- 이진분류: 시그모이드, binary_crossentropy\n",
    "- 단일 레이블 다중 분류: 소프트맥스, categorical_crossentropy\n",
    "- 다중 레이블 다중 분류: 시그모이드, binary_crossentropy\n",
    "- 임의 값에 대한 회귀: 없음, mse\n",
    "- 0과 1 사이 값에 대한 회귀: 시그모이드, mse 또는 binary_crossentropy"
   ]
  },
  {
   "cell_type": "markdown",
   "id": "385712d3",
   "metadata": {},
   "source": [
    "## 4.5.6 몸집 키우기: 과대적합 모델 구축"
   ]
  },
  {
   "cell_type": "markdown",
   "id": "658cd2f8",
   "metadata": {},
   "source": [
    "## 4.5.7 모델 규제와 하이퍼파라미터 튜닝"
   ]
  },
  {
   "cell_type": "markdown",
   "id": "196b195d",
   "metadata": {},
   "source": [
    "- 드롭아웃 추가\n",
    "- 층을 추가하거나 제거해서 다른 구조 시도\n",
    "- L1이나 L2 또는 두가지 모두 추가\n",
    "- 최적의 설정을 찾기 위해 하이퍼파라미터를 변경해서 시도\n",
    "- 선택적으로 특성공학 시도"
   ]
  }
 ],
 "metadata": {
  "kernelspec": {
   "display_name": "Python 3 (ipykernel)",
   "language": "python",
   "name": "python3"
  },
  "language_info": {
   "codemirror_mode": {
    "name": "ipython",
    "version": 3
   },
   "file_extension": ".py",
   "mimetype": "text/x-python",
   "name": "python",
   "nbconvert_exporter": "python",
   "pygments_lexer": "ipython3",
   "version": "3.9.12"
  }
 },
 "nbformat": 4,
 "nbformat_minor": 5
}
