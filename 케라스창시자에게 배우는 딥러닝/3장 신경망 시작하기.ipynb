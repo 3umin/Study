{
 "cells": [
  {
   "cell_type": "markdown",
   "id": "a1c85006",
   "metadata": {},
   "source": [
    "# 3.1 신경망의 구조"
   ]
  },
  {
   "cell_type": "markdown",
   "id": "a9586d3a",
   "metadata": {},
   "source": [
    "신경망 훈련에는 다음 요소들이 관련되어 있음\n",
    "- 네트워크(또는 모델)을 구성하는 층\n",
    "- 입력 데이터와 그에 상응하는 타깃\n",
    "- 학습에 사용할 피드백 신호를 정의하는 손실함수\n",
    "- 학습 진행 방식을 결정하는 옵티마이저"
   ]
  },
  {
   "cell_type": "markdown",
   "id": "3ca1c321",
   "metadata": {},
   "source": [
    "## 3.1.1 층: 딥러닝의 구성 단위"
   ]
  },
  {
   "cell_type": "markdown",
   "id": "d42db136",
   "metadata": {},
   "source": [
    "하나 이상의 텐서를 입력으로 받아 하나 이상의 텐서를 출력하는 데이터 처리 모듈\n",
    "\n",
    "대부분의 경우 가중치라는 층의 상태를 가짐. 네트워크가 학습한 지식\n",
    "\n",
    "2D 텐서가 저장된 간단한 벡터 데이터는 완전 연결층이나 밀집층(Dense 클래스)에 의해 주로 처리.\n",
    "\n",
    "3D 텐서(시퀀스 데이터)는 보통 LSTM 같은 순환층(recurrent layer)에 의해 처리.\n",
    "\n",
    "4D 텐서로 저장되어 있는 이미지 데이터는 일반적으로 2D 합성곱 층(Conv2D 클래스)에 의해 처리\n",
    "\n",
    "케라스에서는 호환 가능한 층들을 엮어 데이터 변환 파이프라인을 구축."
   ]
  },
  {
   "cell_type": "markdown",
   "id": "807b0ed0",
   "metadata": {},
   "source": [
    "## 3.1.3 손실함수와 옵티마이저: 학습 과정을 조절하는 열쇠"
   ]
  },
  {
   "cell_type": "markdown",
   "id": "73bcc71a",
   "metadata": {},
   "source": [
    "- 손실함수(목적함수): 훈련하는 동안 최소화될 값. 주어진 문제에 대한 성공 지표\n",
    "- 옵티마이저: 손실함수를 기반으로 네트워크가 어떻게 업데이트 될 지 결정"
   ]
  },
  {
   "cell_type": "markdown",
   "id": "efbd558b",
   "metadata": {},
   "source": [
    "# 3.4 영화 리뷰 분류: 이진 분류 예저"
   ]
  },
  {
   "cell_type": "code",
   "execution_count": 1,
   "id": "0aa0f3e4",
   "metadata": {},
   "outputs": [
    {
     "name": "stdout",
     "output_type": "stream",
     "text": [
      "Downloading data from https://storage.googleapis.com/tensorflow/tf-keras-datasets/imdb.npz\n",
      "17464789/17464789 [==============================] - 5s 0us/step\n"
     ]
    }
   ],
   "source": [
    "from keras.datasets import imdb\n",
    "\n",
    "(train_data, train_labels), (test_data, test_labels) = imdb.load_data(num_words=10000)"
   ]
  },
  {
   "cell_type": "code",
   "execution_count": 2,
   "id": "e0e411c8",
   "metadata": {},
   "outputs": [
    {
     "data": {
      "text/plain": [
       "[1,\n",
       " 14,\n",
       " 22,\n",
       " 16,\n",
       " 43,\n",
       " 530,\n",
       " 973,\n",
       " 1622,\n",
       " 1385,\n",
       " 65,\n",
       " 458,\n",
       " 4468,\n",
       " 66,\n",
       " 3941,\n",
       " 4,\n",
       " 173,\n",
       " 36,\n",
       " 256,\n",
       " 5,\n",
       " 25,\n",
       " 100,\n",
       " 43,\n",
       " 838,\n",
       " 112,\n",
       " 50,\n",
       " 670,\n",
       " 2,\n",
       " 9,\n",
       " 35,\n",
       " 480,\n",
       " 284,\n",
       " 5,\n",
       " 150,\n",
       " 4,\n",
       " 172,\n",
       " 112,\n",
       " 167,\n",
       " 2,\n",
       " 336,\n",
       " 385,\n",
       " 39,\n",
       " 4,\n",
       " 172,\n",
       " 4536,\n",
       " 1111,\n",
       " 17,\n",
       " 546,\n",
       " 38,\n",
       " 13,\n",
       " 447,\n",
       " 4,\n",
       " 192,\n",
       " 50,\n",
       " 16,\n",
       " 6,\n",
       " 147,\n",
       " 2025,\n",
       " 19,\n",
       " 14,\n",
       " 22,\n",
       " 4,\n",
       " 1920,\n",
       " 4613,\n",
       " 469,\n",
       " 4,\n",
       " 22,\n",
       " 71,\n",
       " 87,\n",
       " 12,\n",
       " 16,\n",
       " 43,\n",
       " 530,\n",
       " 38,\n",
       " 76,\n",
       " 15,\n",
       " 13,\n",
       " 1247,\n",
       " 4,\n",
       " 22,\n",
       " 17,\n",
       " 515,\n",
       " 17,\n",
       " 12,\n",
       " 16,\n",
       " 626,\n",
       " 18,\n",
       " 2,\n",
       " 5,\n",
       " 62,\n",
       " 386,\n",
       " 12,\n",
       " 8,\n",
       " 316,\n",
       " 8,\n",
       " 106,\n",
       " 5,\n",
       " 4,\n",
       " 2223,\n",
       " 5244,\n",
       " 16,\n",
       " 480,\n",
       " 66,\n",
       " 3785,\n",
       " 33,\n",
       " 4,\n",
       " 130,\n",
       " 12,\n",
       " 16,\n",
       " 38,\n",
       " 619,\n",
       " 5,\n",
       " 25,\n",
       " 124,\n",
       " 51,\n",
       " 36,\n",
       " 135,\n",
       " 48,\n",
       " 25,\n",
       " 1415,\n",
       " 33,\n",
       " 6,\n",
       " 22,\n",
       " 12,\n",
       " 215,\n",
       " 28,\n",
       " 77,\n",
       " 52,\n",
       " 5,\n",
       " 14,\n",
       " 407,\n",
       " 16,\n",
       " 82,\n",
       " 2,\n",
       " 8,\n",
       " 4,\n",
       " 107,\n",
       " 117,\n",
       " 5952,\n",
       " 15,\n",
       " 256,\n",
       " 4,\n",
       " 2,\n",
       " 7,\n",
       " 3766,\n",
       " 5,\n",
       " 723,\n",
       " 36,\n",
       " 71,\n",
       " 43,\n",
       " 530,\n",
       " 476,\n",
       " 26,\n",
       " 400,\n",
       " 317,\n",
       " 46,\n",
       " 7,\n",
       " 4,\n",
       " 2,\n",
       " 1029,\n",
       " 13,\n",
       " 104,\n",
       " 88,\n",
       " 4,\n",
       " 381,\n",
       " 15,\n",
       " 297,\n",
       " 98,\n",
       " 32,\n",
       " 2071,\n",
       " 56,\n",
       " 26,\n",
       " 141,\n",
       " 6,\n",
       " 194,\n",
       " 7486,\n",
       " 18,\n",
       " 4,\n",
       " 226,\n",
       " 22,\n",
       " 21,\n",
       " 134,\n",
       " 476,\n",
       " 26,\n",
       " 480,\n",
       " 5,\n",
       " 144,\n",
       " 30,\n",
       " 5535,\n",
       " 18,\n",
       " 51,\n",
       " 36,\n",
       " 28,\n",
       " 224,\n",
       " 92,\n",
       " 25,\n",
       " 104,\n",
       " 4,\n",
       " 226,\n",
       " 65,\n",
       " 16,\n",
       " 38,\n",
       " 1334,\n",
       " 88,\n",
       " 12,\n",
       " 16,\n",
       " 283,\n",
       " 5,\n",
       " 16,\n",
       " 4472,\n",
       " 113,\n",
       " 103,\n",
       " 32,\n",
       " 15,\n",
       " 16,\n",
       " 5345,\n",
       " 19,\n",
       " 178,\n",
       " 32]"
      ]
     },
     "execution_count": 2,
     "metadata": {},
     "output_type": "execute_result"
    }
   ],
   "source": [
    "# 각 리뷰는 단어 인덱스의 리스트\n",
    "train_data[0]"
   ]
  },
  {
   "cell_type": "code",
   "execution_count": 3,
   "id": "388f8c7b",
   "metadata": {},
   "outputs": [
    {
     "data": {
      "text/plain": [
       "1"
      ]
     },
     "execution_count": 3,
     "metadata": {},
     "output_type": "execute_result"
    }
   ],
   "source": [
    "train_labels[0]"
   ]
  },
  {
   "cell_type": "code",
   "execution_count": 4,
   "id": "7517235f",
   "metadata": {},
   "outputs": [
    {
     "data": {
      "text/plain": [
       "9999"
      ]
     },
     "execution_count": 4,
     "metadata": {},
     "output_type": "execute_result"
    }
   ],
   "source": [
    "max([max(sequence) for sequence in train_data])"
   ]
  },
  {
   "cell_type": "markdown",
   "id": "3e25ad96",
   "metadata": {},
   "source": [
    "## 3.4.2 데이터 준비"
   ]
  },
  {
   "cell_type": "markdown",
   "id": "b949c84a",
   "metadata": {},
   "source": [
    "같은 길이가 되도록 리스트에 패딩을 추가, 원-핫인코딩 진행"
   ]
  },
  {
   "cell_type": "code",
   "execution_count": 5,
   "id": "75a08d8b",
   "metadata": {},
   "outputs": [],
   "source": [
    "import numpy as np\n",
    "\n",
    "def vectorize_sequences(sequences, dimension=10000):\n",
    "    results = np.zeros((len(sequences), dimension))\n",
    "    for i, sequence in enumerate(sequences):\n",
    "        results[i, sequence] = 1.\n",
    "    return results\n",
    "\n",
    "X_train = vectorize_sequences(train_data)\n",
    "X_test = vectorize_sequences(test_data)"
   ]
  },
  {
   "cell_type": "code",
   "execution_count": 6,
   "id": "b86f694c",
   "metadata": {},
   "outputs": [
    {
     "data": {
      "text/plain": [
       "array([0., 1., 1., ..., 0., 0., 0.])"
      ]
     },
     "execution_count": 6,
     "metadata": {},
     "output_type": "execute_result"
    }
   ],
   "source": [
    "X_train[0]"
   ]
  },
  {
   "cell_type": "code",
   "execution_count": 7,
   "id": "53497f83",
   "metadata": {},
   "outputs": [],
   "source": [
    "y_train = np.asarray(train_labels).astype('float32')\n",
    "y_test = np.asarray(test_labels).astype('float32')"
   ]
  },
  {
   "cell_type": "markdown",
   "id": "701e29be",
   "metadata": {},
   "source": [
    "## 3.4.3 신경망 모델 만들기"
   ]
  },
  {
   "cell_type": "code",
   "execution_count": 12,
   "id": "31a860b1",
   "metadata": {},
   "outputs": [],
   "source": [
    "from keras import models\n",
    "from keras import layers\n",
    "\n",
    "model = models.Sequential([\n",
    "    layers.Dense(16, activation='relu', input_shape=(10000,)),\n",
    "    layers.Dense(16, activation='relu'),\n",
    "    layers.Dense(1, activation='sigmoid')])"
   ]
  },
  {
   "cell_type": "code",
   "execution_count": 13,
   "id": "571aeec7",
   "metadata": {},
   "outputs": [],
   "source": [
    "model.compile(optimizer='rmsprop', loss = 'binary_crossentropy', metrics=['accuracy'])"
   ]
  },
  {
   "cell_type": "markdown",
   "id": "311a2411",
   "metadata": {},
   "source": [
    "## 3.4.4 훈련 검증"
   ]
  },
  {
   "cell_type": "code",
   "execution_count": 14,
   "id": "fc2518cd",
   "metadata": {},
   "outputs": [],
   "source": [
    "X_val = X_train[:10000]\n",
    "partial_X_train = X_train[10000:]\n",
    "y_val = y_train[:10000]\n",
    "partial_y_train = y_train[10000:]"
   ]
  },
  {
   "cell_type": "code",
   "execution_count": 15,
   "id": "e3e216a8",
   "metadata": {
    "scrolled": true
   },
   "outputs": [
    {
     "name": "stdout",
     "output_type": "stream",
     "text": [
      "Epoch 1/20\n",
      "30/30 [==============================] - 4s 100ms/step - loss: 0.5069 - accuracy: 0.7784 - val_loss: 0.3776 - val_accuracy: 0.8695\n",
      "Epoch 2/20\n",
      "30/30 [==============================] - 0s 15ms/step - loss: 0.2963 - accuracy: 0.9031 - val_loss: 0.3086 - val_accuracy: 0.8807\n",
      "Epoch 3/20\n",
      "30/30 [==============================] - 0s 15ms/step - loss: 0.2206 - accuracy: 0.9279 - val_loss: 0.2777 - val_accuracy: 0.8899\n",
      "Epoch 4/20\n",
      "30/30 [==============================] - 0s 15ms/step - loss: 0.1721 - accuracy: 0.9443 - val_loss: 0.2810 - val_accuracy: 0.8889\n",
      "Epoch 5/20\n",
      "30/30 [==============================] - 0s 15ms/step - loss: 0.1440 - accuracy: 0.9531 - val_loss: 0.2875 - val_accuracy: 0.8868\n",
      "Epoch 6/20\n",
      "30/30 [==============================] - 0s 15ms/step - loss: 0.1159 - accuracy: 0.9639 - val_loss: 0.2995 - val_accuracy: 0.8858\n",
      "Epoch 7/20\n",
      "30/30 [==============================] - 0s 17ms/step - loss: 0.0968 - accuracy: 0.9712 - val_loss: 0.3125 - val_accuracy: 0.8820\n",
      "Epoch 8/20\n",
      "30/30 [==============================] - 0s 16ms/step - loss: 0.0793 - accuracy: 0.9776 - val_loss: 0.3356 - val_accuracy: 0.8793\n",
      "Epoch 9/20\n",
      "30/30 [==============================] - 0s 17ms/step - loss: 0.0668 - accuracy: 0.9817 - val_loss: 0.3568 - val_accuracy: 0.8802\n",
      "Epoch 10/20\n",
      "30/30 [==============================] - 0s 17ms/step - loss: 0.0519 - accuracy: 0.9883 - val_loss: 0.4425 - val_accuracy: 0.8688\n",
      "Epoch 11/20\n",
      "30/30 [==============================] - 0s 17ms/step - loss: 0.0469 - accuracy: 0.9877 - val_loss: 0.4081 - val_accuracy: 0.8776\n",
      "Epoch 12/20\n",
      "30/30 [==============================] - 0s 16ms/step - loss: 0.0346 - accuracy: 0.9926 - val_loss: 0.4583 - val_accuracy: 0.8744\n",
      "Epoch 13/20\n",
      "30/30 [==============================] - 0s 16ms/step - loss: 0.0289 - accuracy: 0.9939 - val_loss: 0.4827 - val_accuracy: 0.8677\n",
      "Epoch 14/20\n",
      "30/30 [==============================] - 0s 15ms/step - loss: 0.0226 - accuracy: 0.9961 - val_loss: 0.5235 - val_accuracy: 0.8714\n",
      "Epoch 15/20\n",
      "30/30 [==============================] - 0s 15ms/step - loss: 0.0183 - accuracy: 0.9973 - val_loss: 0.5343 - val_accuracy: 0.8669\n",
      "Epoch 16/20\n",
      "30/30 [==============================] - 0s 16ms/step - loss: 0.0173 - accuracy: 0.9961 - val_loss: 0.5673 - val_accuracy: 0.8681\n",
      "Epoch 17/20\n",
      "30/30 [==============================] - 0s 15ms/step - loss: 0.0094 - accuracy: 0.9994 - val_loss: 0.6153 - val_accuracy: 0.8599\n",
      "Epoch 18/20\n",
      "30/30 [==============================] - 0s 15ms/step - loss: 0.0124 - accuracy: 0.9974 - val_loss: 0.6460 - val_accuracy: 0.8651\n",
      "Epoch 19/20\n",
      "30/30 [==============================] - 0s 15ms/step - loss: 0.0048 - accuracy: 0.9999 - val_loss: 0.6814 - val_accuracy: 0.8662\n",
      "Epoch 20/20\n",
      "30/30 [==============================] - 0s 15ms/step - loss: 0.0068 - accuracy: 0.9993 - val_loss: 0.7135 - val_accuracy: 0.8651\n"
     ]
    }
   ],
   "source": [
    "history = model.fit(partial_X_train, partial_y_train,\n",
    "                   epochs=20, batch_size=512, validation_data=(X_val, y_val))"
   ]
  },
  {
   "cell_type": "code",
   "execution_count": 16,
   "id": "8cd0110d",
   "metadata": {},
   "outputs": [
    {
     "data": {
      "text/plain": [
       "dict_keys(['loss', 'accuracy', 'val_loss', 'val_accuracy'])"
      ]
     },
     "execution_count": 16,
     "metadata": {},
     "output_type": "execute_result"
    }
   ],
   "source": [
    "history_dict = history.history\n",
    "history_dict.keys()"
   ]
  },
  {
   "cell_type": "code",
   "execution_count": 17,
   "id": "d9c1c4b7",
   "metadata": {},
   "outputs": [
    {
     "data": {
      "image/png": "[encoded data removed]",
      "text/plain": [
       "<Figure size 432x288 with 1 Axes>"
      ]
     },
     "metadata": {
      "needs_background": "light"
     },
     "output_type": "display_data"
    }
   ],
   "source": [
    "import matplotlib.pyplot as plt\n",
    "\n",
    "loss = history_dict['loss']\n",
    "val_loss = history_dict['val_loss']\n",
    "\n",
    "epochs = range(1, len(loss)+1)\n",
    "\n",
    "plt.plot(epochs, loss, 'bo', label='Training loss')\n",
    "plt.plot(epochs, val_loss, 'b', label='Validation loss')\n",
    "plt.title('Training and Validation loss')\n",
    "plt.xlabel('Epochs')\n",
    "plt.ylabel('Loss')\n",
    "plt.legend();"
   ]
  },
  {
   "cell_type": "code",
   "execution_count": 20,
   "id": "eef1df74",
   "metadata": {},
   "outputs": [
    {
     "data": {
      "image/png": "[encoded data removed]",
      "text/plain": [
       "<Figure size 432x288 with 1 Axes>"
      ]
     },
     "metadata": {
      "needs_background": "light"
     },
     "output_type": "display_data"
    }
   ],
   "source": [
    "acc = history_dict['accuracy']\n",
    "val_acc = history_dict['val_accuracy']\n",
    "\n",
    "plt.plot(epochs, acc, 'bo', label='Training acc')\n",
    "plt.plot(epochs, val_acc, 'b', label='Validation acc')\n",
    "plt.title('Training and Validation accuracy')\n",
    "plt.xlabel('Epochs')\n",
    "plt.ylabel('Accuracy')\n",
    "plt.legend();"
   ]
  },
  {
   "cell_type": "markdown",
   "id": "a180586e",
   "metadata": {},
   "source": [
    "과대 적합된 상태. 다시 처음부터 훈련하기"
   ]
  },
  {
   "cell_type": "code",
   "execution_count": 22,
   "id": "e53aca32",
   "metadata": {},
   "outputs": [],
   "source": [
    "model = models.Sequential([\n",
    "    layers.Dense(16, activation='relu', input_shape=(10000,)),\n",
    "    layers.Dense(16, activation='relu'),\n",
    "    layers.Dense(1, activation='sigmoid')\n",
    "])\n",
    "\n",
    "model.compile(optimizer='rmsprop', loss='binary_crossentropy', metrics=['accuracy'])"
   ]
  },
  {
   "cell_type": "code",
   "execution_count": 23,
   "id": "9207614c",
   "metadata": {},
   "outputs": [
    {
     "name": "stdout",
     "output_type": "stream",
     "text": [
      "Epoch 1/4\n",
      "49/49 [==============================] - 3s 10ms/step - loss: 0.4446 - accuracy: 0.8272\n",
      "Epoch 2/4\n",
      "49/49 [==============================] - 0s 10ms/step - loss: 0.2546 - accuracy: 0.9103\n",
      "Epoch 3/4\n",
      "49/49 [==============================] - 0s 10ms/step - loss: 0.1951 - accuracy: 0.9301\n",
      "Epoch 4/4\n",
      "49/49 [==============================] - 0s 9ms/step - loss: 0.1646 - accuracy: 0.9407\n",
      "782/782 [==============================] - 2s 2ms/step - loss: 0.3037 - accuracy: 0.8809\n"
     ]
    }
   ],
   "source": [
    "model.fit(X_train, y_train, epochs=4, batch_size=512)\n",
    "results = model.evaluate(X_test, y_test)"
   ]
  },
  {
   "cell_type": "code",
   "execution_count": 24,
   "id": "e90f0f4b",
   "metadata": {},
   "outputs": [
    {
     "data": {
      "text/plain": [
       "[0.30368101596832275, 0.8808799982070923]"
      ]
     },
     "execution_count": 24,
     "metadata": {},
     "output_type": "execute_result"
    }
   ],
   "source": [
    "results"
   ]
  },
  {
   "cell_type": "markdown",
   "id": "933291ed",
   "metadata": {},
   "source": [
    "## 3.4.5 훈련된 모델로 새로운 데이터에 대해 예측하기"
   ]
  },
  {
   "cell_type": "code",
   "execution_count": 26,
   "id": "6bf5e5ea",
   "metadata": {},
   "outputs": [
    {
     "name": "stdout",
     "output_type": "stream",
     "text": [
      "782/782 [==============================] - 3s 2ms/step\n"
     ]
    },
    {
     "data": {
      "text/plain": [
       "array([[0.23327662],\n",
       "       [0.9998728 ],\n",
       "       [0.9768594 ],\n",
       "       ...,\n",
       "       [0.12945642],\n",
       "       [0.12279436],\n",
       "       [0.7730995 ]], dtype=float32)"
      ]
     },
     "execution_count": 26,
     "metadata": {},
     "output_type": "execute_result"
    }
   ],
   "source": [
    "model.predict(X_test)"
   ]
  },
  {
   "cell_type": "markdown",
   "id": "4e79a869",
   "metadata": {},
   "source": [
    "# 3.5 뉴스 기사 분류: 다중분류 문제"
   ]
  },
  {
   "cell_type": "code",
   "execution_count": 27,
   "id": "7e5a6c37",
   "metadata": {},
   "outputs": [
    {
     "name": "stdout",
     "output_type": "stream",
     "text": [
      "Downloading data from https://storage.googleapis.com/tensorflow/tf-keras-datasets/reuters.npz\n",
      "2110848/2110848 [==============================] - 0s 0us/step\n"
     ]
    }
   ],
   "source": [
    "from keras.datasets import reuters\n",
    "\n",
    "(train_data, train_labels), (test_data, test_labels) = reuters.load_data(num_words=10000)"
   ]
  },
  {
   "cell_type": "markdown",
   "id": "c7213342",
   "metadata": {},
   "source": [
    "## 3.5.2 데이터 준비"
   ]
  },
  {
   "cell_type": "code",
   "execution_count": 28,
   "id": "3cc3fce2",
   "metadata": {},
   "outputs": [],
   "source": [
    "import numpy as np\n",
    "\n",
    "def vectorize_sequences(sequences, dimension=10000):\n",
    "    results = np.zeros((len(sequences), dimension))\n",
    "    for i, sequence in enumerate(sequences):\n",
    "        results[i, sequence] = 1.\n",
    "    return results\n",
    "\n",
    "X_train = vectorize_sequences(train_data)\n",
    "X_test = vectorize_sequences(test_data)"
   ]
  },
  {
   "cell_type": "code",
   "execution_count": 29,
   "id": "b0c09938",
   "metadata": {},
   "outputs": [],
   "source": [
    "def to_one_hot(labels, dimension=46):\n",
    "    results = np.zeros((len(labels), dimension))\n",
    "    for i, label in enumerate(labels):\n",
    "        results[i, label] = 1\n",
    "    return results\n",
    "\n",
    "one_hot_train_labels = to_one_hot(train_labels)\n",
    "one_hot_test_labels = to_one_hot(test_labels)"
   ]
  },
  {
   "cell_type": "code",
   "execution_count": 30,
   "id": "d3b51645",
   "metadata": {},
   "outputs": [],
   "source": [
    "from keras.utils.np_utils import to_categorical\n",
    "\n",
    "one_hot_train_labels = to_categorical(train_labels)\n",
    "one_hot_test_labels = to_categorical(test_labels)"
   ]
  },
  {
   "cell_type": "markdown",
   "id": "67b86821",
   "metadata": {},
   "source": [
    "## 3.5.3 모델 구성"
   ]
  },
  {
   "cell_type": "code",
   "execution_count": 32,
   "id": "2eb30f6f",
   "metadata": {},
   "outputs": [],
   "source": [
    "from keras import models\n",
    "from keras import layers\n",
    "\n",
    "model = models.Sequential([\n",
    "    layers.Dense(64, activation='relu', input_shape=(10000,)),\n",
    "    layers.Dense(64, activation='relu'),\n",
    "    layers.Dense(46, activation='softmax')\n",
    "])\n",
    "\n",
    "model.compile(optimizer='rmsprop', loss='categorical_crossentropy', metrics=['accuracy'])"
   ]
  },
  {
   "cell_type": "markdown",
   "id": "600f3f32",
   "metadata": {},
   "source": [
    "## 3.5.4 훈련 검증"
   ]
  },
  {
   "cell_type": "code",
   "execution_count": 33,
   "id": "b60033e4",
   "metadata": {},
   "outputs": [],
   "source": [
    "X_val = X_train[:1000]\n",
    "partial_X_train = X_train[1000:]\n",
    "\n",
    "y_val = one_hot_train_labels[:1000]\n",
    "partial_y_train = one_hot_train_labels[1000:]"
   ]
  },
  {
   "cell_type": "code",
   "execution_count": 34,
   "id": "0cc13784",
   "metadata": {
    "scrolled": true
   },
   "outputs": [
    {
     "name": "stdout",
     "output_type": "stream",
     "text": [
      "Epoch 1/20\n",
      "16/16 [==============================] - 1s 35ms/step - loss: 2.6744 - accuracy: 0.5511 - val_loss: 1.7233 - val_accuracy: 0.6540\n",
      "Epoch 2/20\n",
      "16/16 [==============================] - 0s 21ms/step - loss: 1.3729 - accuracy: 0.7221 - val_loss: 1.2825 - val_accuracy: 0.7290\n",
      "Epoch 3/20\n",
      "16/16 [==============================] - 0s 21ms/step - loss: 1.0167 - accuracy: 0.7869 - val_loss: 1.1244 - val_accuracy: 0.7610\n",
      "Epoch 4/20\n",
      "16/16 [==============================] - 0s 20ms/step - loss: 0.8082 - accuracy: 0.8271 - val_loss: 1.0280 - val_accuracy: 0.7820\n",
      "Epoch 5/20\n",
      "16/16 [==============================] - 0s 21ms/step - loss: 0.6501 - accuracy: 0.8626 - val_loss: 0.9677 - val_accuracy: 0.8060\n",
      "Epoch 6/20\n",
      "16/16 [==============================] - 0s 20ms/step - loss: 0.5264 - accuracy: 0.8881 - val_loss: 0.9506 - val_accuracy: 0.7920\n",
      "Epoch 7/20\n",
      "16/16 [==============================] - 0s 20ms/step - loss: 0.4253 - accuracy: 0.9090 - val_loss: 0.9009 - val_accuracy: 0.8260\n",
      "Epoch 8/20\n",
      "16/16 [==============================] - 0s 21ms/step - loss: 0.3452 - accuracy: 0.9251 - val_loss: 0.8762 - val_accuracy: 0.8240\n",
      "Epoch 9/20\n",
      "16/16 [==============================] - 0s 20ms/step - loss: 0.2879 - accuracy: 0.9367 - val_loss: 0.9450 - val_accuracy: 0.8000\n",
      "Epoch 10/20\n",
      "16/16 [==============================] - 0s 22ms/step - loss: 0.2394 - accuracy: 0.9429 - val_loss: 0.9259 - val_accuracy: 0.8100\n",
      "Epoch 11/20\n",
      "16/16 [==============================] - 0s 22ms/step - loss: 0.2094 - accuracy: 0.9480 - val_loss: 0.9140 - val_accuracy: 0.8160\n",
      "Epoch 12/20\n",
      "16/16 [==============================] - 0s 21ms/step - loss: 0.1834 - accuracy: 0.9505 - val_loss: 0.9094 - val_accuracy: 0.8160\n",
      "Epoch 13/20\n",
      "16/16 [==============================] - 0s 20ms/step - loss: 0.1680 - accuracy: 0.9505 - val_loss: 0.9483 - val_accuracy: 0.8160\n",
      "Epoch 14/20\n",
      "16/16 [==============================] - 0s 21ms/step - loss: 0.1523 - accuracy: 0.9546 - val_loss: 0.9718 - val_accuracy: 0.8090\n",
      "Epoch 15/20\n",
      "16/16 [==============================] - 0s 20ms/step - loss: 0.1414 - accuracy: 0.9541 - val_loss: 0.9488 - val_accuracy: 0.8160\n",
      "Epoch 16/20\n",
      "16/16 [==============================] - 0s 21ms/step - loss: 0.1356 - accuracy: 0.9557 - val_loss: 0.9680 - val_accuracy: 0.8080\n",
      "Epoch 17/20\n",
      "16/16 [==============================] - 0s 21ms/step - loss: 0.1230 - accuracy: 0.9540 - val_loss: 0.9896 - val_accuracy: 0.8110\n",
      "Epoch 18/20\n",
      "16/16 [==============================] - 0s 21ms/step - loss: 0.1223 - accuracy: 0.9570 - val_loss: 1.0440 - val_accuracy: 0.8000\n",
      "Epoch 19/20\n",
      "16/16 [==============================] - 0s 21ms/step - loss: 0.1171 - accuracy: 0.9569 - val_loss: 1.0547 - val_accuracy: 0.8040\n",
      "Epoch 20/20\n",
      "16/16 [==============================] - 0s 20ms/step - loss: 0.1116 - accuracy: 0.9592 - val_loss: 1.0266 - val_accuracy: 0.8080\n"
     ]
    }
   ],
   "source": [
    "history = model.fit(partial_X_train, partial_y_train,\n",
    "                   epochs=20, batch_size=512, validation_data=(X_val, y_val))"
   ]
  },
  {
   "cell_type": "code",
   "execution_count": 35,
   "id": "5a6c4a4f",
   "metadata": {},
   "outputs": [
    {
     "data": {
      "image/png": "[encoded data removed]",
      "text/plain": [
       "<Figure size 432x288 with 1 Axes>"
      ]
     },
     "metadata": {
      "needs_background": "light"
     },
     "output_type": "display_data"
    }
   ],
   "source": [
    "import matplotlib.pyplot as plt\n",
    "\n",
    "loss = history.history['loss']\n",
    "val_loss = history.history['val_loss']\n",
    "\n",
    "epochs = range(1, len(loss)+1)\n",
    "\n",
    "plt.plot(epochs, loss, 'bo', label='Training loss')\n",
    "plt.plot(epochs, val_loss, 'b', label='Validation loss')\n",
    "plt.title('Training and Validation loss')\n",
    "plt.xlabel('Epochs')\n",
    "plt.ylabel('loss')\n",
    "plt.legend();"
   ]
  },
  {
   "cell_type": "code",
   "execution_count": 36,
   "id": "d17a2118",
   "metadata": {},
   "outputs": [
    {
     "data": {
      "image/png": "[encoded data removed]",
      "text/plain": [
       "<Figure size 432x288 with 1 Axes>"
      ]
     },
     "metadata": {
      "needs_background": "light"
     },
     "output_type": "display_data"
    }
   ],
   "source": [
    "import matplotlib.pyplot as plt\n",
    "\n",
    "loss = history.history['accuracy']\n",
    "val_loss = history.history['val_accuracy']\n",
    "\n",
    "epochs = range(1, len(loss)+1)\n",
    "\n",
    "plt.plot(epochs, loss, 'bo', label='Training acc')\n",
    "plt.plot(epochs, val_loss, 'b', label='Validation acc')\n",
    "plt.title('Training and Validation Accuracy')\n",
    "plt.xlabel('Epochs')\n",
    "plt.ylabel('Acc')\n",
    "plt.legend();"
   ]
  },
  {
   "cell_type": "code",
   "execution_count": 38,
   "id": "2d855550",
   "metadata": {},
   "outputs": [],
   "source": [
    "model = models.Sequential([\n",
    "    layers.Dense(64, activation='relu', input_shape=(10000,)),\n",
    "    layers.Dense(64, activation='relu'),\n",
    "    layers.Dense(46, activation='softmax')\n",
    "])\n",
    "\n",
    "model.compile(optimizer='rmsprop', loss='categorical_crossentropy', metrics=['accuracy'])"
   ]
  },
  {
   "cell_type": "code",
   "execution_count": 39,
   "id": "25758762",
   "metadata": {},
   "outputs": [
    {
     "name": "stdout",
     "output_type": "stream",
     "text": [
      "Epoch 1/9\n",
      "16/16 [==============================] - 1s 33ms/step - loss: 2.7416 - accuracy: 0.5244 - val_loss: 1.7575 - val_accuracy: 0.6540\n",
      "Epoch 2/9\n",
      "16/16 [==============================] - 0s 21ms/step - loss: 1.4051 - accuracy: 0.7184 - val_loss: 1.2993 - val_accuracy: 0.7350\n",
      "Epoch 3/9\n",
      "16/16 [==============================] - 0s 21ms/step - loss: 1.0163 - accuracy: 0.7905 - val_loss: 1.1149 - val_accuracy: 0.7580\n",
      "Epoch 4/9\n",
      "16/16 [==============================] - 0s 21ms/step - loss: 0.7996 - accuracy: 0.8325 - val_loss: 1.0250 - val_accuracy: 0.7790\n",
      "Epoch 5/9\n",
      "16/16 [==============================] - 0s 22ms/step - loss: 0.6376 - accuracy: 0.8662 - val_loss: 0.9601 - val_accuracy: 0.8080\n",
      "Epoch 6/9\n",
      "16/16 [==============================] - 0s 22ms/step - loss: 0.5141 - accuracy: 0.8945 - val_loss: 0.9838 - val_accuracy: 0.7940\n",
      "Epoch 7/9\n",
      "16/16 [==============================] - 0s 22ms/step - loss: 0.4211 - accuracy: 0.9102 - val_loss: 0.9418 - val_accuracy: 0.8090\n",
      "Epoch 8/9\n",
      "16/16 [==============================] - 0s 21ms/step - loss: 0.3449 - accuracy: 0.9251 - val_loss: 0.8891 - val_accuracy: 0.8210\n",
      "Epoch 9/9\n",
      "16/16 [==============================] - 0s 19ms/step - loss: 0.2853 - accuracy: 0.9366 - val_loss: 0.9340 - val_accuracy: 0.8160\n"
     ]
    },
    {
     "data": {
      "text/plain": [
       "<keras.callbacks.History at 0x29050cd2550>"
      ]
     },
     "execution_count": 39,
     "metadata": {},
     "output_type": "execute_result"
    }
   ],
   "source": [
    "model.fit(partial_X_train, partial_y_train,\n",
    "         epochs=9, batch_size=512, validation_data = (X_val, y_val))"
   ]
  },
  {
   "cell_type": "code",
   "execution_count": 40,
   "id": "1bdc9535",
   "metadata": {},
   "outputs": [
    {
     "name": "stdout",
     "output_type": "stream",
     "text": [
      "71/71 [==============================] - 0s 2ms/step - loss: 1.0087 - accuracy: 0.7867\n"
     ]
    }
   ],
   "source": [
    "results = model.evaluate(X_test, one_hot_test_labels)"
   ]
  },
  {
   "cell_type": "code",
   "execution_count": 41,
   "id": "6489e7f6",
   "metadata": {},
   "outputs": [
    {
     "data": {
      "text/plain": [
       "[1.0087318420410156, 0.7867319583892822]"
      ]
     },
     "execution_count": 41,
     "metadata": {},
     "output_type": "execute_result"
    }
   ],
   "source": [
    "results"
   ]
  },
  {
   "cell_type": "code",
   "execution_count": 42,
   "id": "6b899867",
   "metadata": {},
   "outputs": [
    {
     "name": "stdout",
     "output_type": "stream",
     "text": [
      "71/71 [==============================] - 0s 2ms/step\n"
     ]
    },
    {
     "data": {
      "text/plain": [
       "array([[3.0653714e-04, 1.5575771e-04, 2.7274444e-05, ..., 8.0994214e-05,\n",
       "        4.1599924e-06, 9.0733993e-06],\n",
       "       [7.4016993e-06, 2.4559164e-02, 5.0584017e-03, ..., 9.3239034e-03,\n",
       "        1.0927148e-05, 1.4212455e-04],\n",
       "       [3.4535641e-04, 7.9789042e-01, 7.7567110e-03, ..., 3.5469236e-03,\n",
       "        3.0953845e-04, 2.0875174e-03],\n",
       "       ...,\n",
       "       [2.6923511e-04, 2.1514215e-04, 4.5944049e-05, ..., 4.8443031e-05,\n",
       "        1.8337483e-05, 4.5526769e-05],\n",
       "       [2.8220257e-03, 1.5427218e-01, 2.1613485e-03, ..., 2.6287057e-03,\n",
       "        1.7893924e-03, 2.0231102e-03],\n",
       "       [2.6930560e-04, 4.4666794e-01, 3.2200448e-02, ..., 6.3455198e-03,\n",
       "        2.3191660e-05, 2.8130921e-04]], dtype=float32)"
      ]
     },
     "execution_count": 42,
     "metadata": {},
     "output_type": "execute_result"
    }
   ],
   "source": [
    "model.predict(X_test)"
   ]
  },
  {
   "cell_type": "markdown",
   "id": "33cc1935",
   "metadata": {},
   "source": [
    "## 3.5.6 레이블과 손실을 다루는 다른 방법"
   ]
  },
  {
   "cell_type": "markdown",
   "id": "2a43c13c",
   "metadata": {},
   "source": [
    "레이블을 원핫인코딩이 아니라 정수텐서(np.array)로 인코딩한다면 손실함수를 바꾸어야함\n",
    "\n",
    "`categorical_crossentropy`는 레이블이 범주형 인코딩 되어있어야함\n",
    "\n",
    "`sparse_categorical_crossentropy`를 사용"
   ]
  },
  {
   "cell_type": "markdown",
   "id": "d08730f6",
   "metadata": {},
   "source": [
    "# 3.6 주택 가격 예측: 회귀 문제"
   ]
  },
  {
   "cell_type": "markdown",
   "id": "60aeed4d",
   "metadata": {},
   "source": [
    "## 3.6.1 보스턴 주택 가격 데이터셋"
   ]
  },
  {
   "cell_type": "code",
   "execution_count": 43,
   "id": "f3ca7af1",
   "metadata": {},
   "outputs": [
    {
     "name": "stdout",
     "output_type": "stream",
     "text": [
      "Downloading data from https://storage.googleapis.com/tensorflow/tf-keras-datasets/boston_housing.npz\n",
      "57026/57026 [==============================] - 0s 0us/step\n"
     ]
    }
   ],
   "source": [
    "from keras.datasets import boston_housing\n",
    "\n",
    "(train_data, train_targets), (test_data, test_targets) = boston_housing.load_data()"
   ]
  },
  {
   "cell_type": "markdown",
   "id": "3b1fd8ad",
   "metadata": {},
   "source": [
    "## 3.6.2 데이터 준비"
   ]
  },
  {
   "cell_type": "code",
   "execution_count": 44,
   "id": "6f7f3e20",
   "metadata": {},
   "outputs": [],
   "source": [
    "mean = train_data.mean(axis=0)\n",
    "train_data -= mean\n",
    "std = train_data.std(axis=0)\n",
    "train_data /= std\n",
    "\n",
    "test_data -= mean\n",
    "test_data /= std\n",
    "\n",
    "# 머신러닝 작업 과정에서 절대로 테스트데이터에서 계산한 어떤 값도 사용해서는 안됨"
   ]
  },
  {
   "cell_type": "markdown",
   "id": "98e65228",
   "metadata": {},
   "source": [
    "## 3.6.3 모델 구성"
   ]
  },
  {
   "cell_type": "code",
   "execution_count": 46,
   "id": "f9d36661",
   "metadata": {},
   "outputs": [],
   "source": [
    "from keras import models\n",
    "from keras import layers\n",
    "\n",
    "def build_model():\n",
    "    model = models.Sequential([\n",
    "        layers.Dense(64, activation='relu', input_shape=(train_data.shape[1],)),\n",
    "        layers.Dense(64, activation='relu'),\n",
    "        layers.Dense(1)\n",
    "    ])\n",
    "    model.compile(optimizer='rmsprop', loss='mse', metrics=['mae'])\n",
    "    return model"
   ]
  },
  {
   "cell_type": "markdown",
   "id": "77d962bf",
   "metadata": {},
   "source": [
    "## 3.6.4 K-폴드 검증을 사용한 훈련 검증"
   ]
  },
  {
   "cell_type": "code",
   "execution_count": 47,
   "id": "a7e7975c",
   "metadata": {},
   "outputs": [
    {
     "name": "stdout",
     "output_type": "stream",
     "text": [
      "처리중인 폴드 # 0\n",
      "처리중인 폴드 # 1\n",
      "처리중인 폴드 # 2\n",
      "처리중인 폴드 # 3\n"
     ]
    }
   ],
   "source": [
    "import numpy as np\n",
    "\n",
    "k=4\n",
    "\n",
    "num_val_samples = len(train_data) // k\n",
    "num_epochs = 100\n",
    "all_scores = []\n",
    "\n",
    "for i in range(k):\n",
    "    print('처리중인 폴드 #', i)\n",
    "    val_data = train_data[i * num_val_samples: (i + 1) * num_val_samples]\n",
    "    val_targets = train_targets[i * num_val_samples: (i + 1) * num_val_samples]\n",
    "    \n",
    "    partial_train_data = np.concatenate([train_data[:i * num_val_samples],\n",
    "                                        train_data[(i + 1) * num_val_samples:]], axis=0)\n",
    "    partial_train_targets = np.concatenate([train_targets[:i * num_val_samples], \n",
    "                                            train_targets[(i + 1) * num_val_samples:]], axis=0)\n",
    "    \n",
    "    model = build_model()\n",
    "    model.fit(partial_train_data, partial_train_targets, epochs=num_epochs, batch_size=1, verbose=0)  \n",
    "    # verbose = 0으로 훈련과정이 출력되지 않음\n",
    "    \n",
    "    val_mse, val_mae = model.evaluate(val_data, val_targets, verbose=0)\n",
    "    all_scores.append(val_mae)"
   ]
  },
  {
   "cell_type": "code",
   "execution_count": 48,
   "id": "ec9c6131",
   "metadata": {},
   "outputs": [
    {
     "data": {
      "text/plain": [
       "[1.9751291275024414, 2.4847452640533447, 2.6487231254577637, 2.288635492324829]"
      ]
     },
     "execution_count": 48,
     "metadata": {},
     "output_type": "execute_result"
    }
   ],
   "source": [
    "all_scores"
   ]
  },
  {
   "cell_type": "code",
   "execution_count": 49,
   "id": "7c4bfd80",
   "metadata": {},
   "outputs": [
    {
     "data": {
      "text/plain": [
       "2.3493082523345947"
      ]
     },
     "execution_count": 49,
     "metadata": {},
     "output_type": "execute_result"
    }
   ],
   "source": [
    "np.mean(all_scores)"
   ]
  },
  {
   "cell_type": "code",
   "execution_count": 53,
   "id": "8dc3ff06",
   "metadata": {},
   "outputs": [
    {
     "name": "stdout",
     "output_type": "stream",
     "text": [
      "Epoch 1/80\n",
      "26/26 [==============================] - 1s 2ms/step - loss: 543.3087 - mae: 21.4448\n",
      "Epoch 2/80\n",
      "26/26 [==============================] - 0s 1ms/step - loss: 412.2496 - mae: 18.4166\n",
      "Epoch 3/80\n",
      "26/26 [==============================] - 0s 1ms/step - loss: 252.3905 - mae: 13.9206\n",
      "Epoch 4/80\n",
      "26/26 [==============================] - 0s 1ms/step - loss: 118.2957 - mae: 8.7852\n",
      "Epoch 5/80\n",
      "26/26 [==============================] - 0s 1ms/step - loss: 57.5143 - mae: 5.7935\n",
      "Epoch 6/80\n",
      "26/26 [==============================] - 0s 1ms/step - loss: 37.6353 - mae: 4.5499\n",
      "Epoch 7/80\n",
      "26/26 [==============================] - 0s 1ms/step - loss: 28.3776 - mae: 3.8126\n",
      "Epoch 8/80\n",
      "26/26 [==============================] - 0s 1ms/step - loss: 23.5062 - mae: 3.4247\n",
      "Epoch 9/80\n",
      "26/26 [==============================] - 0s 1ms/step - loss: 20.8109 - mae: 3.1950\n",
      "Epoch 10/80\n",
      "26/26 [==============================] - 0s 1ms/step - loss: 19.3557 - mae: 3.1061\n",
      "Epoch 11/80\n",
      "26/26 [==============================] - 0s 1ms/step - loss: 17.8388 - mae: 2.9242\n",
      "Epoch 12/80\n",
      "26/26 [==============================] - 0s 1ms/step - loss: 16.6302 - mae: 2.8606\n",
      "Epoch 13/80\n",
      "26/26 [==============================] - 0s 1ms/step - loss: 15.7677 - mae: 2.7511\n",
      "Epoch 14/80\n",
      "26/26 [==============================] - 0s 1ms/step - loss: 14.8120 - mae: 2.6383\n",
      "Epoch 15/80\n",
      "26/26 [==============================] - 0s 2ms/step - loss: 13.8679 - mae: 2.5991\n",
      "Epoch 16/80\n",
      "26/26 [==============================] - 0s 2ms/step - loss: 13.3663 - mae: 2.5542\n",
      "Epoch 17/80\n",
      "26/26 [==============================] - 0s 2ms/step - loss: 12.7090 - mae: 2.4967\n",
      "Epoch 18/80\n",
      "26/26 [==============================] - 0s 1ms/step - loss: 12.1738 - mae: 2.4837\n",
      "Epoch 19/80\n",
      "26/26 [==============================] - 0s 1ms/step - loss: 11.9150 - mae: 2.4304\n",
      "Epoch 20/80\n",
      "26/26 [==============================] - 0s 1ms/step - loss: 11.5162 - mae: 2.3761\n",
      "Epoch 21/80\n",
      "26/26 [==============================] - 0s 1ms/step - loss: 11.3062 - mae: 2.3845\n",
      "Epoch 22/80\n",
      "26/26 [==============================] - 0s 1ms/step - loss: 10.9705 - mae: 2.3193\n",
      "Epoch 23/80\n",
      "26/26 [==============================] - 0s 1ms/step - loss: 10.5856 - mae: 2.3046\n",
      "Epoch 24/80\n",
      "26/26 [==============================] - 0s 2ms/step - loss: 10.3488 - mae: 2.2272\n",
      "Epoch 25/80\n",
      "26/26 [==============================] - 0s 1ms/step - loss: 10.3577 - mae: 2.2546\n",
      "Epoch 26/80\n",
      "26/26 [==============================] - 0s 1ms/step - loss: 10.0007 - mae: 2.2500\n",
      "Epoch 27/80\n",
      "26/26 [==============================] - 0s 1ms/step - loss: 9.9350 - mae: 2.2265\n",
      "Epoch 28/80\n",
      "26/26 [==============================] - 0s 1ms/step - loss: 9.8870 - mae: 2.2061\n",
      "Epoch 29/80\n",
      "26/26 [==============================] - 0s 2ms/step - loss: 9.7108 - mae: 2.1918\n",
      "Epoch 30/80\n",
      "26/26 [==============================] - 0s 1ms/step - loss: 9.4591 - mae: 2.1626\n",
      "Epoch 31/80\n",
      "26/26 [==============================] - 0s 1ms/step - loss: 9.3668 - mae: 2.1525\n",
      "Epoch 32/80\n",
      "26/26 [==============================] - 0s 1ms/step - loss: 9.1906 - mae: 2.1574\n",
      "Epoch 33/80\n",
      "26/26 [==============================] - 0s 2ms/step - loss: 9.0879 - mae: 2.1117\n",
      "Epoch 34/80\n",
      "26/26 [==============================] - 0s 1ms/step - loss: 8.9834 - mae: 2.0944\n",
      "Epoch 35/80\n",
      "26/26 [==============================] - 0s 2ms/step - loss: 8.8397 - mae: 2.0825\n",
      "Epoch 36/80\n",
      "26/26 [==============================] - 0s 1ms/step - loss: 8.6396 - mae: 2.0451\n",
      "Epoch 37/80\n",
      "26/26 [==============================] - 0s 1ms/step - loss: 8.6118 - mae: 2.0645\n",
      "Epoch 38/80\n",
      "26/26 [==============================] - 0s 1ms/step - loss: 8.3617 - mae: 2.0157\n",
      "Epoch 39/80\n",
      "26/26 [==============================] - 0s 1ms/step - loss: 8.4243 - mae: 2.0731\n",
      "Epoch 40/80\n",
      "26/26 [==============================] - 0s 2ms/step - loss: 8.2519 - mae: 2.0315\n",
      "Epoch 41/80\n",
      "26/26 [==============================] - 0s 1ms/step - loss: 8.2451 - mae: 1.9924\n",
      "Epoch 42/80\n",
      "26/26 [==============================] - 0s 2ms/step - loss: 7.9364 - mae: 1.9533\n",
      "Epoch 43/80\n",
      "26/26 [==============================] - 0s 1ms/step - loss: 8.1081 - mae: 1.9668\n",
      "Epoch 44/80\n",
      "26/26 [==============================] - 0s 2ms/step - loss: 7.8625 - mae: 1.9937\n",
      "Epoch 45/80\n",
      "26/26 [==============================] - 0s 1ms/step - loss: 7.7163 - mae: 1.9330\n",
      "Epoch 46/80\n",
      "26/26 [==============================] - 0s 1ms/step - loss: 7.6511 - mae: 1.9477\n",
      "Epoch 47/80\n",
      "26/26 [==============================] - 0s 2ms/step - loss: 7.6568 - mae: 1.9224\n",
      "Epoch 48/80\n",
      "26/26 [==============================] - 0s 1ms/step - loss: 7.5638 - mae: 1.8734\n",
      "Epoch 49/80\n",
      "26/26 [==============================] - 0s 2ms/step - loss: 7.3834 - mae: 1.8943\n",
      "Epoch 50/80\n",
      "26/26 [==============================] - 0s 1ms/step - loss: 7.3923 - mae: 1.8826\n",
      "Epoch 51/80\n",
      "26/26 [==============================] - 0s 2ms/step - loss: 7.2744 - mae: 1.8735\n",
      "Epoch 52/80\n",
      "26/26 [==============================] - 0s 1ms/step - loss: 7.1971 - mae: 1.8413\n",
      "Epoch 53/80\n",
      "26/26 [==============================] - 0s 1ms/step - loss: 7.0707 - mae: 1.8451\n",
      "Epoch 54/80\n",
      "26/26 [==============================] - 0s 1ms/step - loss: 7.1524 - mae: 1.8762\n",
      "Epoch 55/80\n",
      "26/26 [==============================] - 0s 1ms/step - loss: 6.9919 - mae: 1.8381\n",
      "Epoch 56/80\n",
      "26/26 [==============================] - 0s 1ms/step - loss: 7.0164 - mae: 1.8524\n",
      "Epoch 57/80\n",
      "26/26 [==============================] - 0s 1ms/step - loss: 6.8700 - mae: 1.8142\n",
      "Epoch 58/80\n",
      "26/26 [==============================] - 0s 1ms/step - loss: 6.8387 - mae: 1.8355\n",
      "Epoch 59/80\n",
      "26/26 [==============================] - 0s 1ms/step - loss: 6.8233 - mae: 1.7932\n",
      "Epoch 60/80\n",
      "26/26 [==============================] - 0s 1ms/step - loss: 6.7535 - mae: 1.7868\n",
      "Epoch 61/80\n",
      "26/26 [==============================] - 0s 1ms/step - loss: 6.5049 - mae: 1.7717\n",
      "Epoch 62/80\n",
      "26/26 [==============================] - 0s 1ms/step - loss: 6.5408 - mae: 1.7745\n",
      "Epoch 63/80\n",
      "26/26 [==============================] - 0s 1ms/step - loss: 6.6473 - mae: 1.7606\n",
      "Epoch 64/80\n",
      "26/26 [==============================] - 0s 1ms/step - loss: 6.4237 - mae: 1.7381\n",
      "Epoch 65/80\n",
      "26/26 [==============================] - 0s 1ms/step - loss: 6.4759 - mae: 1.7768\n",
      "Epoch 66/80\n",
      "26/26 [==============================] - 0s 1ms/step - loss: 6.2522 - mae: 1.7370\n",
      "Epoch 67/80\n",
      "26/26 [==============================] - 0s 1ms/step - loss: 6.2073 - mae: 1.7342\n",
      "Epoch 68/80\n",
      "26/26 [==============================] - 0s 1ms/step - loss: 6.2217 - mae: 1.7240\n",
      "Epoch 69/80\n",
      "26/26 [==============================] - 0s 1ms/step - loss: 6.4335 - mae: 1.7572\n",
      "Epoch 70/80\n",
      "26/26 [==============================] - 0s 1ms/step - loss: 6.1010 - mae: 1.7222\n",
      "Epoch 71/80\n",
      "26/26 [==============================] - 0s 1ms/step - loss: 6.1426 - mae: 1.6862\n",
      "Epoch 72/80\n",
      "26/26 [==============================] - 0s 1ms/step - loss: 6.0471 - mae: 1.7068\n",
      "Epoch 73/80\n",
      "26/26 [==============================] - 0s 1ms/step - loss: 5.9634 - mae: 1.6989\n",
      "Epoch 74/80\n",
      "26/26 [==============================] - 0s 1ms/step - loss: 5.9642 - mae: 1.6947\n",
      "Epoch 75/80\n",
      "26/26 [==============================] - 0s 1ms/step - loss: 5.9141 - mae: 1.7164\n",
      "Epoch 76/80\n",
      "26/26 [==============================] - 0s 1ms/step - loss: 5.8829 - mae: 1.6778\n",
      "Epoch 77/80\n",
      "26/26 [==============================] - 0s 1ms/step - loss: 5.8477 - mae: 1.6678\n",
      "Epoch 78/80\n",
      "26/26 [==============================] - 0s 1ms/step - loss: 5.7207 - mae: 1.6735\n",
      "Epoch 79/80\n",
      "26/26 [==============================] - 0s 1ms/step - loss: 5.6531 - mae: 1.6791\n",
      "Epoch 80/80\n",
      "26/26 [==============================] - 0s 2ms/step - loss: 5.6975 - mae: 1.6591\n"
     ]
    },
    {
     "data": {
      "text/plain": [
       "<keras.callbacks.History at 0x29001651b50>"
      ]
     },
     "execution_count": 53,
     "metadata": {},
     "output_type": "execute_result"
    }
   ],
   "source": [
    "# 최종 모델 훈련\n",
    "model = build_model()\n",
    "model.fit(train_data, train_targets, epochs=80, batch_size=16)"
   ]
  },
  {
   "cell_type": "code",
   "execution_count": 54,
   "id": "80e60384",
   "metadata": {},
   "outputs": [
    {
     "name": "stdout",
     "output_type": "stream",
     "text": [
      "4/4 [==============================] - 0s 3ms/step - loss: 16.2316 - mae: 2.6410\n"
     ]
    }
   ],
   "source": [
    "test_mse_score, test_mae_score = model.evaluate(test_data, test_targets)"
   ]
  },
  {
   "cell_type": "code",
   "execution_count": 55,
   "id": "3fb7562a",
   "metadata": {},
   "outputs": [
    {
     "data": {
      "text/plain": [
       "2.6409966945648193"
      ]
     },
     "execution_count": 55,
     "metadata": {},
     "output_type": "execute_result"
    }
   ],
   "source": [
    "test_mae_score"
   ]
  }
 ],
 "metadata": {
  "kernelspec": {
   "display_name": "Python 3 (ipykernel)",
   "language": "python",
   "name": "python3"
  },
  "language_info": {
   "codemirror_mode": {
    "name": "ipython",
    "version": 3
   },
   "file_extension": ".py",
   "mimetype": "text/x-python",
   "name": "python",
   "nbconvert_exporter": "python",
   "pygments_lexer": "ipython3",
   "version": "3.9.12"
  }
 },
 "nbformat": 4,
 "nbformat_minor": 5
}
