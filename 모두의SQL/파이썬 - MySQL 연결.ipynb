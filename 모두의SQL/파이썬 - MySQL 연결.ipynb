{
 "cells": [
  {
   "cell_type": "code",
   "execution_count": 3,
   "id": "33fdbc6a",
   "metadata": {},
   "outputs": [],
   "source": [
    "import pymysql"
   ]
  },
  {
   "cell_type": "code",
   "execution_count": 11,
   "id": "61d58f53",
   "metadata": {},
   "outputs": [],
   "source": [
    "conn = pymysql.connect(host='localhost',          # 내 로컬호스트에서 계정(root)로 market_db에 연결\n",
    "                       user='root',\n",
    "                       password='sumin3803',\n",
    "                       db='market_db',\n",
    "                       charset='utf8')"
   ]
  },
  {
   "cell_type": "code",
   "execution_count": 12,
   "id": "b4426618",
   "metadata": {},
   "outputs": [],
   "source": [
    "cur = conn.cursor()"
   ]
  },
  {
   "cell_type": "code",
   "execution_count": 13,
   "id": "63a9d1b3",
   "metadata": {},
   "outputs": [
    {
     "data": {
      "text/plain": [
       "0"
      ]
     },
     "execution_count": 13,
     "metadata": {},
     "output_type": "execute_result"
    }
   ],
   "source": [
    "cur.execute('create table usertable (id char(4), username char(15), email char(20), birthyear int)')"
   ]
  },
  {
   "cell_type": "code",
   "execution_count": 19,
   "id": "0dad3d31",
   "metadata": {},
   "outputs": [
    {
     "data": {
      "text/plain": [
       "1"
      ]
     },
     "execution_count": 19,
     "metadata": {},
     "output_type": "execute_result"
    }
   ],
   "source": [
    "cur.execute(\"insert into usertable value('hong', '홍지윤', 'hong@naver.com', 1996)\")\n",
    "cur.execute(\"insert into usertable value('kim', '김태연', 'kim@daum.net', 2011)\")\n",
    "cur.execute(\"insert into usertable value('star', '별사랑', 'star@paran.com', 1990)\")\n",
    "cur.execute(\"insert into usertable value('yang', '양지은', 'yang@gmail.com', 1993)\")   \n",
    "# 여기서는 value 안의 괄호랑 구분하기 위해 밖의 SQL문 전체에 씌우는 따옴표는 다른 따옴표 사용"
   ]
  },
  {
   "cell_type": "code",
   "execution_count": 21,
   "id": "2801cb00",
   "metadata": {},
   "outputs": [],
   "source": [
    "conn.commit()        # 앞의 입력한 4건의 데이터는 이렇게 커밋을 해주어야 입력이 된다"
   ]
  },
  {
   "cell_type": "code",
   "execution_count": 22,
   "id": "9b98860a",
   "metadata": {},
   "outputs": [],
   "source": [
    "conn.close()         # 데이터베이스 닫기"
   ]
  },
  {
   "cell_type": "markdown",
   "id": "a13113d4",
   "metadata": {},
   "source": [
    "## 데이터 입력프로그램"
   ]
  },
  {
   "cell_type": "code",
   "execution_count": 24,
   "id": "0e66136b",
   "metadata": {},
   "outputs": [],
   "source": [
    "import pymysql\n",
    "\n",
    "conn, cur = None, None\n",
    "data1, data2, data3, data4 = '', '', '', ''\n",
    "sql = ''"
   ]
  },
  {
   "cell_type": "code",
   "execution_count": 25,
   "id": "696e55f7",
   "metadata": {},
   "outputs": [],
   "source": [
    "conn = pymysql.connect(host='localhost', user='root', password='sumin3803', db='market_db', charset='utf8')\n",
    "cur = conn.cursor()"
   ]
  },
  {
   "cell_type": "code",
   "execution_count": 38,
   "id": "f5018270",
   "metadata": {},
   "outputs": [
    {
     "name": "stdout",
     "output_type": "stream",
     "text": [
      "사용자 ID ==> kwak\n",
      "사용자 이름 ==> 수민\n",
      "사용자 이메일 ==> ytnals\n",
      "사용자 출생연도 ==> 1999\n",
      "사용자 ID ==> kaa\n",
      "사용자 이름 ==> kiasda\n",
      "사용자 이메일 ==> taata\n",
      "사용자 출생연도 ==> 223\n",
      "사용자 ID ==> \n"
     ]
    }
   ],
   "source": [
    "while True:\n",
    "    data1 = input('사용자 ID ==> ')\n",
    "    if data1 == '':\n",
    "        break\n",
    "    data2 = input('사용자 이름 ==> ')\n",
    "    data3 = input('사용자 이메일 ==> ')\n",
    "    data4 = input('사용자 출생연도 ==> ')\n",
    "    sql = \"insert into usertable values('\" + data1 + \"', '\" + data2 + \"', '\" + data3 + \"',\" + data4 + \")\"\n",
    "    cur.execute(sql)"
   ]
  },
  {
   "cell_type": "code",
   "execution_count": 41,
   "id": "3c48a20f",
   "metadata": {},
   "outputs": [],
   "source": [
    "conn.commit()"
   ]
  },
  {
   "cell_type": "code",
   "execution_count": null,
   "id": "a3b191dd",
   "metadata": {},
   "outputs": [],
   "source": []
  },
  {
   "cell_type": "markdown",
   "id": "ef10431f",
   "metadata": {},
   "source": [
    "## 데이터 출력(조회) 프로그램"
   ]
  },
  {
   "cell_type": "code",
   "execution_count": 43,
   "id": "d2ee9610",
   "metadata": {},
   "outputs": [],
   "source": [
    "import pymysql\n",
    "\n",
    "conn, cur = None, None\n",
    "data1, data2, data3, data4 = '', '', '', ''\n",
    "row = None"
   ]
  },
  {
   "cell_type": "code",
   "execution_count": 44,
   "id": "8ec0f2d9",
   "metadata": {},
   "outputs": [],
   "source": [
    "conn = pymysql.connect(host='localhost', user='root', password='sumin3803', db='market_db', charset='utf8')\n",
    "cur = conn.cursor()"
   ]
  },
  {
   "cell_type": "code",
   "execution_count": 46,
   "id": "efd8f408",
   "metadata": {},
   "outputs": [
    {
     "data": {
      "text/plain": [
       "6"
      ]
     },
     "execution_count": 46,
     "metadata": {},
     "output_type": "execute_result"
    }
   ],
   "source": [
    "cur.execute('select * from usertable')      # 그냥 이것만 치면 제대로 안나옴"
   ]
  },
  {
   "cell_type": "code",
   "execution_count": 48,
   "id": "eb3d706b",
   "metadata": {},
   "outputs": [
    {
     "name": "stdout",
     "output_type": "stream",
     "text": [
      "사용자ID     사용자이름     이메일     출생연도\n",
      "------------------------------------------------\n",
      "hong     홍지윤     hong@naver.com     1996\n",
      "kim     김태연     kim@daum.net     2011\n",
      "star     별사랑     star@paran.com     1990\n",
      "yang     양지은     yang@gmail.com     1993\n",
      "kwak     수민     ytnals     1999\n",
      "kaa     kiasda     taata     223\n"
     ]
    }
   ],
   "source": [
    "print('사용자ID     사용자이름     이메일     출생연도')\n",
    "print('------------------------------------------------')\n",
    "\n",
    "while True:\n",
    "    row = cur.fetchone()    # 결과를 한행씩 출력\n",
    "    if row == None:\n",
    "        break\n",
    "    data1 = row[0]\n",
    "    data2 = row[1]\n",
    "    data3 = row[2]\n",
    "    data4 = row[3]\n",
    "    print('{}     {}     {}     {}'.format(data1, data2, data3, data4))"
   ]
  },
  {
   "cell_type": "code",
   "execution_count": 49,
   "id": "68e1b342",
   "metadata": {},
   "outputs": [],
   "source": [
    "conn.close()"
   ]
  },
  {
   "cell_type": "markdown",
   "id": "5b77adf5",
   "metadata": {},
   "source": [
    "이외 tkinter 등을 통해 시각화해 GUI로 할 수도 있음"
   ]
  }
 ],
 "metadata": {
  "kernelspec": {
   "display_name": "Python 3 (ipykernel)",
   "language": "python",
   "name": "python3"
  },
  "language_info": {
   "codemirror_mode": {
    "name": "ipython",
    "version": 3
   },
   "file_extension": ".py",
   "mimetype": "text/x-python",
   "name": "python",
   "nbconvert_exporter": "python",
   "pygments_lexer": "ipython3",
   "version": "3.9.12"
  }
 },
 "nbformat": 4,
 "nbformat_minor": 5
}
